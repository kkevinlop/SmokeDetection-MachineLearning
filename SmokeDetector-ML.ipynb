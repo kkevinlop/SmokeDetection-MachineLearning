{
  "nbformat": 4,
  "nbformat_minor": 0,
  "metadata": {
    "colab": {
      "provenance": [],
      "toc_visible": true
    },
    "kernelspec": {
      "name": "python3",
      "display_name": "Python 3"
    },
    "language_info": {
      "name": "python"
    }
  },
  "cells": [
    {
      "cell_type": "markdown",
      "source": [
        "# 1. Data Pre-processing"
      ],
      "metadata": {
        "id": "w5IaQrSxd3oz"
      }
    },
    {
      "cell_type": "markdown",
      "source": [
        "## 1.1 Import Libraries"
      ],
      "metadata": {
        "id": "SqPrumMNd7lo"
      }
    },
    {
      "cell_type": "code",
      "source": [
        "import numpy as np\n",
        "import pandas as pd\n",
        "import matplotlib.pyplot as plt\n",
        "import seaborn as sns"
      ],
      "metadata": {
        "id": "cMPM9U2rd_R9"
      },
      "execution_count": null,
      "outputs": []
    },
    {
      "cell_type": "code",
      "source": [
        "smokedet = pd.read_csv(\"smoke_detection_iot.csv\",index_col=0)\n",
        "smokedet"
      ],
      "metadata": {
        "colab": {
          "base_uri": "https://localhost:8080/",
          "height": 505
        },
        "id": "OGNrqCIed_YP",
        "outputId": "1c070c89-7faf-475a-9e82-f03c15846d21"
      },
      "execution_count": null,
      "outputs": [
        {
          "output_type": "execute_result",
          "data": {
            "text/plain": [
              "              UTC  Temperature[C]  Humidity[%]  TVOC[ppb]  eCO2[ppm]  Raw H2  \\\n",
              "0      1654733331          20.000        57.36          0        400   12306   \n",
              "1      1654733332          20.015        56.67          0        400   12345   \n",
              "2      1654733333          20.029        55.96          0        400   12374   \n",
              "3      1654733334          20.044        55.28          0        400   12390   \n",
              "4      1654733335          20.059        54.69          0        400   12403   \n",
              "...           ...             ...          ...        ...        ...     ...   \n",
              "62625  1655130047          18.438        15.79        625        400   13723   \n",
              "62626  1655130048          18.653        15.87        612        400   13731   \n",
              "62627  1655130049          18.867        15.84        627        400   13725   \n",
              "62628  1655130050          19.083        16.04        638        400   13712   \n",
              "62629  1655130051          19.299        16.52        643        400   13696   \n",
              "\n",
              "       Raw Ethanol  Pressure[hPa]  PM1.0  PM2.5  NC0.5  NC1.0  NC2.5   CNT  \\\n",
              "0            18520        939.735   0.00   0.00   0.00  0.000  0.000     0   \n",
              "1            18651        939.744   0.00   0.00   0.00  0.000  0.000     1   \n",
              "2            18764        939.738   0.00   0.00   0.00  0.000  0.000     2   \n",
              "3            18849        939.736   0.00   0.00   0.00  0.000  0.000     3   \n",
              "4            18921        939.744   0.00   0.00   0.00  0.000  0.000     4   \n",
              "...            ...            ...    ...    ...    ...    ...    ...   ...   \n",
              "62625        20569        936.670   0.63   0.65   4.32  0.673  0.015  5739   \n",
              "62626        20588        936.678   0.61   0.63   4.18  0.652  0.015  5740   \n",
              "62627        20582        936.687   0.57   0.60   3.95  0.617  0.014  5741   \n",
              "62628        20566        936.680   0.57   0.59   3.92  0.611  0.014  5742   \n",
              "62629        20543        936.676   0.57   0.59   3.90  0.607  0.014  5743   \n",
              "\n",
              "       Fire Alarm  \n",
              "0               0  \n",
              "1               0  \n",
              "2               0  \n",
              "3               0  \n",
              "4               0  \n",
              "...           ...  \n",
              "62625           0  \n",
              "62626           0  \n",
              "62627           0  \n",
              "62628           0  \n",
              "62629           0  \n",
              "\n",
              "[62630 rows x 15 columns]"
            ],
            "text/html": [
              "\n",
              "  <div id=\"df-14a3a8f9-cb11-4016-8cfe-af0aa4abec6d\">\n",
              "    <div class=\"colab-df-container\">\n",
              "      <div>\n",
              "<style scoped>\n",
              "    .dataframe tbody tr th:only-of-type {\n",
              "        vertical-align: middle;\n",
              "    }\n",
              "\n",
              "    .dataframe tbody tr th {\n",
              "        vertical-align: top;\n",
              "    }\n",
              "\n",
              "    .dataframe thead th {\n",
              "        text-align: right;\n",
              "    }\n",
              "</style>\n",
              "<table border=\"1\" class=\"dataframe\">\n",
              "  <thead>\n",
              "    <tr style=\"text-align: right;\">\n",
              "      <th></th>\n",
              "      <th>UTC</th>\n",
              "      <th>Temperature[C]</th>\n",
              "      <th>Humidity[%]</th>\n",
              "      <th>TVOC[ppb]</th>\n",
              "      <th>eCO2[ppm]</th>\n",
              "      <th>Raw H2</th>\n",
              "      <th>Raw Ethanol</th>\n",
              "      <th>Pressure[hPa]</th>\n",
              "      <th>PM1.0</th>\n",
              "      <th>PM2.5</th>\n",
              "      <th>NC0.5</th>\n",
              "      <th>NC1.0</th>\n",
              "      <th>NC2.5</th>\n",
              "      <th>CNT</th>\n",
              "      <th>Fire Alarm</th>\n",
              "    </tr>\n",
              "  </thead>\n",
              "  <tbody>\n",
              "    <tr>\n",
              "      <th>0</th>\n",
              "      <td>1654733331</td>\n",
              "      <td>20.000</td>\n",
              "      <td>57.36</td>\n",
              "      <td>0</td>\n",
              "      <td>400</td>\n",
              "      <td>12306</td>\n",
              "      <td>18520</td>\n",
              "      <td>939.735</td>\n",
              "      <td>0.00</td>\n",
              "      <td>0.00</td>\n",
              "      <td>0.00</td>\n",
              "      <td>0.000</td>\n",
              "      <td>0.000</td>\n",
              "      <td>0</td>\n",
              "      <td>0</td>\n",
              "    </tr>\n",
              "    <tr>\n",
              "      <th>1</th>\n",
              "      <td>1654733332</td>\n",
              "      <td>20.015</td>\n",
              "      <td>56.67</td>\n",
              "      <td>0</td>\n",
              "      <td>400</td>\n",
              "      <td>12345</td>\n",
              "      <td>18651</td>\n",
              "      <td>939.744</td>\n",
              "      <td>0.00</td>\n",
              "      <td>0.00</td>\n",
              "      <td>0.00</td>\n",
              "      <td>0.000</td>\n",
              "      <td>0.000</td>\n",
              "      <td>1</td>\n",
              "      <td>0</td>\n",
              "    </tr>\n",
              "    <tr>\n",
              "      <th>2</th>\n",
              "      <td>1654733333</td>\n",
              "      <td>20.029</td>\n",
              "      <td>55.96</td>\n",
              "      <td>0</td>\n",
              "      <td>400</td>\n",
              "      <td>12374</td>\n",
              "      <td>18764</td>\n",
              "      <td>939.738</td>\n",
              "      <td>0.00</td>\n",
              "      <td>0.00</td>\n",
              "      <td>0.00</td>\n",
              "      <td>0.000</td>\n",
              "      <td>0.000</td>\n",
              "      <td>2</td>\n",
              "      <td>0</td>\n",
              "    </tr>\n",
              "    <tr>\n",
              "      <th>3</th>\n",
              "      <td>1654733334</td>\n",
              "      <td>20.044</td>\n",
              "      <td>55.28</td>\n",
              "      <td>0</td>\n",
              "      <td>400</td>\n",
              "      <td>12390</td>\n",
              "      <td>18849</td>\n",
              "      <td>939.736</td>\n",
              "      <td>0.00</td>\n",
              "      <td>0.00</td>\n",
              "      <td>0.00</td>\n",
              "      <td>0.000</td>\n",
              "      <td>0.000</td>\n",
              "      <td>3</td>\n",
              "      <td>0</td>\n",
              "    </tr>\n",
              "    <tr>\n",
              "      <th>4</th>\n",
              "      <td>1654733335</td>\n",
              "      <td>20.059</td>\n",
              "      <td>54.69</td>\n",
              "      <td>0</td>\n",
              "      <td>400</td>\n",
              "      <td>12403</td>\n",
              "      <td>18921</td>\n",
              "      <td>939.744</td>\n",
              "      <td>0.00</td>\n",
              "      <td>0.00</td>\n",
              "      <td>0.00</td>\n",
              "      <td>0.000</td>\n",
              "      <td>0.000</td>\n",
              "      <td>4</td>\n",
              "      <td>0</td>\n",
              "    </tr>\n",
              "    <tr>\n",
              "      <th>...</th>\n",
              "      <td>...</td>\n",
              "      <td>...</td>\n",
              "      <td>...</td>\n",
              "      <td>...</td>\n",
              "      <td>...</td>\n",
              "      <td>...</td>\n",
              "      <td>...</td>\n",
              "      <td>...</td>\n",
              "      <td>...</td>\n",
              "      <td>...</td>\n",
              "      <td>...</td>\n",
              "      <td>...</td>\n",
              "      <td>...</td>\n",
              "      <td>...</td>\n",
              "      <td>...</td>\n",
              "    </tr>\n",
              "    <tr>\n",
              "      <th>62625</th>\n",
              "      <td>1655130047</td>\n",
              "      <td>18.438</td>\n",
              "      <td>15.79</td>\n",
              "      <td>625</td>\n",
              "      <td>400</td>\n",
              "      <td>13723</td>\n",
              "      <td>20569</td>\n",
              "      <td>936.670</td>\n",
              "      <td>0.63</td>\n",
              "      <td>0.65</td>\n",
              "      <td>4.32</td>\n",
              "      <td>0.673</td>\n",
              "      <td>0.015</td>\n",
              "      <td>5739</td>\n",
              "      <td>0</td>\n",
              "    </tr>\n",
              "    <tr>\n",
              "      <th>62626</th>\n",
              "      <td>1655130048</td>\n",
              "      <td>18.653</td>\n",
              "      <td>15.87</td>\n",
              "      <td>612</td>\n",
              "      <td>400</td>\n",
              "      <td>13731</td>\n",
              "      <td>20588</td>\n",
              "      <td>936.678</td>\n",
              "      <td>0.61</td>\n",
              "      <td>0.63</td>\n",
              "      <td>4.18</td>\n",
              "      <td>0.652</td>\n",
              "      <td>0.015</td>\n",
              "      <td>5740</td>\n",
              "      <td>0</td>\n",
              "    </tr>\n",
              "    <tr>\n",
              "      <th>62627</th>\n",
              "      <td>1655130049</td>\n",
              "      <td>18.867</td>\n",
              "      <td>15.84</td>\n",
              "      <td>627</td>\n",
              "      <td>400</td>\n",
              "      <td>13725</td>\n",
              "      <td>20582</td>\n",
              "      <td>936.687</td>\n",
              "      <td>0.57</td>\n",
              "      <td>0.60</td>\n",
              "      <td>3.95</td>\n",
              "      <td>0.617</td>\n",
              "      <td>0.014</td>\n",
              "      <td>5741</td>\n",
              "      <td>0</td>\n",
              "    </tr>\n",
              "    <tr>\n",
              "      <th>62628</th>\n",
              "      <td>1655130050</td>\n",
              "      <td>19.083</td>\n",
              "      <td>16.04</td>\n",
              "      <td>638</td>\n",
              "      <td>400</td>\n",
              "      <td>13712</td>\n",
              "      <td>20566</td>\n",
              "      <td>936.680</td>\n",
              "      <td>0.57</td>\n",
              "      <td>0.59</td>\n",
              "      <td>3.92</td>\n",
              "      <td>0.611</td>\n",
              "      <td>0.014</td>\n",
              "      <td>5742</td>\n",
              "      <td>0</td>\n",
              "    </tr>\n",
              "    <tr>\n",
              "      <th>62629</th>\n",
              "      <td>1655130051</td>\n",
              "      <td>19.299</td>\n",
              "      <td>16.52</td>\n",
              "      <td>643</td>\n",
              "      <td>400</td>\n",
              "      <td>13696</td>\n",
              "      <td>20543</td>\n",
              "      <td>936.676</td>\n",
              "      <td>0.57</td>\n",
              "      <td>0.59</td>\n",
              "      <td>3.90</td>\n",
              "      <td>0.607</td>\n",
              "      <td>0.014</td>\n",
              "      <td>5743</td>\n",
              "      <td>0</td>\n",
              "    </tr>\n",
              "  </tbody>\n",
              "</table>\n",
              "<p>62630 rows × 15 columns</p>\n",
              "</div>\n",
              "      <button class=\"colab-df-convert\" onclick=\"convertToInteractive('df-14a3a8f9-cb11-4016-8cfe-af0aa4abec6d')\"\n",
              "              title=\"Convert this dataframe to an interactive table.\"\n",
              "              style=\"display:none;\">\n",
              "        \n",
              "  <svg xmlns=\"http://www.w3.org/2000/svg\" height=\"24px\"viewBox=\"0 0 24 24\"\n",
              "       width=\"24px\">\n",
              "    <path d=\"M0 0h24v24H0V0z\" fill=\"none\"/>\n",
              "    <path d=\"M18.56 5.44l.94 2.06.94-2.06 2.06-.94-2.06-.94-.94-2.06-.94 2.06-2.06.94zm-11 1L8.5 8.5l.94-2.06 2.06-.94-2.06-.94L8.5 2.5l-.94 2.06-2.06.94zm10 10l.94 2.06.94-2.06 2.06-.94-2.06-.94-.94-2.06-.94 2.06-2.06.94z\"/><path d=\"M17.41 7.96l-1.37-1.37c-.4-.4-.92-.59-1.43-.59-.52 0-1.04.2-1.43.59L10.3 9.45l-7.72 7.72c-.78.78-.78 2.05 0 2.83L4 21.41c.39.39.9.59 1.41.59.51 0 1.02-.2 1.41-.59l7.78-7.78 2.81-2.81c.8-.78.8-2.07 0-2.86zM5.41 20L4 18.59l7.72-7.72 1.47 1.35L5.41 20z\"/>\n",
              "  </svg>\n",
              "      </button>\n",
              "      \n",
              "  <style>\n",
              "    .colab-df-container {\n",
              "      display:flex;\n",
              "      flex-wrap:wrap;\n",
              "      gap: 12px;\n",
              "    }\n",
              "\n",
              "    .colab-df-convert {\n",
              "      background-color: #E8F0FE;\n",
              "      border: none;\n",
              "      border-radius: 50%;\n",
              "      cursor: pointer;\n",
              "      display: none;\n",
              "      fill: #1967D2;\n",
              "      height: 32px;\n",
              "      padding: 0 0 0 0;\n",
              "      width: 32px;\n",
              "    }\n",
              "\n",
              "    .colab-df-convert:hover {\n",
              "      background-color: #E2EBFA;\n",
              "      box-shadow: 0px 1px 2px rgba(60, 64, 67, 0.3), 0px 1px 3px 1px rgba(60, 64, 67, 0.15);\n",
              "      fill: #174EA6;\n",
              "    }\n",
              "\n",
              "    [theme=dark] .colab-df-convert {\n",
              "      background-color: #3B4455;\n",
              "      fill: #D2E3FC;\n",
              "    }\n",
              "\n",
              "    [theme=dark] .colab-df-convert:hover {\n",
              "      background-color: #434B5C;\n",
              "      box-shadow: 0px 1px 3px 1px rgba(0, 0, 0, 0.15);\n",
              "      filter: drop-shadow(0px 1px 2px rgba(0, 0, 0, 0.3));\n",
              "      fill: #FFFFFF;\n",
              "    }\n",
              "  </style>\n",
              "\n",
              "      <script>\n",
              "        const buttonEl =\n",
              "          document.querySelector('#df-14a3a8f9-cb11-4016-8cfe-af0aa4abec6d button.colab-df-convert');\n",
              "        buttonEl.style.display =\n",
              "          google.colab.kernel.accessAllowed ? 'block' : 'none';\n",
              "\n",
              "        async function convertToInteractive(key) {\n",
              "          const element = document.querySelector('#df-14a3a8f9-cb11-4016-8cfe-af0aa4abec6d');\n",
              "          const dataTable =\n",
              "            await google.colab.kernel.invokeFunction('convertToInteractive',\n",
              "                                                     [key], {});\n",
              "          if (!dataTable) return;\n",
              "\n",
              "          const docLinkHtml = 'Like what you see? Visit the ' +\n",
              "            '<a target=\"_blank\" href=https://colab.research.google.com/notebooks/data_table.ipynb>data table notebook</a>'\n",
              "            + ' to learn more about interactive tables.';\n",
              "          element.innerHTML = '';\n",
              "          dataTable['output_type'] = 'display_data';\n",
              "          await google.colab.output.renderOutput(dataTable, element);\n",
              "          const docLink = document.createElement('div');\n",
              "          docLink.innerHTML = docLinkHtml;\n",
              "          element.appendChild(docLink);\n",
              "        }\n",
              "      </script>\n",
              "    </div>\n",
              "  </div>\n",
              "  "
            ]
          },
          "metadata": {},
          "execution_count": 2
        }
      ]
    },
    {
      "cell_type": "code",
      "execution_count": null,
      "metadata": {
        "colab": {
          "base_uri": "https://localhost:8080/"
        },
        "id": "8z6dxG5Vdq5b",
        "outputId": "bfde2f78-f7a1-4922-fc5c-43b3e3e1d004"
      },
      "outputs": [
        {
          "output_type": "execute_result",
          "data": {
            "text/plain": [
              "Index(['UTC', 'Temperature[C]', 'Humidity[%]', 'TVOC[ppb]', 'eCO2[ppm]',\n",
              "       'Raw H2', 'Raw Ethanol', 'Pressure[hPa]', 'PM1.0', 'PM2.5', 'NC0.5',\n",
              "       'NC1.0', 'NC2.5', 'CNT', 'Fire Alarm'],\n",
              "      dtype='object')"
            ]
          },
          "metadata": {},
          "execution_count": 3
        }
      ],
      "source": [
        "smokedet.keys()"
      ]
    },
    {
      "cell_type": "markdown",
      "source": [
        "## 1.2 Data Cleaning"
      ],
      "metadata": {
        "id": "nKxCC8quecFK"
      }
    },
    {
      "cell_type": "markdown",
      "source": [
        "### 1.2.1 Familiarize with the Data Set"
      ],
      "metadata": {
        "id": "WS63bFRXfb4Y"
      }
    },
    {
      "cell_type": "markdown",
      "source": [
        "The first step is to ensure that we already familiar with the data inside the dataset that we used. For this step, we could use smokedet.info() to show the names of the attributes, the total of the data, and the type of the data."
      ],
      "metadata": {
        "id": "C0M419hqeiPe"
      }
    },
    {
      "cell_type": "code",
      "source": [
        "smokedet.info()"
      ],
      "metadata": {
        "colab": {
          "base_uri": "https://localhost:8080/"
        },
        "id": "UiiRrNUdeeGy",
        "outputId": "2bb2b763-1606-4fe3-aa44-9f088e8255e7"
      },
      "execution_count": null,
      "outputs": [
        {
          "output_type": "stream",
          "name": "stdout",
          "text": [
            "<class 'pandas.core.frame.DataFrame'>\n",
            "Int64Index: 62630 entries, 0 to 62629\n",
            "Data columns (total 15 columns):\n",
            " #   Column          Non-Null Count  Dtype  \n",
            "---  ------          --------------  -----  \n",
            " 0   UTC             62630 non-null  int64  \n",
            " 1   Temperature[C]  62630 non-null  float64\n",
            " 2   Humidity[%]     62630 non-null  float64\n",
            " 3   TVOC[ppb]       62630 non-null  int64  \n",
            " 4   eCO2[ppm]       62630 non-null  int64  \n",
            " 5   Raw H2          62630 non-null  int64  \n",
            " 6   Raw Ethanol     62630 non-null  int64  \n",
            " 7   Pressure[hPa]   62630 non-null  float64\n",
            " 8   PM1.0           62630 non-null  float64\n",
            " 9   PM2.5           62630 non-null  float64\n",
            " 10  NC0.5           62630 non-null  float64\n",
            " 11  NC1.0           62630 non-null  float64\n",
            " 12  NC2.5           62630 non-null  float64\n",
            " 13  CNT             62630 non-null  int64  \n",
            " 14  Fire Alarm      62630 non-null  int64  \n",
            "dtypes: float64(8), int64(7)\n",
            "memory usage: 7.6 MB\n"
          ]
        }
      ]
    },
    {
      "cell_type": "markdown",
      "source": [
        "From the output, it can be concluded that dataset size is [62,630 x 15], which means that there are 62,630 rows in each of the 15 columns. The columns represent the attributes if the data. The attributes consist of 8 float data types, and 7 integer data types, which every data is in numerical state, not categorical."
      ],
      "metadata": {
        "id": "AAQnnWx4esU2"
      }
    },
    {
      "cell_type": "markdown",
      "source": [
        "### 1.2.2 Check Structural Errors"
      ],
      "metadata": {
        "id": "HajuxTMcfVvb"
      }
    },
    {
      "cell_type": "markdown",
      "source": [
        "This step is actually to ensure the data is in character/string form. But as we can see from the step before, all of the data is in numerical, not string data types, so we can skip this step. However, we can use this step to see the value of the response variable that we chose, which is fire alarm. Since we would use decision tree and gradient boosting, we must ensure that the data is only in binary number, either 0 or 1."
      ],
      "metadata": {
        "id": "gSRA8oxAfUyL"
      }
    },
    {
      "cell_type": "code",
      "source": [
        "smokedet['Fire Alarm'].unique()"
      ],
      "metadata": {
        "colab": {
          "base_uri": "https://localhost:8080/"
        },
        "id": "pgCtz1NufjC5",
        "outputId": "cfecf465-4a9e-46d4-f9c2-a80f9f051b22"
      },
      "execution_count": null,
      "outputs": [
        {
          "output_type": "execute_result",
          "data": {
            "text/plain": [
              "array([0, 1])"
            ]
          },
          "metadata": {},
          "execution_count": 5
        }
      ]
    },
    {
      "cell_type": "code",
      "source": [
        "smokedet[smokedet['Fire Alarm'] == 0]['Fire Alarm'].count()"
      ],
      "metadata": {
        "colab": {
          "base_uri": "https://localhost:8080/"
        },
        "id": "PNpA32aDelSA",
        "outputId": "f04d747b-9b0a-4d53-ec99-0e18b875eb33"
      },
      "execution_count": null,
      "outputs": [
        {
          "output_type": "execute_result",
          "data": {
            "text/plain": [
              "17873"
            ]
          },
          "metadata": {},
          "execution_count": 6
        }
      ]
    },
    {
      "cell_type": "code",
      "source": [
        "smokedet[smokedet['Fire Alarm'] == 1]['Fire Alarm'].count()"
      ],
      "metadata": {
        "colab": {
          "base_uri": "https://localhost:8080/"
        },
        "id": "deCRkOXsfL0o",
        "outputId": "7c33f029-a5d0-42d7-c305-75e0efdd1e40"
      },
      "execution_count": null,
      "outputs": [
        {
          "output_type": "execute_result",
          "data": {
            "text/plain": [
              "44757"
            ]
          },
          "metadata": {},
          "execution_count": 7
        }
      ]
    },
    {
      "cell_type": "markdown",
      "source": [
        "The result above shown that the variable 'Fire Alarm' only consists of 0 and 1, which means that this variable can be identified as binary and used as response variable to do the modelling and prediction of the dataset."
      ],
      "metadata": {
        "id": "8Tk6yX6afpEY"
      }
    },
    {
      "cell_type": "markdown",
      "source": [
        "### 1.2.3 Handling Missing Values"
      ],
      "metadata": {
        "id": "1mkene8_gBFK"
      }
    },
    {
      "cell_type": "code",
      "source": [
        "total = smokedet.isnull().sum().sort_values(ascending=False)\n",
        "percent=(smokedet.isnull().sum()/smokedet.isnull().count()).sort_values(ascending=False)\n",
        "missingData = pd.concat([total,percent],axis=1,keys=['Total','Percent'])\n",
        "missingData.head(15)"
      ],
      "metadata": {
        "colab": {
          "base_uri": "https://localhost:8080/",
          "height": 519
        },
        "id": "FaC4d4gsfnie",
        "outputId": "6faaa5cf-4d39-4d98-dbb8-5fcf0ebfe17b"
      },
      "execution_count": null,
      "outputs": [
        {
          "output_type": "execute_result",
          "data": {
            "text/plain": [
              "                Total  Percent\n",
              "UTC                 0      0.0\n",
              "Temperature[C]      0      0.0\n",
              "Humidity[%]         0      0.0\n",
              "TVOC[ppb]           0      0.0\n",
              "eCO2[ppm]           0      0.0\n",
              "Raw H2              0      0.0\n",
              "Raw Ethanol         0      0.0\n",
              "Pressure[hPa]       0      0.0\n",
              "PM1.0               0      0.0\n",
              "PM2.5               0      0.0\n",
              "NC0.5               0      0.0\n",
              "NC1.0               0      0.0\n",
              "NC2.5               0      0.0\n",
              "CNT                 0      0.0\n",
              "Fire Alarm          0      0.0"
            ],
            "text/html": [
              "\n",
              "  <div id=\"df-2c737d09-d6e6-4aca-84b2-fef8a9436359\">\n",
              "    <div class=\"colab-df-container\">\n",
              "      <div>\n",
              "<style scoped>\n",
              "    .dataframe tbody tr th:only-of-type {\n",
              "        vertical-align: middle;\n",
              "    }\n",
              "\n",
              "    .dataframe tbody tr th {\n",
              "        vertical-align: top;\n",
              "    }\n",
              "\n",
              "    .dataframe thead th {\n",
              "        text-align: right;\n",
              "    }\n",
              "</style>\n",
              "<table border=\"1\" class=\"dataframe\">\n",
              "  <thead>\n",
              "    <tr style=\"text-align: right;\">\n",
              "      <th></th>\n",
              "      <th>Total</th>\n",
              "      <th>Percent</th>\n",
              "    </tr>\n",
              "  </thead>\n",
              "  <tbody>\n",
              "    <tr>\n",
              "      <th>UTC</th>\n",
              "      <td>0</td>\n",
              "      <td>0.0</td>\n",
              "    </tr>\n",
              "    <tr>\n",
              "      <th>Temperature[C]</th>\n",
              "      <td>0</td>\n",
              "      <td>0.0</td>\n",
              "    </tr>\n",
              "    <tr>\n",
              "      <th>Humidity[%]</th>\n",
              "      <td>0</td>\n",
              "      <td>0.0</td>\n",
              "    </tr>\n",
              "    <tr>\n",
              "      <th>TVOC[ppb]</th>\n",
              "      <td>0</td>\n",
              "      <td>0.0</td>\n",
              "    </tr>\n",
              "    <tr>\n",
              "      <th>eCO2[ppm]</th>\n",
              "      <td>0</td>\n",
              "      <td>0.0</td>\n",
              "    </tr>\n",
              "    <tr>\n",
              "      <th>Raw H2</th>\n",
              "      <td>0</td>\n",
              "      <td>0.0</td>\n",
              "    </tr>\n",
              "    <tr>\n",
              "      <th>Raw Ethanol</th>\n",
              "      <td>0</td>\n",
              "      <td>0.0</td>\n",
              "    </tr>\n",
              "    <tr>\n",
              "      <th>Pressure[hPa]</th>\n",
              "      <td>0</td>\n",
              "      <td>0.0</td>\n",
              "    </tr>\n",
              "    <tr>\n",
              "      <th>PM1.0</th>\n",
              "      <td>0</td>\n",
              "      <td>0.0</td>\n",
              "    </tr>\n",
              "    <tr>\n",
              "      <th>PM2.5</th>\n",
              "      <td>0</td>\n",
              "      <td>0.0</td>\n",
              "    </tr>\n",
              "    <tr>\n",
              "      <th>NC0.5</th>\n",
              "      <td>0</td>\n",
              "      <td>0.0</td>\n",
              "    </tr>\n",
              "    <tr>\n",
              "      <th>NC1.0</th>\n",
              "      <td>0</td>\n",
              "      <td>0.0</td>\n",
              "    </tr>\n",
              "    <tr>\n",
              "      <th>NC2.5</th>\n",
              "      <td>0</td>\n",
              "      <td>0.0</td>\n",
              "    </tr>\n",
              "    <tr>\n",
              "      <th>CNT</th>\n",
              "      <td>0</td>\n",
              "      <td>0.0</td>\n",
              "    </tr>\n",
              "    <tr>\n",
              "      <th>Fire Alarm</th>\n",
              "      <td>0</td>\n",
              "      <td>0.0</td>\n",
              "    </tr>\n",
              "  </tbody>\n",
              "</table>\n",
              "</div>\n",
              "      <button class=\"colab-df-convert\" onclick=\"convertToInteractive('df-2c737d09-d6e6-4aca-84b2-fef8a9436359')\"\n",
              "              title=\"Convert this dataframe to an interactive table.\"\n",
              "              style=\"display:none;\">\n",
              "        \n",
              "  <svg xmlns=\"http://www.w3.org/2000/svg\" height=\"24px\"viewBox=\"0 0 24 24\"\n",
              "       width=\"24px\">\n",
              "    <path d=\"M0 0h24v24H0V0z\" fill=\"none\"/>\n",
              "    <path d=\"M18.56 5.44l.94 2.06.94-2.06 2.06-.94-2.06-.94-.94-2.06-.94 2.06-2.06.94zm-11 1L8.5 8.5l.94-2.06 2.06-.94-2.06-.94L8.5 2.5l-.94 2.06-2.06.94zm10 10l.94 2.06.94-2.06 2.06-.94-2.06-.94-.94-2.06-.94 2.06-2.06.94z\"/><path d=\"M17.41 7.96l-1.37-1.37c-.4-.4-.92-.59-1.43-.59-.52 0-1.04.2-1.43.59L10.3 9.45l-7.72 7.72c-.78.78-.78 2.05 0 2.83L4 21.41c.39.39.9.59 1.41.59.51 0 1.02-.2 1.41-.59l7.78-7.78 2.81-2.81c.8-.78.8-2.07 0-2.86zM5.41 20L4 18.59l7.72-7.72 1.47 1.35L5.41 20z\"/>\n",
              "  </svg>\n",
              "      </button>\n",
              "      \n",
              "  <style>\n",
              "    .colab-df-container {\n",
              "      display:flex;\n",
              "      flex-wrap:wrap;\n",
              "      gap: 12px;\n",
              "    }\n",
              "\n",
              "    .colab-df-convert {\n",
              "      background-color: #E8F0FE;\n",
              "      border: none;\n",
              "      border-radius: 50%;\n",
              "      cursor: pointer;\n",
              "      display: none;\n",
              "      fill: #1967D2;\n",
              "      height: 32px;\n",
              "      padding: 0 0 0 0;\n",
              "      width: 32px;\n",
              "    }\n",
              "\n",
              "    .colab-df-convert:hover {\n",
              "      background-color: #E2EBFA;\n",
              "      box-shadow: 0px 1px 2px rgba(60, 64, 67, 0.3), 0px 1px 3px 1px rgba(60, 64, 67, 0.15);\n",
              "      fill: #174EA6;\n",
              "    }\n",
              "\n",
              "    [theme=dark] .colab-df-convert {\n",
              "      background-color: #3B4455;\n",
              "      fill: #D2E3FC;\n",
              "    }\n",
              "\n",
              "    [theme=dark] .colab-df-convert:hover {\n",
              "      background-color: #434B5C;\n",
              "      box-shadow: 0px 1px 3px 1px rgba(0, 0, 0, 0.15);\n",
              "      filter: drop-shadow(0px 1px 2px rgba(0, 0, 0, 0.3));\n",
              "      fill: #FFFFFF;\n",
              "    }\n",
              "  </style>\n",
              "\n",
              "      <script>\n",
              "        const buttonEl =\n",
              "          document.querySelector('#df-2c737d09-d6e6-4aca-84b2-fef8a9436359 button.colab-df-convert');\n",
              "        buttonEl.style.display =\n",
              "          google.colab.kernel.accessAllowed ? 'block' : 'none';\n",
              "\n",
              "        async function convertToInteractive(key) {\n",
              "          const element = document.querySelector('#df-2c737d09-d6e6-4aca-84b2-fef8a9436359');\n",
              "          const dataTable =\n",
              "            await google.colab.kernel.invokeFunction('convertToInteractive',\n",
              "                                                     [key], {});\n",
              "          if (!dataTable) return;\n",
              "\n",
              "          const docLinkHtml = 'Like what you see? Visit the ' +\n",
              "            '<a target=\"_blank\" href=https://colab.research.google.com/notebooks/data_table.ipynb>data table notebook</a>'\n",
              "            + ' to learn more about interactive tables.';\n",
              "          element.innerHTML = '';\n",
              "          dataTable['output_type'] = 'display_data';\n",
              "          await google.colab.output.renderOutput(dataTable, element);\n",
              "          const docLink = document.createElement('div');\n",
              "          docLink.innerHTML = docLinkHtml;\n",
              "          element.appendChild(docLink);\n",
              "        }\n",
              "      </script>\n",
              "    </div>\n",
              "  </div>\n",
              "  "
            ]
          },
          "metadata": {},
          "execution_count": 8
        }
      ]
    },
    {
      "cell_type": "code",
      "source": [
        "smokedet.isna().sum()"
      ],
      "metadata": {
        "colab": {
          "base_uri": "https://localhost:8080/"
        },
        "id": "B7ha4-5mfk5w",
        "outputId": "88c5fbc8-b75f-45db-e00b-fd7fb97d7bc2"
      },
      "execution_count": null,
      "outputs": [
        {
          "output_type": "execute_result",
          "data": {
            "text/plain": [
              "UTC               0\n",
              "Temperature[C]    0\n",
              "Humidity[%]       0\n",
              "TVOC[ppb]         0\n",
              "eCO2[ppm]         0\n",
              "Raw H2            0\n",
              "Raw Ethanol       0\n",
              "Pressure[hPa]     0\n",
              "PM1.0             0\n",
              "PM2.5             0\n",
              "NC0.5             0\n",
              "NC1.0             0\n",
              "NC2.5             0\n",
              "CNT               0\n",
              "Fire Alarm        0\n",
              "dtype: int64"
            ]
          },
          "metadata": {},
          "execution_count": 9
        }
      ]
    },
    {
      "cell_type": "markdown",
      "source": [
        "### 1.2.4 Check Data Irregularities"
      ],
      "metadata": {
        "id": "SOA4uo1QB7KX"
      }
    },
    {
      "cell_type": "markdown",
      "source": [
        "First, check if there is a duplicate data in this dataset."
      ],
      "metadata": {
        "id": "1v6c9iu3B_mY"
      }
    },
    {
      "cell_type": "code",
      "source": [
        "smokedet.duplicated().sum()"
      ],
      "metadata": {
        "colab": {
          "base_uri": "https://localhost:8080/"
        },
        "id": "zPE0ZbGrB-k7",
        "outputId": "72af40d5-eafe-4b63-8867-1f00d5381df1"
      },
      "execution_count": null,
      "outputs": [
        {
          "output_type": "execute_result",
          "data": {
            "text/plain": [
              "0"
            ]
          },
          "metadata": {},
          "execution_count": 10
        }
      ]
    },
    {
      "cell_type": "markdown",
      "source": [
        "Next, we wanted to eliminate the unnecessaries attributes."
      ],
      "metadata": {
        "id": "wrfQYHnPCDhA"
      }
    },
    {
      "cell_type": "code",
      "source": [
        "smokedet.describe()"
      ],
      "metadata": {
        "colab": {
          "base_uri": "https://localhost:8080/",
          "height": 364
        },
        "id": "2aa7L-uVCBwt",
        "outputId": "7594deed-eee1-47af-90c5-0000a932e00b"
      },
      "execution_count": null,
      "outputs": [
        {
          "output_type": "execute_result",
          "data": {
            "text/plain": [
              "                UTC  Temperature[C]   Humidity[%]     TVOC[ppb]     eCO2[ppm]  \\\n",
              "count  6.263000e+04    62630.000000  62630.000000  62630.000000  62630.000000   \n",
              "mean   1.654792e+09       15.970424     48.539499   1942.057528    670.021044   \n",
              "std    1.100025e+05       14.359576      8.865367   7811.589055   1905.885439   \n",
              "min    1.654712e+09      -22.010000     10.740000      0.000000    400.000000   \n",
              "25%    1.654743e+09       10.994250     47.530000    130.000000    400.000000   \n",
              "50%    1.654762e+09       20.130000     50.150000    981.000000    400.000000   \n",
              "75%    1.654778e+09       25.409500     53.240000   1189.000000    438.000000   \n",
              "max    1.655130e+09       59.930000     75.200000  60000.000000  60000.000000   \n",
              "\n",
              "             Raw H2   Raw Ethanol  Pressure[hPa]         PM1.0         PM2.5  \\\n",
              "count  62630.000000  62630.000000   62630.000000  62630.000000  62630.000000   \n",
              "mean   12942.453936  19754.257912     938.627649    100.594309    184.467770   \n",
              "std      272.464305    609.513156       1.331344    922.524245   1976.305615   \n",
              "min    10668.000000  15317.000000     930.852000      0.000000      0.000000   \n",
              "25%    12830.000000  19435.000000     938.700000      1.280000      1.340000   \n",
              "50%    12924.000000  19501.000000     938.816000      1.810000      1.880000   \n",
              "75%    13109.000000  20078.000000     939.418000      2.090000      2.180000   \n",
              "max    13803.000000  21410.000000     939.861000  14333.690000  45432.260000   \n",
              "\n",
              "              NC0.5         NC1.0         NC2.5           CNT    Fire Alarm  \n",
              "count  62630.000000  62630.000000  62630.000000  62630.000000  62630.000000  \n",
              "mean     491.463608    203.586487     80.049042  10511.386157      0.714626  \n",
              "std     4265.661251   2214.738556   1083.383189   7597.870997      0.451596  \n",
              "min        0.000000      0.000000      0.000000      0.000000      0.000000  \n",
              "25%        8.820000      1.384000      0.033000   3625.250000      0.000000  \n",
              "50%       12.450000      1.943000      0.044000   9336.000000      1.000000  \n",
              "75%       14.420000      2.249000      0.051000  17164.750000      1.000000  \n",
              "max    61482.030000  51914.680000  30026.438000  24993.000000      1.000000  "
            ],
            "text/html": [
              "\n",
              "  <div id=\"df-73fbbb0a-4d7d-426b-8b01-eddb19fc8fa6\">\n",
              "    <div class=\"colab-df-container\">\n",
              "      <div>\n",
              "<style scoped>\n",
              "    .dataframe tbody tr th:only-of-type {\n",
              "        vertical-align: middle;\n",
              "    }\n",
              "\n",
              "    .dataframe tbody tr th {\n",
              "        vertical-align: top;\n",
              "    }\n",
              "\n",
              "    .dataframe thead th {\n",
              "        text-align: right;\n",
              "    }\n",
              "</style>\n",
              "<table border=\"1\" class=\"dataframe\">\n",
              "  <thead>\n",
              "    <tr style=\"text-align: right;\">\n",
              "      <th></th>\n",
              "      <th>UTC</th>\n",
              "      <th>Temperature[C]</th>\n",
              "      <th>Humidity[%]</th>\n",
              "      <th>TVOC[ppb]</th>\n",
              "      <th>eCO2[ppm]</th>\n",
              "      <th>Raw H2</th>\n",
              "      <th>Raw Ethanol</th>\n",
              "      <th>Pressure[hPa]</th>\n",
              "      <th>PM1.0</th>\n",
              "      <th>PM2.5</th>\n",
              "      <th>NC0.5</th>\n",
              "      <th>NC1.0</th>\n",
              "      <th>NC2.5</th>\n",
              "      <th>CNT</th>\n",
              "      <th>Fire Alarm</th>\n",
              "    </tr>\n",
              "  </thead>\n",
              "  <tbody>\n",
              "    <tr>\n",
              "      <th>count</th>\n",
              "      <td>6.263000e+04</td>\n",
              "      <td>62630.000000</td>\n",
              "      <td>62630.000000</td>\n",
              "      <td>62630.000000</td>\n",
              "      <td>62630.000000</td>\n",
              "      <td>62630.000000</td>\n",
              "      <td>62630.000000</td>\n",
              "      <td>62630.000000</td>\n",
              "      <td>62630.000000</td>\n",
              "      <td>62630.000000</td>\n",
              "      <td>62630.000000</td>\n",
              "      <td>62630.000000</td>\n",
              "      <td>62630.000000</td>\n",
              "      <td>62630.000000</td>\n",
              "      <td>62630.000000</td>\n",
              "    </tr>\n",
              "    <tr>\n",
              "      <th>mean</th>\n",
              "      <td>1.654792e+09</td>\n",
              "      <td>15.970424</td>\n",
              "      <td>48.539499</td>\n",
              "      <td>1942.057528</td>\n",
              "      <td>670.021044</td>\n",
              "      <td>12942.453936</td>\n",
              "      <td>19754.257912</td>\n",
              "      <td>938.627649</td>\n",
              "      <td>100.594309</td>\n",
              "      <td>184.467770</td>\n",
              "      <td>491.463608</td>\n",
              "      <td>203.586487</td>\n",
              "      <td>80.049042</td>\n",
              "      <td>10511.386157</td>\n",
              "      <td>0.714626</td>\n",
              "    </tr>\n",
              "    <tr>\n",
              "      <th>std</th>\n",
              "      <td>1.100025e+05</td>\n",
              "      <td>14.359576</td>\n",
              "      <td>8.865367</td>\n",
              "      <td>7811.589055</td>\n",
              "      <td>1905.885439</td>\n",
              "      <td>272.464305</td>\n",
              "      <td>609.513156</td>\n",
              "      <td>1.331344</td>\n",
              "      <td>922.524245</td>\n",
              "      <td>1976.305615</td>\n",
              "      <td>4265.661251</td>\n",
              "      <td>2214.738556</td>\n",
              "      <td>1083.383189</td>\n",
              "      <td>7597.870997</td>\n",
              "      <td>0.451596</td>\n",
              "    </tr>\n",
              "    <tr>\n",
              "      <th>min</th>\n",
              "      <td>1.654712e+09</td>\n",
              "      <td>-22.010000</td>\n",
              "      <td>10.740000</td>\n",
              "      <td>0.000000</td>\n",
              "      <td>400.000000</td>\n",
              "      <td>10668.000000</td>\n",
              "      <td>15317.000000</td>\n",
              "      <td>930.852000</td>\n",
              "      <td>0.000000</td>\n",
              "      <td>0.000000</td>\n",
              "      <td>0.000000</td>\n",
              "      <td>0.000000</td>\n",
              "      <td>0.000000</td>\n",
              "      <td>0.000000</td>\n",
              "      <td>0.000000</td>\n",
              "    </tr>\n",
              "    <tr>\n",
              "      <th>25%</th>\n",
              "      <td>1.654743e+09</td>\n",
              "      <td>10.994250</td>\n",
              "      <td>47.530000</td>\n",
              "      <td>130.000000</td>\n",
              "      <td>400.000000</td>\n",
              "      <td>12830.000000</td>\n",
              "      <td>19435.000000</td>\n",
              "      <td>938.700000</td>\n",
              "      <td>1.280000</td>\n",
              "      <td>1.340000</td>\n",
              "      <td>8.820000</td>\n",
              "      <td>1.384000</td>\n",
              "      <td>0.033000</td>\n",
              "      <td>3625.250000</td>\n",
              "      <td>0.000000</td>\n",
              "    </tr>\n",
              "    <tr>\n",
              "      <th>50%</th>\n",
              "      <td>1.654762e+09</td>\n",
              "      <td>20.130000</td>\n",
              "      <td>50.150000</td>\n",
              "      <td>981.000000</td>\n",
              "      <td>400.000000</td>\n",
              "      <td>12924.000000</td>\n",
              "      <td>19501.000000</td>\n",
              "      <td>938.816000</td>\n",
              "      <td>1.810000</td>\n",
              "      <td>1.880000</td>\n",
              "      <td>12.450000</td>\n",
              "      <td>1.943000</td>\n",
              "      <td>0.044000</td>\n",
              "      <td>9336.000000</td>\n",
              "      <td>1.000000</td>\n",
              "    </tr>\n",
              "    <tr>\n",
              "      <th>75%</th>\n",
              "      <td>1.654778e+09</td>\n",
              "      <td>25.409500</td>\n",
              "      <td>53.240000</td>\n",
              "      <td>1189.000000</td>\n",
              "      <td>438.000000</td>\n",
              "      <td>13109.000000</td>\n",
              "      <td>20078.000000</td>\n",
              "      <td>939.418000</td>\n",
              "      <td>2.090000</td>\n",
              "      <td>2.180000</td>\n",
              "      <td>14.420000</td>\n",
              "      <td>2.249000</td>\n",
              "      <td>0.051000</td>\n",
              "      <td>17164.750000</td>\n",
              "      <td>1.000000</td>\n",
              "    </tr>\n",
              "    <tr>\n",
              "      <th>max</th>\n",
              "      <td>1.655130e+09</td>\n",
              "      <td>59.930000</td>\n",
              "      <td>75.200000</td>\n",
              "      <td>60000.000000</td>\n",
              "      <td>60000.000000</td>\n",
              "      <td>13803.000000</td>\n",
              "      <td>21410.000000</td>\n",
              "      <td>939.861000</td>\n",
              "      <td>14333.690000</td>\n",
              "      <td>45432.260000</td>\n",
              "      <td>61482.030000</td>\n",
              "      <td>51914.680000</td>\n",
              "      <td>30026.438000</td>\n",
              "      <td>24993.000000</td>\n",
              "      <td>1.000000</td>\n",
              "    </tr>\n",
              "  </tbody>\n",
              "</table>\n",
              "</div>\n",
              "      <button class=\"colab-df-convert\" onclick=\"convertToInteractive('df-73fbbb0a-4d7d-426b-8b01-eddb19fc8fa6')\"\n",
              "              title=\"Convert this dataframe to an interactive table.\"\n",
              "              style=\"display:none;\">\n",
              "        \n",
              "  <svg xmlns=\"http://www.w3.org/2000/svg\" height=\"24px\"viewBox=\"0 0 24 24\"\n",
              "       width=\"24px\">\n",
              "    <path d=\"M0 0h24v24H0V0z\" fill=\"none\"/>\n",
              "    <path d=\"M18.56 5.44l.94 2.06.94-2.06 2.06-.94-2.06-.94-.94-2.06-.94 2.06-2.06.94zm-11 1L8.5 8.5l.94-2.06 2.06-.94-2.06-.94L8.5 2.5l-.94 2.06-2.06.94zm10 10l.94 2.06.94-2.06 2.06-.94-2.06-.94-.94-2.06-.94 2.06-2.06.94z\"/><path d=\"M17.41 7.96l-1.37-1.37c-.4-.4-.92-.59-1.43-.59-.52 0-1.04.2-1.43.59L10.3 9.45l-7.72 7.72c-.78.78-.78 2.05 0 2.83L4 21.41c.39.39.9.59 1.41.59.51 0 1.02-.2 1.41-.59l7.78-7.78 2.81-2.81c.8-.78.8-2.07 0-2.86zM5.41 20L4 18.59l7.72-7.72 1.47 1.35L5.41 20z\"/>\n",
              "  </svg>\n",
              "      </button>\n",
              "      \n",
              "  <style>\n",
              "    .colab-df-container {\n",
              "      display:flex;\n",
              "      flex-wrap:wrap;\n",
              "      gap: 12px;\n",
              "    }\n",
              "\n",
              "    .colab-df-convert {\n",
              "      background-color: #E8F0FE;\n",
              "      border: none;\n",
              "      border-radius: 50%;\n",
              "      cursor: pointer;\n",
              "      display: none;\n",
              "      fill: #1967D2;\n",
              "      height: 32px;\n",
              "      padding: 0 0 0 0;\n",
              "      width: 32px;\n",
              "    }\n",
              "\n",
              "    .colab-df-convert:hover {\n",
              "      background-color: #E2EBFA;\n",
              "      box-shadow: 0px 1px 2px rgba(60, 64, 67, 0.3), 0px 1px 3px 1px rgba(60, 64, 67, 0.15);\n",
              "      fill: #174EA6;\n",
              "    }\n",
              "\n",
              "    [theme=dark] .colab-df-convert {\n",
              "      background-color: #3B4455;\n",
              "      fill: #D2E3FC;\n",
              "    }\n",
              "\n",
              "    [theme=dark] .colab-df-convert:hover {\n",
              "      background-color: #434B5C;\n",
              "      box-shadow: 0px 1px 3px 1px rgba(0, 0, 0, 0.15);\n",
              "      filter: drop-shadow(0px 1px 2px rgba(0, 0, 0, 0.3));\n",
              "      fill: #FFFFFF;\n",
              "    }\n",
              "  </style>\n",
              "\n",
              "      <script>\n",
              "        const buttonEl =\n",
              "          document.querySelector('#df-73fbbb0a-4d7d-426b-8b01-eddb19fc8fa6 button.colab-df-convert');\n",
              "        buttonEl.style.display =\n",
              "          google.colab.kernel.accessAllowed ? 'block' : 'none';\n",
              "\n",
              "        async function convertToInteractive(key) {\n",
              "          const element = document.querySelector('#df-73fbbb0a-4d7d-426b-8b01-eddb19fc8fa6');\n",
              "          const dataTable =\n",
              "            await google.colab.kernel.invokeFunction('convertToInteractive',\n",
              "                                                     [key], {});\n",
              "          if (!dataTable) return;\n",
              "\n",
              "          const docLinkHtml = 'Like what you see? Visit the ' +\n",
              "            '<a target=\"_blank\" href=https://colab.research.google.com/notebooks/data_table.ipynb>data table notebook</a>'\n",
              "            + ' to learn more about interactive tables.';\n",
              "          element.innerHTML = '';\n",
              "          dataTable['output_type'] = 'display_data';\n",
              "          await google.colab.output.renderOutput(dataTable, element);\n",
              "          const docLink = document.createElement('div');\n",
              "          docLink.innerHTML = docLinkHtml;\n",
              "          element.appendChild(docLink);\n",
              "        }\n",
              "      </script>\n",
              "    </div>\n",
              "  </div>\n",
              "  "
            ]
          },
          "metadata": {},
          "execution_count": 11
        }
      ]
    },
    {
      "cell_type": "markdown",
      "source": [
        "After analyzing the existing data information, we decided to remove two columns that were not so significant in modeling, namely 'UTC' and 'CNT'."
      ],
      "metadata": {
        "id": "7uqzs3GPCJ9v"
      }
    },
    {
      "cell_type": "code",
      "source": [
        "smokedet.drop(['UTC','CNT'],axis = 1,inplace=True)"
      ],
      "metadata": {
        "id": "EhHkS6oZCKyc"
      },
      "execution_count": null,
      "outputs": []
    },
    {
      "cell_type": "code",
      "source": [
        "smokedet.head()"
      ],
      "metadata": {
        "colab": {
          "base_uri": "https://localhost:8080/",
          "height": 206
        },
        "id": "iuBxLpavCOV_",
        "outputId": "2661c649-97ac-4d79-bb7f-034b606955d3"
      },
      "execution_count": null,
      "outputs": [
        {
          "output_type": "execute_result",
          "data": {
            "text/plain": [
              "   Temperature[C]  Humidity[%]  TVOC[ppb]  eCO2[ppm]  Raw H2  Raw Ethanol  \\\n",
              "0          20.000        57.36          0        400   12306        18520   \n",
              "1          20.015        56.67          0        400   12345        18651   \n",
              "2          20.029        55.96          0        400   12374        18764   \n",
              "3          20.044        55.28          0        400   12390        18849   \n",
              "4          20.059        54.69          0        400   12403        18921   \n",
              "\n",
              "   Pressure[hPa]  PM1.0  PM2.5  NC0.5  NC1.0  NC2.5  Fire Alarm  \n",
              "0        939.735    0.0    0.0    0.0    0.0    0.0           0  \n",
              "1        939.744    0.0    0.0    0.0    0.0    0.0           0  \n",
              "2        939.738    0.0    0.0    0.0    0.0    0.0           0  \n",
              "3        939.736    0.0    0.0    0.0    0.0    0.0           0  \n",
              "4        939.744    0.0    0.0    0.0    0.0    0.0           0  "
            ],
            "text/html": [
              "\n",
              "  <div id=\"df-b219e142-0626-4a67-ab4c-c391b02f673f\">\n",
              "    <div class=\"colab-df-container\">\n",
              "      <div>\n",
              "<style scoped>\n",
              "    .dataframe tbody tr th:only-of-type {\n",
              "        vertical-align: middle;\n",
              "    }\n",
              "\n",
              "    .dataframe tbody tr th {\n",
              "        vertical-align: top;\n",
              "    }\n",
              "\n",
              "    .dataframe thead th {\n",
              "        text-align: right;\n",
              "    }\n",
              "</style>\n",
              "<table border=\"1\" class=\"dataframe\">\n",
              "  <thead>\n",
              "    <tr style=\"text-align: right;\">\n",
              "      <th></th>\n",
              "      <th>Temperature[C]</th>\n",
              "      <th>Humidity[%]</th>\n",
              "      <th>TVOC[ppb]</th>\n",
              "      <th>eCO2[ppm]</th>\n",
              "      <th>Raw H2</th>\n",
              "      <th>Raw Ethanol</th>\n",
              "      <th>Pressure[hPa]</th>\n",
              "      <th>PM1.0</th>\n",
              "      <th>PM2.5</th>\n",
              "      <th>NC0.5</th>\n",
              "      <th>NC1.0</th>\n",
              "      <th>NC2.5</th>\n",
              "      <th>Fire Alarm</th>\n",
              "    </tr>\n",
              "  </thead>\n",
              "  <tbody>\n",
              "    <tr>\n",
              "      <th>0</th>\n",
              "      <td>20.000</td>\n",
              "      <td>57.36</td>\n",
              "      <td>0</td>\n",
              "      <td>400</td>\n",
              "      <td>12306</td>\n",
              "      <td>18520</td>\n",
              "      <td>939.735</td>\n",
              "      <td>0.0</td>\n",
              "      <td>0.0</td>\n",
              "      <td>0.0</td>\n",
              "      <td>0.0</td>\n",
              "      <td>0.0</td>\n",
              "      <td>0</td>\n",
              "    </tr>\n",
              "    <tr>\n",
              "      <th>1</th>\n",
              "      <td>20.015</td>\n",
              "      <td>56.67</td>\n",
              "      <td>0</td>\n",
              "      <td>400</td>\n",
              "      <td>12345</td>\n",
              "      <td>18651</td>\n",
              "      <td>939.744</td>\n",
              "      <td>0.0</td>\n",
              "      <td>0.0</td>\n",
              "      <td>0.0</td>\n",
              "      <td>0.0</td>\n",
              "      <td>0.0</td>\n",
              "      <td>0</td>\n",
              "    </tr>\n",
              "    <tr>\n",
              "      <th>2</th>\n",
              "      <td>20.029</td>\n",
              "      <td>55.96</td>\n",
              "      <td>0</td>\n",
              "      <td>400</td>\n",
              "      <td>12374</td>\n",
              "      <td>18764</td>\n",
              "      <td>939.738</td>\n",
              "      <td>0.0</td>\n",
              "      <td>0.0</td>\n",
              "      <td>0.0</td>\n",
              "      <td>0.0</td>\n",
              "      <td>0.0</td>\n",
              "      <td>0</td>\n",
              "    </tr>\n",
              "    <tr>\n",
              "      <th>3</th>\n",
              "      <td>20.044</td>\n",
              "      <td>55.28</td>\n",
              "      <td>0</td>\n",
              "      <td>400</td>\n",
              "      <td>12390</td>\n",
              "      <td>18849</td>\n",
              "      <td>939.736</td>\n",
              "      <td>0.0</td>\n",
              "      <td>0.0</td>\n",
              "      <td>0.0</td>\n",
              "      <td>0.0</td>\n",
              "      <td>0.0</td>\n",
              "      <td>0</td>\n",
              "    </tr>\n",
              "    <tr>\n",
              "      <th>4</th>\n",
              "      <td>20.059</td>\n",
              "      <td>54.69</td>\n",
              "      <td>0</td>\n",
              "      <td>400</td>\n",
              "      <td>12403</td>\n",
              "      <td>18921</td>\n",
              "      <td>939.744</td>\n",
              "      <td>0.0</td>\n",
              "      <td>0.0</td>\n",
              "      <td>0.0</td>\n",
              "      <td>0.0</td>\n",
              "      <td>0.0</td>\n",
              "      <td>0</td>\n",
              "    </tr>\n",
              "  </tbody>\n",
              "</table>\n",
              "</div>\n",
              "      <button class=\"colab-df-convert\" onclick=\"convertToInteractive('df-b219e142-0626-4a67-ab4c-c391b02f673f')\"\n",
              "              title=\"Convert this dataframe to an interactive table.\"\n",
              "              style=\"display:none;\">\n",
              "        \n",
              "  <svg xmlns=\"http://www.w3.org/2000/svg\" height=\"24px\"viewBox=\"0 0 24 24\"\n",
              "       width=\"24px\">\n",
              "    <path d=\"M0 0h24v24H0V0z\" fill=\"none\"/>\n",
              "    <path d=\"M18.56 5.44l.94 2.06.94-2.06 2.06-.94-2.06-.94-.94-2.06-.94 2.06-2.06.94zm-11 1L8.5 8.5l.94-2.06 2.06-.94-2.06-.94L8.5 2.5l-.94 2.06-2.06.94zm10 10l.94 2.06.94-2.06 2.06-.94-2.06-.94-.94-2.06-.94 2.06-2.06.94z\"/><path d=\"M17.41 7.96l-1.37-1.37c-.4-.4-.92-.59-1.43-.59-.52 0-1.04.2-1.43.59L10.3 9.45l-7.72 7.72c-.78.78-.78 2.05 0 2.83L4 21.41c.39.39.9.59 1.41.59.51 0 1.02-.2 1.41-.59l7.78-7.78 2.81-2.81c.8-.78.8-2.07 0-2.86zM5.41 20L4 18.59l7.72-7.72 1.47 1.35L5.41 20z\"/>\n",
              "  </svg>\n",
              "      </button>\n",
              "      \n",
              "  <style>\n",
              "    .colab-df-container {\n",
              "      display:flex;\n",
              "      flex-wrap:wrap;\n",
              "      gap: 12px;\n",
              "    }\n",
              "\n",
              "    .colab-df-convert {\n",
              "      background-color: #E8F0FE;\n",
              "      border: none;\n",
              "      border-radius: 50%;\n",
              "      cursor: pointer;\n",
              "      display: none;\n",
              "      fill: #1967D2;\n",
              "      height: 32px;\n",
              "      padding: 0 0 0 0;\n",
              "      width: 32px;\n",
              "    }\n",
              "\n",
              "    .colab-df-convert:hover {\n",
              "      background-color: #E2EBFA;\n",
              "      box-shadow: 0px 1px 2px rgba(60, 64, 67, 0.3), 0px 1px 3px 1px rgba(60, 64, 67, 0.15);\n",
              "      fill: #174EA6;\n",
              "    }\n",
              "\n",
              "    [theme=dark] .colab-df-convert {\n",
              "      background-color: #3B4455;\n",
              "      fill: #D2E3FC;\n",
              "    }\n",
              "\n",
              "    [theme=dark] .colab-df-convert:hover {\n",
              "      background-color: #434B5C;\n",
              "      box-shadow: 0px 1px 3px 1px rgba(0, 0, 0, 0.15);\n",
              "      filter: drop-shadow(0px 1px 2px rgba(0, 0, 0, 0.3));\n",
              "      fill: #FFFFFF;\n",
              "    }\n",
              "  </style>\n",
              "\n",
              "      <script>\n",
              "        const buttonEl =\n",
              "          document.querySelector('#df-b219e142-0626-4a67-ab4c-c391b02f673f button.colab-df-convert');\n",
              "        buttonEl.style.display =\n",
              "          google.colab.kernel.accessAllowed ? 'block' : 'none';\n",
              "\n",
              "        async function convertToInteractive(key) {\n",
              "          const element = document.querySelector('#df-b219e142-0626-4a67-ab4c-c391b02f673f');\n",
              "          const dataTable =\n",
              "            await google.colab.kernel.invokeFunction('convertToInteractive',\n",
              "                                                     [key], {});\n",
              "          if (!dataTable) return;\n",
              "\n",
              "          const docLinkHtml = 'Like what you see? Visit the ' +\n",
              "            '<a target=\"_blank\" href=https://colab.research.google.com/notebooks/data_table.ipynb>data table notebook</a>'\n",
              "            + ' to learn more about interactive tables.';\n",
              "          element.innerHTML = '';\n",
              "          dataTable['output_type'] = 'display_data';\n",
              "          await google.colab.output.renderOutput(dataTable, element);\n",
              "          const docLink = document.createElement('div');\n",
              "          docLink.innerHTML = docLinkHtml;\n",
              "          element.appendChild(docLink);\n",
              "        }\n",
              "      </script>\n",
              "    </div>\n",
              "  </div>\n",
              "  "
            ]
          },
          "metadata": {},
          "execution_count": 13
        }
      ]
    },
    {
      "cell_type": "markdown",
      "metadata": {
        "id": "fQD3lMi_kF4D"
      },
      "source": [
        "# 2. Exploratory Data Analysis (EDA)"
      ]
    },
    {
      "cell_type": "markdown",
      "metadata": {
        "id": "Il-NxGm-xJ4T"
      },
      "source": [
        "## 2.1 Check the Imbalance"
      ]
    },
    {
      "cell_type": "markdown",
      "metadata": {
        "id": "GbZvvmQ_x0-2"
      },
      "source": [
        "We would analyze the target / response / dependent variable whether it is balance or not. If the the difference of the count between 0 and 1 is 5 times, then dataset is imbalanced. Otherwise, the data still can be called as balanced dataset."
      ]
    },
    {
      "cell_type": "code",
      "execution_count": null,
      "metadata": {
        "colab": {
          "base_uri": "https://localhost:8080/",
          "height": 447
        },
        "id": "viDC0PmZxwwU",
        "outputId": "6bc72980-fa6a-44ed-878c-bb497448e939"
      },
      "outputs": [
        {
          "output_type": "execute_result",
          "data": {
            "text/plain": [
              "(array([0, 1]), [Text(0, 0, 'No Alarm'), Text(1, 0, 'Alarm')])"
            ]
          },
          "metadata": {},
          "execution_count": 14
        },
        {
          "output_type": "display_data",
          "data": {
            "text/plain": [
              "<Figure size 640x480 with 1 Axes>"
            ],
            "image/png": "[encoded data removed]"
          },
          "metadata": {}
        }
      ],
      "source": [
        "smokedet[\"Fire Alarm\"].value_counts().plot(kind=\"bar\")\n",
        "plt.xticks([0, 1], ['No Alarm', 'Alarm'])\n",
        "plt.xticks(rotation=0)"
      ]
    },
    {
      "cell_type": "markdown",
      "metadata": {
        "id": "fWT9LOFXz0Ek"
      },
      "source": [
        "The output from the bar graph shows that the sum of 'no alarm' around 4500 and 'alarm' is around 1800. The difference between both of them is 2.5 times. This means that the data is still considered as balanced dataset."
      ]
    },
    {
      "cell_type": "markdown",
      "metadata": {
        "id": "oen6wCaExRfs"
      },
      "source": [
        "## 2.2 Check the Outliers"
      ]
    },
    {
      "cell_type": "markdown",
      "metadata": {
        "id": "prRiXVAH0jt7"
      },
      "source": [
        "Boxplots can be used to identify whether there are outliers or not, because if there are outliers, we can find where they are located, in which row, and most likely they will be removed to make the prediction results better."
      ]
    },
    {
      "cell_type": "code",
      "execution_count": null,
      "metadata": {
        "colab": {
          "base_uri": "https://localhost:8080/",
          "height": 1000
        },
        "id": "WXRdYdHw0ri6",
        "outputId": "09c65387-f51b-4e0c-8b97-c0b33998a055"
      },
      "outputs": [
        {
          "output_type": "display_data",
          "data": {
            "text/plain": [
              "<Figure size 1500x2000 with 12 Axes>"
            ],
            "image/png": "[encoded data removed]"
          },
          "metadata": {}
        }
      ],
      "source": [
        "fig, ax = plt.subplots(nrows = 3, ncols = 4, figsize = (15, 20))\n",
        "\n",
        "for feature, subplot in zip(smokedet, ax.flatten()):\n",
        "    if feature == 'Fire Alarm':\n",
        "        continue\n",
        "    sns.boxplot(x = smokedet['Fire Alarm'], y = smokedet[feature], showfliers = False, ax = subplot)\n",
        "    subplot.set_xticks([0, 1], ['No Alarm', 'Alarm'])\n",
        "\n",
        "plt.suptitle('Feature Outliers with Response Variable (Fire Alarm)', fontsize = 20)\n",
        "plt.tight_layout(pad = 2)\n",
        "plt.show()"
      ]
    },
    {
      "cell_type": "markdown",
      "metadata": {
        "id": "glMZKBCh1PXF"
      },
      "source": [
        "It can be seen that:\n",
        "\n",
        "1. Alarms that sound have a much higher TVOC than alarms that do not sound.\n",
        "2. The alarm that sounded had a lower Raw Ethanol than the alarm that did not sound.\n",
        "3. The average Air Pressure (Pressure) of the non-alarm is lower than the alarm that sounded."
      ]
    },
    {
      "cell_type": "markdown",
      "metadata": {
        "id": "eXPZa46oxUcM"
      },
      "source": [
        "## 2.3 Check the Correlations"
      ]
    },
    {
      "cell_type": "code",
      "execution_count": null,
      "metadata": {
        "colab": {
          "base_uri": "https://localhost:8080/",
          "height": 1000
        },
        "id": "L1l-5ndy1aOC",
        "outputId": "a11bea98-6da9-4872-aac8-1559bf67ed8b"
      },
      "outputs": [
        {
          "output_type": "execute_result",
          "data": {
            "text/plain": [
              "<Axes: >"
            ]
          },
          "metadata": {},
          "execution_count": 16
        },
        {
          "output_type": "display_data",
          "data": {
            "text/plain": [
              "<Figure size 1500x1500 with 2 Axes>"
            ],
            "image/png": "[encoded data removed]"
          },
          "metadata": {}
        }
      ],
      "source": [
        "corr = smokedet.corr()\n",
        "\n",
        "plt.figure(figsize=(15,15))\n",
        "sns.heatmap(corr,annot=True)"
      ]
    },
    {
      "cell_type": "markdown",
      "source": [
        "# 3. Dimensionality Reduction (PCA)"
      ],
      "metadata": {
        "id": "i4YgI_FZCsCh"
      }
    },
    {
      "cell_type": "markdown",
      "source": [
        "## 3.1 Scaling (Normalization)"
      ],
      "metadata": {
        "id": "WyRvmXUoEJNG"
      }
    },
    {
      "cell_type": "code",
      "source": [
        "from sklearn.preprocessing import StandardScaler"
      ],
      "metadata": {
        "id": "EliYraDYEHYv"
      },
      "execution_count": null,
      "outputs": []
    },
    {
      "cell_type": "code",
      "source": [
        "scaler = StandardScaler()"
      ],
      "metadata": {
        "id": "NQs6YOezCuhc"
      },
      "execution_count": null,
      "outputs": []
    },
    {
      "cell_type": "code",
      "source": [
        "x = smokedet.drop(['Fire Alarm'],axis=1)\n",
        "y = smokedet['Fire Alarm']"
      ],
      "metadata": {
        "id": "Rh4q80tkE68W"
      },
      "execution_count": null,
      "outputs": []
    },
    {
      "cell_type": "code",
      "source": [
        "x_scaled = scaler.fit_transform(x)"
      ],
      "metadata": {
        "id": "78UB2w8rFHW1"
      },
      "execution_count": null,
      "outputs": []
    },
    {
      "cell_type": "code",
      "source": [
        "smokedet_x = pd.DataFrame(data = x_scaled, columns = smokedet.columns[0:12])\n",
        "smokedet_x.head(10)"
      ],
      "metadata": {
        "colab": {
          "base_uri": "https://localhost:8080/"
        },
        "id": "IZLe20-pFML2",
        "outputId": "d706c85b-07e8-428e-8f44-b10eff845c56"
      },
      "execution_count": null,
      "outputs": [
        {
          "output_type": "execute_result",
          "data": {
            "text/plain": [
              "   Temperature[C]  Humidity[%]  TVOC[ppb]  eCO2[ppm]    Raw H2  Raw Ethanol  \\\n",
              "0        0.280622     0.994947  -0.248614  -0.141679 -2.335935    -2.025006   \n",
              "1        0.281666     0.917115  -0.248614  -0.141679 -2.192796    -1.810079   \n",
              "2        0.282641     0.837028  -0.248614  -0.141679 -2.086359    -1.624683   \n",
              "3        0.283686     0.760324  -0.248614  -0.141679 -2.027636    -1.485227   \n",
              "4        0.284730     0.693773  -0.248614  -0.141679 -1.979923    -1.367099   \n",
              "5        0.285705     0.629477  -0.248614  -0.141679 -1.921199    -1.240767   \n",
              "6        0.286750     0.571949  -0.248614  -0.141679 -1.873486    -1.142327   \n",
              "7        0.287795     0.525702  -0.248614  -0.141679 -1.847794    -1.050450   \n",
              "8        0.288770     0.481710  -0.248614  -0.141679 -1.814762    -0.983183   \n",
              "9        0.289814     0.442230  -0.248614  -0.141679 -1.796411    -0.917556   \n",
              "\n",
              "   Pressure[hPa]     PM1.0     PM2.5     NC0.5     NC1.0     NC2.5  \n",
              "0       0.831761 -0.109043 -0.093340 -0.115215 -0.091924 -0.073889  \n",
              "1       0.838521 -0.109043 -0.093340 -0.115215 -0.091924 -0.073889  \n",
              "2       0.834014 -0.109043 -0.093340 -0.115215 -0.091924 -0.073889  \n",
              "3       0.832512 -0.109043 -0.093340 -0.115215 -0.091924 -0.073889  \n",
              "4       0.838521 -0.109043 -0.093340 -0.115215 -0.091924 -0.073889  \n",
              "5       0.824250 -0.109043 -0.093340 -0.115215 -0.091924 -0.073889  \n",
              "6       0.834014 -0.109043 -0.093340 -0.115215 -0.091924 -0.073889  \n",
              "7       0.849037 -0.109043 -0.093340 -0.115215 -0.091924 -0.073889  \n",
              "8       0.849037 -0.109043 -0.093340 -0.115215 -0.091924 -0.073889  \n",
              "9       0.847534 -0.108068 -0.091428 -0.115215 -0.089952 -0.071323  "
            ],
            "text/html": [
              "\n",
              "  <div id=\"df-f0437f15-c5e4-4fba-82a6-3b9b5fa60e6c\">\n",
              "    <div class=\"colab-df-container\">\n",
              "      <div>\n",
              "<style scoped>\n",
              "    .dataframe tbody tr th:only-of-type {\n",
              "        vertical-align: middle;\n",
              "    }\n",
              "\n",
              "    .dataframe tbody tr th {\n",
              "        vertical-align: top;\n",
              "    }\n",
              "\n",
              "    .dataframe thead th {\n",
              "        text-align: right;\n",
              "    }\n",
              "</style>\n",
              "<table border=\"1\" class=\"dataframe\">\n",
              "  <thead>\n",
              "    <tr style=\"text-align: right;\">\n",
              "      <th></th>\n",
              "      <th>Temperature[C]</th>\n",
              "      <th>Humidity[%]</th>\n",
              "      <th>TVOC[ppb]</th>\n",
              "      <th>eCO2[ppm]</th>\n",
              "      <th>Raw H2</th>\n",
              "      <th>Raw Ethanol</th>\n",
              "      <th>Pressure[hPa]</th>\n",
              "      <th>PM1.0</th>\n",
              "      <th>PM2.5</th>\n",
              "      <th>NC0.5</th>\n",
              "      <th>NC1.0</th>\n",
              "      <th>NC2.5</th>\n",
              "    </tr>\n",
              "  </thead>\n",
              "  <tbody>\n",
              "    <tr>\n",
              "      <th>0</th>\n",
              "      <td>0.280622</td>\n",
              "      <td>0.994947</td>\n",
              "      <td>-0.248614</td>\n",
              "      <td>-0.141679</td>\n",
              "      <td>-2.335935</td>\n",
              "      <td>-2.025006</td>\n",
              "      <td>0.831761</td>\n",
              "      <td>-0.109043</td>\n",
              "      <td>-0.093340</td>\n",
              "      <td>-0.115215</td>\n",
              "      <td>-0.091924</td>\n",
              "      <td>-0.073889</td>\n",
              "    </tr>\n",
              "    <tr>\n",
              "      <th>1</th>\n",
              "      <td>0.281666</td>\n",
              "      <td>0.917115</td>\n",
              "      <td>-0.248614</td>\n",
              "      <td>-0.141679</td>\n",
              "      <td>-2.192796</td>\n",
              "      <td>-1.810079</td>\n",
              "      <td>0.838521</td>\n",
              "      <td>-0.109043</td>\n",
              "      <td>-0.093340</td>\n",
              "      <td>-0.115215</td>\n",
              "      <td>-0.091924</td>\n",
              "      <td>-0.073889</td>\n",
              "    </tr>\n",
              "    <tr>\n",
              "      <th>2</th>\n",
              "      <td>0.282641</td>\n",
              "      <td>0.837028</td>\n",
              "      <td>-0.248614</td>\n",
              "      <td>-0.141679</td>\n",
              "      <td>-2.086359</td>\n",
              "      <td>-1.624683</td>\n",
              "      <td>0.834014</td>\n",
              "      <td>-0.109043</td>\n",
              "      <td>-0.093340</td>\n",
              "      <td>-0.115215</td>\n",
              "      <td>-0.091924</td>\n",
              "      <td>-0.073889</td>\n",
              "    </tr>\n",
              "    <tr>\n",
              "      <th>3</th>\n",
              "      <td>0.283686</td>\n",
              "      <td>0.760324</td>\n",
              "      <td>-0.248614</td>\n",
              "      <td>-0.141679</td>\n",
              "      <td>-2.027636</td>\n",
              "      <td>-1.485227</td>\n",
              "      <td>0.832512</td>\n",
              "      <td>-0.109043</td>\n",
              "      <td>-0.093340</td>\n",
              "      <td>-0.115215</td>\n",
              "      <td>-0.091924</td>\n",
              "      <td>-0.073889</td>\n",
              "    </tr>\n",
              "    <tr>\n",
              "      <th>4</th>\n",
              "      <td>0.284730</td>\n",
              "      <td>0.693773</td>\n",
              "      <td>-0.248614</td>\n",
              "      <td>-0.141679</td>\n",
              "      <td>-1.979923</td>\n",
              "      <td>-1.367099</td>\n",
              "      <td>0.838521</td>\n",
              "      <td>-0.109043</td>\n",
              "      <td>-0.093340</td>\n",
              "      <td>-0.115215</td>\n",
              "      <td>-0.091924</td>\n",
              "      <td>-0.073889</td>\n",
              "    </tr>\n",
              "    <tr>\n",
              "      <th>5</th>\n",
              "      <td>0.285705</td>\n",
              "      <td>0.629477</td>\n",
              "      <td>-0.248614</td>\n",
              "      <td>-0.141679</td>\n",
              "      <td>-1.921199</td>\n",
              "      <td>-1.240767</td>\n",
              "      <td>0.824250</td>\n",
              "      <td>-0.109043</td>\n",
              "      <td>-0.093340</td>\n",
              "      <td>-0.115215</td>\n",
              "      <td>-0.091924</td>\n",
              "      <td>-0.073889</td>\n",
              "    </tr>\n",
              "    <tr>\n",
              "      <th>6</th>\n",
              "      <td>0.286750</td>\n",
              "      <td>0.571949</td>\n",
              "      <td>-0.248614</td>\n",
              "      <td>-0.141679</td>\n",
              "      <td>-1.873486</td>\n",
              "      <td>-1.142327</td>\n",
              "      <td>0.834014</td>\n",
              "      <td>-0.109043</td>\n",
              "      <td>-0.093340</td>\n",
              "      <td>-0.115215</td>\n",
              "      <td>-0.091924</td>\n",
              "      <td>-0.073889</td>\n",
              "    </tr>\n",
              "    <tr>\n",
              "      <th>7</th>\n",
              "      <td>0.287795</td>\n",
              "      <td>0.525702</td>\n",
              "      <td>-0.248614</td>\n",
              "      <td>-0.141679</td>\n",
              "      <td>-1.847794</td>\n",
              "      <td>-1.050450</td>\n",
              "      <td>0.849037</td>\n",
              "      <td>-0.109043</td>\n",
              "      <td>-0.093340</td>\n",
              "      <td>-0.115215</td>\n",
              "      <td>-0.091924</td>\n",
              "      <td>-0.073889</td>\n",
              "    </tr>\n",
              "    <tr>\n",
              "      <th>8</th>\n",
              "      <td>0.288770</td>\n",
              "      <td>0.481710</td>\n",
              "      <td>-0.248614</td>\n",
              "      <td>-0.141679</td>\n",
              "      <td>-1.814762</td>\n",
              "      <td>-0.983183</td>\n",
              "      <td>0.849037</td>\n",
              "      <td>-0.109043</td>\n",
              "      <td>-0.093340</td>\n",
              "      <td>-0.115215</td>\n",
              "      <td>-0.091924</td>\n",
              "      <td>-0.073889</td>\n",
              "    </tr>\n",
              "    <tr>\n",
              "      <th>9</th>\n",
              "      <td>0.289814</td>\n",
              "      <td>0.442230</td>\n",
              "      <td>-0.248614</td>\n",
              "      <td>-0.141679</td>\n",
              "      <td>-1.796411</td>\n",
              "      <td>-0.917556</td>\n",
              "      <td>0.847534</td>\n",
              "      <td>-0.108068</td>\n",
              "      <td>-0.091428</td>\n",
              "      <td>-0.115215</td>\n",
              "      <td>-0.089952</td>\n",
              "      <td>-0.071323</td>\n",
              "    </tr>\n",
              "  </tbody>\n",
              "</table>\n",
              "</div>\n",
              "      <button class=\"colab-df-convert\" onclick=\"convertToInteractive('df-f0437f15-c5e4-4fba-82a6-3b9b5fa60e6c')\"\n",
              "              title=\"Convert this dataframe to an interactive table.\"\n",
              "              style=\"display:none;\">\n",
              "        \n",
              "  <svg xmlns=\"http://www.w3.org/2000/svg\" height=\"24px\"viewBox=\"0 0 24 24\"\n",
              "       width=\"24px\">\n",
              "    <path d=\"M0 0h24v24H0V0z\" fill=\"none\"/>\n",
              "    <path d=\"M18.56 5.44l.94 2.06.94-2.06 2.06-.94-2.06-.94-.94-2.06-.94 2.06-2.06.94zm-11 1L8.5 8.5l.94-2.06 2.06-.94-2.06-.94L8.5 2.5l-.94 2.06-2.06.94zm10 10l.94 2.06.94-2.06 2.06-.94-2.06-.94-.94-2.06-.94 2.06-2.06.94z\"/><path d=\"M17.41 7.96l-1.37-1.37c-.4-.4-.92-.59-1.43-.59-.52 0-1.04.2-1.43.59L10.3 9.45l-7.72 7.72c-.78.78-.78 2.05 0 2.83L4 21.41c.39.39.9.59 1.41.59.51 0 1.02-.2 1.41-.59l7.78-7.78 2.81-2.81c.8-.78.8-2.07 0-2.86zM5.41 20L4 18.59l7.72-7.72 1.47 1.35L5.41 20z\"/>\n",
              "  </svg>\n",
              "      </button>\n",
              "      \n",
              "  <style>\n",
              "    .colab-df-container {\n",
              "      display:flex;\n",
              "      flex-wrap:wrap;\n",
              "      gap: 12px;\n",
              "    }\n",
              "\n",
              "    .colab-df-convert {\n",
              "      background-color: #E8F0FE;\n",
              "      border: none;\n",
              "      border-radius: 50%;\n",
              "      cursor: pointer;\n",
              "      display: none;\n",
              "      fill: #1967D2;\n",
              "      height: 32px;\n",
              "      padding: 0 0 0 0;\n",
              "      width: 32px;\n",
              "    }\n",
              "\n",
              "    .colab-df-convert:hover {\n",
              "      background-color: #E2EBFA;\n",
              "      box-shadow: 0px 1px 2px rgba(60, 64, 67, 0.3), 0px 1px 3px 1px rgba(60, 64, 67, 0.15);\n",
              "      fill: #174EA6;\n",
              "    }\n",
              "\n",
              "    [theme=dark] .colab-df-convert {\n",
              "      background-color: #3B4455;\n",
              "      fill: #D2E3FC;\n",
              "    }\n",
              "\n",
              "    [theme=dark] .colab-df-convert:hover {\n",
              "      background-color: #434B5C;\n",
              "      box-shadow: 0px 1px 3px 1px rgba(0, 0, 0, 0.15);\n",
              "      filter: drop-shadow(0px 1px 2px rgba(0, 0, 0, 0.3));\n",
              "      fill: #FFFFFF;\n",
              "    }\n",
              "  </style>\n",
              "\n",
              "      <script>\n",
              "        const buttonEl =\n",
              "          document.querySelector('#df-f0437f15-c5e4-4fba-82a6-3b9b5fa60e6c button.colab-df-convert');\n",
              "        buttonEl.style.display =\n",
              "          google.colab.kernel.accessAllowed ? 'block' : 'none';\n",
              "\n",
              "        async function convertToInteractive(key) {\n",
              "          const element = document.querySelector('#df-f0437f15-c5e4-4fba-82a6-3b9b5fa60e6c');\n",
              "          const dataTable =\n",
              "            await google.colab.kernel.invokeFunction('convertToInteractive',\n",
              "                                                     [key], {});\n",
              "          if (!dataTable) return;\n",
              "\n",
              "          const docLinkHtml = 'Like what you see? Visit the ' +\n",
              "            '<a target=\"_blank\" href=https://colab.research.google.com/notebooks/data_table.ipynb>data table notebook</a>'\n",
              "            + ' to learn more about interactive tables.';\n",
              "          element.innerHTML = '';\n",
              "          dataTable['output_type'] = 'display_data';\n",
              "          await google.colab.output.renderOutput(dataTable, element);\n",
              "          const docLink = document.createElement('div');\n",
              "          docLink.innerHTML = docLinkHtml;\n",
              "          element.appendChild(docLink);\n",
              "        }\n",
              "      </script>\n",
              "    </div>\n",
              "  </div>\n",
              "  "
            ]
          },
          "metadata": {},
          "execution_count": 21
        }
      ]
    },
    {
      "cell_type": "code",
      "source": [
        "smokedet_x.describe()"
      ],
      "metadata": {
        "colab": {
          "base_uri": "https://localhost:8080/"
        },
        "id": "68_0OKSoF8-x",
        "outputId": "a6e9b93e-12df-4312-8b60-f5b73df4df39"
      },
      "execution_count": null,
      "outputs": [
        {
          "output_type": "execute_result",
          "data": {
            "text/plain": [
              "       Temperature[C]   Humidity[%]     TVOC[ppb]     eCO2[ppm]        Raw H2  \\\n",
              "count    6.263000e+04  6.263000e+04  62630.000000  6.263000e+04  6.263000e+04   \n",
              "mean    -5.808684e-17 -2.613908e-16      0.000000  1.815214e-17 -3.412602e-16   \n",
              "std      1.000008e+00  1.000008e+00      1.000008  1.000008e+00  1.000008e+00   \n",
              "min     -2.644975e+00 -4.263760e+00     -0.248614 -1.416786e-01 -8.347780e+00   \n",
              "25%     -3.465432e-01 -1.138709e-01     -0.231972 -1.416786e-01 -4.127324e-01   \n",
              "50%      2.896750e-01  1.816635e-01     -0.123031 -1.416786e-01 -6.773028e-02   \n",
              "75%      6.573419e-01  5.302136e-01     -0.096403 -1.217402e-01  6.112632e-01   \n",
              "max      3.061367e+00  3.007288e+00      7.432343  3.113013e+01  3.158406e+00   \n",
              "\n",
              "        Raw Ethanol  Pressure[hPa]         PM1.0         PM2.5         NC0.5  \\\n",
              "count  6.263000e+04   6.263000e+04  6.263000e+04  62630.000000  6.263000e+04   \n",
              "mean   1.568345e-15  -6.630613e-14  3.630428e-18      0.000000  7.260855e-18   \n",
              "std    1.000008e+00   1.000008e+00  1.000008e+00      1.000008  1.000008e+00   \n",
              "min   -7.280062e+00  -5.840500e+00 -1.090433e-01     -0.093340 -1.152149e-01   \n",
              "25%   -5.237958e-01   5.434443e-02 -1.076558e-01     -0.092662 -1.131472e-01   \n",
              "50%   -4.155118e-01   1.414752e-01 -1.070813e-01     -0.092389 -1.122962e-01   \n",
              "75%    5.311529e-01   5.936536e-01 -1.067778e-01     -0.092237 -1.118343e-01   \n",
              "max    2.716521e+00   9.264028e-01  1.542855e+01     22.895322  1.429815e+01   \n",
              "\n",
              "              NC1.0         NC2.5  \n",
              "count  6.263000e+04  62630.000000  \n",
              "mean   1.452171e-17      0.000000  \n",
              "std    1.000008e+00      1.000008  \n",
              "min   -9.192422e-02     -0.073889  \n",
              "25%   -9.129931e-02     -0.073858  \n",
              "50%   -9.104691e-02     -0.073848  \n",
              "75%   -9.090874e-02     -0.073842  \n",
              "max    2.334881e+01     27.641769  "
            ],
            "text/html": [
              "\n",
              "  <div id=\"df-d235e5b6-385e-4858-86a0-7c0f2d4fe63d\">\n",
              "    <div class=\"colab-df-container\">\n",
              "      <div>\n",
              "<style scoped>\n",
              "    .dataframe tbody tr th:only-of-type {\n",
              "        vertical-align: middle;\n",
              "    }\n",
              "\n",
              "    .dataframe tbody tr th {\n",
              "        vertical-align: top;\n",
              "    }\n",
              "\n",
              "    .dataframe thead th {\n",
              "        text-align: right;\n",
              "    }\n",
              "</style>\n",
              "<table border=\"1\" class=\"dataframe\">\n",
              "  <thead>\n",
              "    <tr style=\"text-align: right;\">\n",
              "      <th></th>\n",
              "      <th>Temperature[C]</th>\n",
              "      <th>Humidity[%]</th>\n",
              "      <th>TVOC[ppb]</th>\n",
              "      <th>eCO2[ppm]</th>\n",
              "      <th>Raw H2</th>\n",
              "      <th>Raw Ethanol</th>\n",
              "      <th>Pressure[hPa]</th>\n",
              "      <th>PM1.0</th>\n",
              "      <th>PM2.5</th>\n",
              "      <th>NC0.5</th>\n",
              "      <th>NC1.0</th>\n",
              "      <th>NC2.5</th>\n",
              "    </tr>\n",
              "  </thead>\n",
              "  <tbody>\n",
              "    <tr>\n",
              "      <th>count</th>\n",
              "      <td>6.263000e+04</td>\n",
              "      <td>6.263000e+04</td>\n",
              "      <td>62630.000000</td>\n",
              "      <td>6.263000e+04</td>\n",
              "      <td>6.263000e+04</td>\n",
              "      <td>6.263000e+04</td>\n",
              "      <td>6.263000e+04</td>\n",
              "      <td>6.263000e+04</td>\n",
              "      <td>62630.000000</td>\n",
              "      <td>6.263000e+04</td>\n",
              "      <td>6.263000e+04</td>\n",
              "      <td>62630.000000</td>\n",
              "    </tr>\n",
              "    <tr>\n",
              "      <th>mean</th>\n",
              "      <td>-5.808684e-17</td>\n",
              "      <td>-2.613908e-16</td>\n",
              "      <td>0.000000</td>\n",
              "      <td>1.815214e-17</td>\n",
              "      <td>-3.412602e-16</td>\n",
              "      <td>1.568345e-15</td>\n",
              "      <td>-6.630613e-14</td>\n",
              "      <td>3.630428e-18</td>\n",
              "      <td>0.000000</td>\n",
              "      <td>7.260855e-18</td>\n",
              "      <td>1.452171e-17</td>\n",
              "      <td>0.000000</td>\n",
              "    </tr>\n",
              "    <tr>\n",
              "      <th>std</th>\n",
              "      <td>1.000008e+00</td>\n",
              "      <td>1.000008e+00</td>\n",
              "      <td>1.000008</td>\n",
              "      <td>1.000008e+00</td>\n",
              "      <td>1.000008e+00</td>\n",
              "      <td>1.000008e+00</td>\n",
              "      <td>1.000008e+00</td>\n",
              "      <td>1.000008e+00</td>\n",
              "      <td>1.000008</td>\n",
              "      <td>1.000008e+00</td>\n",
              "      <td>1.000008e+00</td>\n",
              "      <td>1.000008</td>\n",
              "    </tr>\n",
              "    <tr>\n",
              "      <th>min</th>\n",
              "      <td>-2.644975e+00</td>\n",
              "      <td>-4.263760e+00</td>\n",
              "      <td>-0.248614</td>\n",
              "      <td>-1.416786e-01</td>\n",
              "      <td>-8.347780e+00</td>\n",
              "      <td>-7.280062e+00</td>\n",
              "      <td>-5.840500e+00</td>\n",
              "      <td>-1.090433e-01</td>\n",
              "      <td>-0.093340</td>\n",
              "      <td>-1.152149e-01</td>\n",
              "      <td>-9.192422e-02</td>\n",
              "      <td>-0.073889</td>\n",
              "    </tr>\n",
              "    <tr>\n",
              "      <th>25%</th>\n",
              "      <td>-3.465432e-01</td>\n",
              "      <td>-1.138709e-01</td>\n",
              "      <td>-0.231972</td>\n",
              "      <td>-1.416786e-01</td>\n",
              "      <td>-4.127324e-01</td>\n",
              "      <td>-5.237958e-01</td>\n",
              "      <td>5.434443e-02</td>\n",
              "      <td>-1.076558e-01</td>\n",
              "      <td>-0.092662</td>\n",
              "      <td>-1.131472e-01</td>\n",
              "      <td>-9.129931e-02</td>\n",
              "      <td>-0.073858</td>\n",
              "    </tr>\n",
              "    <tr>\n",
              "      <th>50%</th>\n",
              "      <td>2.896750e-01</td>\n",
              "      <td>1.816635e-01</td>\n",
              "      <td>-0.123031</td>\n",
              "      <td>-1.416786e-01</td>\n",
              "      <td>-6.773028e-02</td>\n",
              "      <td>-4.155118e-01</td>\n",
              "      <td>1.414752e-01</td>\n",
              "      <td>-1.070813e-01</td>\n",
              "      <td>-0.092389</td>\n",
              "      <td>-1.122962e-01</td>\n",
              "      <td>-9.104691e-02</td>\n",
              "      <td>-0.073848</td>\n",
              "    </tr>\n",
              "    <tr>\n",
              "      <th>75%</th>\n",
              "      <td>6.573419e-01</td>\n",
              "      <td>5.302136e-01</td>\n",
              "      <td>-0.096403</td>\n",
              "      <td>-1.217402e-01</td>\n",
              "      <td>6.112632e-01</td>\n",
              "      <td>5.311529e-01</td>\n",
              "      <td>5.936536e-01</td>\n",
              "      <td>-1.067778e-01</td>\n",
              "      <td>-0.092237</td>\n",
              "      <td>-1.118343e-01</td>\n",
              "      <td>-9.090874e-02</td>\n",
              "      <td>-0.073842</td>\n",
              "    </tr>\n",
              "    <tr>\n",
              "      <th>max</th>\n",
              "      <td>3.061367e+00</td>\n",
              "      <td>3.007288e+00</td>\n",
              "      <td>7.432343</td>\n",
              "      <td>3.113013e+01</td>\n",
              "      <td>3.158406e+00</td>\n",
              "      <td>2.716521e+00</td>\n",
              "      <td>9.264028e-01</td>\n",
              "      <td>1.542855e+01</td>\n",
              "      <td>22.895322</td>\n",
              "      <td>1.429815e+01</td>\n",
              "      <td>2.334881e+01</td>\n",
              "      <td>27.641769</td>\n",
              "    </tr>\n",
              "  </tbody>\n",
              "</table>\n",
              "</div>\n",
              "      <button class=\"colab-df-convert\" onclick=\"convertToInteractive('df-d235e5b6-385e-4858-86a0-7c0f2d4fe63d')\"\n",
              "              title=\"Convert this dataframe to an interactive table.\"\n",
              "              style=\"display:none;\">\n",
              "        \n",
              "  <svg xmlns=\"http://www.w3.org/2000/svg\" height=\"24px\"viewBox=\"0 0 24 24\"\n",
              "       width=\"24px\">\n",
              "    <path d=\"M0 0h24v24H0V0z\" fill=\"none\"/>\n",
              "    <path d=\"M18.56 5.44l.94 2.06.94-2.06 2.06-.94-2.06-.94-.94-2.06-.94 2.06-2.06.94zm-11 1L8.5 8.5l.94-2.06 2.06-.94-2.06-.94L8.5 2.5l-.94 2.06-2.06.94zm10 10l.94 2.06.94-2.06 2.06-.94-2.06-.94-.94-2.06-.94 2.06-2.06.94z\"/><path d=\"M17.41 7.96l-1.37-1.37c-.4-.4-.92-.59-1.43-.59-.52 0-1.04.2-1.43.59L10.3 9.45l-7.72 7.72c-.78.78-.78 2.05 0 2.83L4 21.41c.39.39.9.59 1.41.59.51 0 1.02-.2 1.41-.59l7.78-7.78 2.81-2.81c.8-.78.8-2.07 0-2.86zM5.41 20L4 18.59l7.72-7.72 1.47 1.35L5.41 20z\"/>\n",
              "  </svg>\n",
              "      </button>\n",
              "      \n",
              "  <style>\n",
              "    .colab-df-container {\n",
              "      display:flex;\n",
              "      flex-wrap:wrap;\n",
              "      gap: 12px;\n",
              "    }\n",
              "\n",
              "    .colab-df-convert {\n",
              "      background-color: #E8F0FE;\n",
              "      border: none;\n",
              "      border-radius: 50%;\n",
              "      cursor: pointer;\n",
              "      display: none;\n",
              "      fill: #1967D2;\n",
              "      height: 32px;\n",
              "      padding: 0 0 0 0;\n",
              "      width: 32px;\n",
              "    }\n",
              "\n",
              "    .colab-df-convert:hover {\n",
              "      background-color: #E2EBFA;\n",
              "      box-shadow: 0px 1px 2px rgba(60, 64, 67, 0.3), 0px 1px 3px 1px rgba(60, 64, 67, 0.15);\n",
              "      fill: #174EA6;\n",
              "    }\n",
              "\n",
              "    [theme=dark] .colab-df-convert {\n",
              "      background-color: #3B4455;\n",
              "      fill: #D2E3FC;\n",
              "    }\n",
              "\n",
              "    [theme=dark] .colab-df-convert:hover {\n",
              "      background-color: #434B5C;\n",
              "      box-shadow: 0px 1px 3px 1px rgba(0, 0, 0, 0.15);\n",
              "      filter: drop-shadow(0px 1px 2px rgba(0, 0, 0, 0.3));\n",
              "      fill: #FFFFFF;\n",
              "    }\n",
              "  </style>\n",
              "\n",
              "      <script>\n",
              "        const buttonEl =\n",
              "          document.querySelector('#df-d235e5b6-385e-4858-86a0-7c0f2d4fe63d button.colab-df-convert');\n",
              "        buttonEl.style.display =\n",
              "          google.colab.kernel.accessAllowed ? 'block' : 'none';\n",
              "\n",
              "        async function convertToInteractive(key) {\n",
              "          const element = document.querySelector('#df-d235e5b6-385e-4858-86a0-7c0f2d4fe63d');\n",
              "          const dataTable =\n",
              "            await google.colab.kernel.invokeFunction('convertToInteractive',\n",
              "                                                     [key], {});\n",
              "          if (!dataTable) return;\n",
              "\n",
              "          const docLinkHtml = 'Like what you see? Visit the ' +\n",
              "            '<a target=\"_blank\" href=https://colab.research.google.com/notebooks/data_table.ipynb>data table notebook</a>'\n",
              "            + ' to learn more about interactive tables.';\n",
              "          element.innerHTML = '';\n",
              "          dataTable['output_type'] = 'display_data';\n",
              "          await google.colab.output.renderOutput(dataTable, element);\n",
              "          const docLink = document.createElement('div');\n",
              "          docLink.innerHTML = docLinkHtml;\n",
              "          element.appendChild(docLink);\n",
              "        }\n",
              "      </script>\n",
              "    </div>\n",
              "  </div>\n",
              "  "
            ]
          },
          "metadata": {},
          "execution_count": 22
        }
      ]
    },
    {
      "cell_type": "markdown",
      "source": [
        "## 3.2 PCA Analysis"
      ],
      "metadata": {
        "id": "l57XqwkoGLtM"
      }
    },
    {
      "cell_type": "code",
      "source": [
        "from sklearn.decomposition import PCA"
      ],
      "metadata": {
        "id": "fgjoBSMaGOSU"
      },
      "execution_count": null,
      "outputs": []
    },
    {
      "cell_type": "code",
      "source": [
        "pca = PCA(n_components=None)"
      ],
      "metadata": {
        "id": "vTIj1AhvGR89"
      },
      "execution_count": null,
      "outputs": []
    },
    {
      "cell_type": "code",
      "source": [
        "smokedet_pca = pca.fit(smokedet_x)"
      ],
      "metadata": {
        "id": "rsYWcWYNJY9i"
      },
      "execution_count": null,
      "outputs": []
    },
    {
      "cell_type": "markdown",
      "source": [
        "## Plot the explained variance ratio"
      ],
      "metadata": {
        "id": "tr7C6cOkGqpb"
      }
    },
    {
      "cell_type": "code",
      "source": [
        "plt.figure(figsize=(10,6))\n",
        "plt.scatter(x=[i+1 for i in range(len(smokedet_pca.explained_variance_ratio_))],\n",
        "            y=smokedet_pca.explained_variance_ratio_,\n",
        "           s=200, alpha=0.75,c='orange',edgecolor='k')\n",
        "plt.grid(True)\n",
        "plt.title(\"Explained variance ratio of the \\nfitted principal component vector\\n\",fontsize=25)\n",
        "plt.xlabel(\"Principal components\",fontsize=15)\n",
        "plt.xticks([i+1 for i in range(len(smokedet_pca.explained_variance_ratio_))],fontsize=15)\n",
        "plt.yticks(fontsize=15)\n",
        "plt.ylabel(\"Explained variance ratio\",fontsize=15)\n",
        "plt.show()"
      ],
      "metadata": {
        "colab": {
          "base_uri": "https://localhost:8080/",
          "height": 668
        },
        "id": "KskvbC_rGrh5",
        "outputId": "6a6422d5-3afb-4431-f592-234d107101d4"
      },
      "execution_count": null,
      "outputs": [
        {
          "output_type": "display_data",
          "data": {
            "text/plain": [
              "<Figure size 1000x600 with 1 Axes>"
            ],
            "image/png": "[encoded data removed]"
          },
          "metadata": {}
        }
      ]
    },
    {
      "cell_type": "markdown",
      "source": [
        "Showing better class separation using principal components"
      ],
      "metadata": {
        "id": "8y7_1WBaG6NW"
      }
    },
    {
      "cell_type": "code",
      "source": [
        "# Transform the scaled data set using the fitted PCA object\n",
        "smokedet_trans = pca.transform(smokedet_x)"
      ],
      "metadata": {
        "id": "VUVF6axpG63u"
      },
      "execution_count": null,
      "outputs": []
    },
    {
      "cell_type": "code",
      "source": [
        "# Put it in a data frame\n",
        "smokedet_trans = pd.DataFrame(data = smokedet_trans)\n",
        "smokedet_trans.head(10)"
      ],
      "metadata": {
        "colab": {
          "base_uri": "https://localhost:8080/",
          "height": 363
        },
        "id": "-P5z8KHwHEBw",
        "outputId": "87fab89c-1e09-4860-da6c-e3159e32cf15"
      },
      "execution_count": null,
      "outputs": [
        {
          "output_type": "execute_result",
          "data": {
            "text/plain": [
              "         0         1         2         3         4         5         6   \\\n",
              "0  0.580507  0.371626 -2.415334  1.123623  1.069251 -1.372491 -0.099813   \n",
              "1  0.500161  0.360411 -2.232252  1.067556  1.000276 -1.233331 -0.099635   \n",
              "2  0.439056  0.334954 -2.073280  1.014632  0.947455 -1.121491 -0.101933   \n",
              "3  0.401235  0.303023 -1.958349  0.972250  0.911453 -1.042226 -0.103821   \n",
              "4  0.368939  0.278154 -1.864308  0.937659  0.879135 -0.972962 -0.104067   \n",
              "5  0.334254  0.246991 -1.754115  0.897762  0.849724 -0.904428 -0.108354   \n",
              "6  0.304770  0.229000 -1.674396  0.869107  0.816266 -0.842402 -0.105444   \n",
              "7  0.280456  0.215325 -1.610677  0.846542  0.796315 -0.788589 -0.107432   \n",
              "8  0.261894  0.197178 -1.552266  0.824597  0.773272 -0.748177 -0.105492   \n",
              "9  0.249907  0.179584 -1.498568  0.804958  0.759729 -0.714667 -0.106893   \n",
              "\n",
              "         7         8             9             10            11  \n",
              "0 -0.032211 -0.915377 -6.352267e-07 -1.858539e-07 -1.204360e-07  \n",
              "1 -0.101580 -0.890719 -6.101398e-07 -1.784266e-07 -1.163986e-07  \n",
              "2 -0.166599 -0.878495 -5.925753e-07 -1.733675e-07 -1.137695e-07  \n",
              "3 -0.227274 -0.886506 -5.861506e-07 -1.716871e-07 -1.133285e-07  \n",
              "4 -0.282305 -0.897683 -5.821513e-07 -1.706707e-07 -1.133223e-07  \n",
              "5 -0.329755 -0.895158 -5.731065e-07 -1.682028e-07 -1.121148e-07  \n",
              "6 -0.373780 -0.904667 -5.685012e-07 -1.670479e-07 -1.119078e-07  \n",
              "7 -0.425114 -0.918325 -5.689426e-07 -1.670921e-07 -1.126641e-07  \n",
              "8 -0.452990 -0.924646 -5.653084e-07 -1.662684e-07 -1.124075e-07  \n",
              "9 -0.486400 -0.933237  1.072865e-04  3.592698e-05  2.507408e-05  "
            ],
            "text/html": [
              "\n",
              "  <div id=\"df-d601c86a-1e7a-446c-8020-2af0807efab3\">\n",
              "    <div class=\"colab-df-container\">\n",
              "      <div>\n",
              "<style scoped>\n",
              "    .dataframe tbody tr th:only-of-type {\n",
              "        vertical-align: middle;\n",
              "    }\n",
              "\n",
              "    .dataframe tbody tr th {\n",
              "        vertical-align: top;\n",
              "    }\n",
              "\n",
              "    .dataframe thead th {\n",
              "        text-align: right;\n",
              "    }\n",
              "</style>\n",
              "<table border=\"1\" class=\"dataframe\">\n",
              "  <thead>\n",
              "    <tr style=\"text-align: right;\">\n",
              "      <th></th>\n",
              "      <th>0</th>\n",
              "      <th>1</th>\n",
              "      <th>2</th>\n",
              "      <th>3</th>\n",
              "      <th>4</th>\n",
              "      <th>5</th>\n",
              "      <th>6</th>\n",
              "      <th>7</th>\n",
              "      <th>8</th>\n",
              "      <th>9</th>\n",
              "      <th>10</th>\n",
              "      <th>11</th>\n",
              "    </tr>\n",
              "  </thead>\n",
              "  <tbody>\n",
              "    <tr>\n",
              "      <th>0</th>\n",
              "      <td>0.580507</td>\n",
              "      <td>0.371626</td>\n",
              "      <td>-2.415334</td>\n",
              "      <td>1.123623</td>\n",
              "      <td>1.069251</td>\n",
              "      <td>-1.372491</td>\n",
              "      <td>-0.099813</td>\n",
              "      <td>-0.032211</td>\n",
              "      <td>-0.915377</td>\n",
              "      <td>-6.352267e-07</td>\n",
              "      <td>-1.858539e-07</td>\n",
              "      <td>-1.204360e-07</td>\n",
              "    </tr>\n",
              "    <tr>\n",
              "      <th>1</th>\n",
              "      <td>0.500161</td>\n",
              "      <td>0.360411</td>\n",
              "      <td>-2.232252</td>\n",
              "      <td>1.067556</td>\n",
              "      <td>1.000276</td>\n",
              "      <td>-1.233331</td>\n",
              "      <td>-0.099635</td>\n",
              "      <td>-0.101580</td>\n",
              "      <td>-0.890719</td>\n",
              "      <td>-6.101398e-07</td>\n",
              "      <td>-1.784266e-07</td>\n",
              "      <td>-1.163986e-07</td>\n",
              "    </tr>\n",
              "    <tr>\n",
              "      <th>2</th>\n",
              "      <td>0.439056</td>\n",
              "      <td>0.334954</td>\n",
              "      <td>-2.073280</td>\n",
              "      <td>1.014632</td>\n",
              "      <td>0.947455</td>\n",
              "      <td>-1.121491</td>\n",
              "      <td>-0.101933</td>\n",
              "      <td>-0.166599</td>\n",
              "      <td>-0.878495</td>\n",
              "      <td>-5.925753e-07</td>\n",
              "      <td>-1.733675e-07</td>\n",
              "      <td>-1.137695e-07</td>\n",
              "    </tr>\n",
              "    <tr>\n",
              "      <th>3</th>\n",
              "      <td>0.401235</td>\n",
              "      <td>0.303023</td>\n",
              "      <td>-1.958349</td>\n",
              "      <td>0.972250</td>\n",
              "      <td>0.911453</td>\n",
              "      <td>-1.042226</td>\n",
              "      <td>-0.103821</td>\n",
              "      <td>-0.227274</td>\n",
              "      <td>-0.886506</td>\n",
              "      <td>-5.861506e-07</td>\n",
              "      <td>-1.716871e-07</td>\n",
              "      <td>-1.133285e-07</td>\n",
              "    </tr>\n",
              "    <tr>\n",
              "      <th>4</th>\n",
              "      <td>0.368939</td>\n",
              "      <td>0.278154</td>\n",
              "      <td>-1.864308</td>\n",
              "      <td>0.937659</td>\n",
              "      <td>0.879135</td>\n",
              "      <td>-0.972962</td>\n",
              "      <td>-0.104067</td>\n",
              "      <td>-0.282305</td>\n",
              "      <td>-0.897683</td>\n",
              "      <td>-5.821513e-07</td>\n",
              "      <td>-1.706707e-07</td>\n",
              "      <td>-1.133223e-07</td>\n",
              "    </tr>\n",
              "    <tr>\n",
              "      <th>5</th>\n",
              "      <td>0.334254</td>\n",
              "      <td>0.246991</td>\n",
              "      <td>-1.754115</td>\n",
              "      <td>0.897762</td>\n",
              "      <td>0.849724</td>\n",
              "      <td>-0.904428</td>\n",
              "      <td>-0.108354</td>\n",
              "      <td>-0.329755</td>\n",
              "      <td>-0.895158</td>\n",
              "      <td>-5.731065e-07</td>\n",
              "      <td>-1.682028e-07</td>\n",
              "      <td>-1.121148e-07</td>\n",
              "    </tr>\n",
              "    <tr>\n",
              "      <th>6</th>\n",
              "      <td>0.304770</td>\n",
              "      <td>0.229000</td>\n",
              "      <td>-1.674396</td>\n",
              "      <td>0.869107</td>\n",
              "      <td>0.816266</td>\n",
              "      <td>-0.842402</td>\n",
              "      <td>-0.105444</td>\n",
              "      <td>-0.373780</td>\n",
              "      <td>-0.904667</td>\n",
              "      <td>-5.685012e-07</td>\n",
              "      <td>-1.670479e-07</td>\n",
              "      <td>-1.119078e-07</td>\n",
              "    </tr>\n",
              "    <tr>\n",
              "      <th>7</th>\n",
              "      <td>0.280456</td>\n",
              "      <td>0.215325</td>\n",
              "      <td>-1.610677</td>\n",
              "      <td>0.846542</td>\n",
              "      <td>0.796315</td>\n",
              "      <td>-0.788589</td>\n",
              "      <td>-0.107432</td>\n",
              "      <td>-0.425114</td>\n",
              "      <td>-0.918325</td>\n",
              "      <td>-5.689426e-07</td>\n",
              "      <td>-1.670921e-07</td>\n",
              "      <td>-1.126641e-07</td>\n",
              "    </tr>\n",
              "    <tr>\n",
              "      <th>8</th>\n",
              "      <td>0.261894</td>\n",
              "      <td>0.197178</td>\n",
              "      <td>-1.552266</td>\n",
              "      <td>0.824597</td>\n",
              "      <td>0.773272</td>\n",
              "      <td>-0.748177</td>\n",
              "      <td>-0.105492</td>\n",
              "      <td>-0.452990</td>\n",
              "      <td>-0.924646</td>\n",
              "      <td>-5.653084e-07</td>\n",
              "      <td>-1.662684e-07</td>\n",
              "      <td>-1.124075e-07</td>\n",
              "    </tr>\n",
              "    <tr>\n",
              "      <th>9</th>\n",
              "      <td>0.249907</td>\n",
              "      <td>0.179584</td>\n",
              "      <td>-1.498568</td>\n",
              "      <td>0.804958</td>\n",
              "      <td>0.759729</td>\n",
              "      <td>-0.714667</td>\n",
              "      <td>-0.106893</td>\n",
              "      <td>-0.486400</td>\n",
              "      <td>-0.933237</td>\n",
              "      <td>1.072865e-04</td>\n",
              "      <td>3.592698e-05</td>\n",
              "      <td>2.507408e-05</td>\n",
              "    </tr>\n",
              "  </tbody>\n",
              "</table>\n",
              "</div>\n",
              "      <button class=\"colab-df-convert\" onclick=\"convertToInteractive('df-d601c86a-1e7a-446c-8020-2af0807efab3')\"\n",
              "              title=\"Convert this dataframe to an interactive table.\"\n",
              "              style=\"display:none;\">\n",
              "        \n",
              "  <svg xmlns=\"http://www.w3.org/2000/svg\" height=\"24px\"viewBox=\"0 0 24 24\"\n",
              "       width=\"24px\">\n",
              "    <path d=\"M0 0h24v24H0V0z\" fill=\"none\"/>\n",
              "    <path d=\"M18.56 5.44l.94 2.06.94-2.06 2.06-.94-2.06-.94-.94-2.06-.94 2.06-2.06.94zm-11 1L8.5 8.5l.94-2.06 2.06-.94-2.06-.94L8.5 2.5l-.94 2.06-2.06.94zm10 10l.94 2.06.94-2.06 2.06-.94-2.06-.94-.94-2.06-.94 2.06-2.06.94z\"/><path d=\"M17.41 7.96l-1.37-1.37c-.4-.4-.92-.59-1.43-.59-.52 0-1.04.2-1.43.59L10.3 9.45l-7.72 7.72c-.78.78-.78 2.05 0 2.83L4 21.41c.39.39.9.59 1.41.59.51 0 1.02-.2 1.41-.59l7.78-7.78 2.81-2.81c.8-.78.8-2.07 0-2.86zM5.41 20L4 18.59l7.72-7.72 1.47 1.35L5.41 20z\"/>\n",
              "  </svg>\n",
              "      </button>\n",
              "      \n",
              "  <style>\n",
              "    .colab-df-container {\n",
              "      display:flex;\n",
              "      flex-wrap:wrap;\n",
              "      gap: 12px;\n",
              "    }\n",
              "\n",
              "    .colab-df-convert {\n",
              "      background-color: #E8F0FE;\n",
              "      border: none;\n",
              "      border-radius: 50%;\n",
              "      cursor: pointer;\n",
              "      display: none;\n",
              "      fill: #1967D2;\n",
              "      height: 32px;\n",
              "      padding: 0 0 0 0;\n",
              "      width: 32px;\n",
              "    }\n",
              "\n",
              "    .colab-df-convert:hover {\n",
              "      background-color: #E2EBFA;\n",
              "      box-shadow: 0px 1px 2px rgba(60, 64, 67, 0.3), 0px 1px 3px 1px rgba(60, 64, 67, 0.15);\n",
              "      fill: #174EA6;\n",
              "    }\n",
              "\n",
              "    [theme=dark] .colab-df-convert {\n",
              "      background-color: #3B4455;\n",
              "      fill: #D2E3FC;\n",
              "    }\n",
              "\n",
              "    [theme=dark] .colab-df-convert:hover {\n",
              "      background-color: #434B5C;\n",
              "      box-shadow: 0px 1px 3px 1px rgba(0, 0, 0, 0.15);\n",
              "      filter: drop-shadow(0px 1px 2px rgba(0, 0, 0, 0.3));\n",
              "      fill: #FFFFFF;\n",
              "    }\n",
              "  </style>\n",
              "\n",
              "      <script>\n",
              "        const buttonEl =\n",
              "          document.querySelector('#df-d601c86a-1e7a-446c-8020-2af0807efab3 button.colab-df-convert');\n",
              "        buttonEl.style.display =\n",
              "          google.colab.kernel.accessAllowed ? 'block' : 'none';\n",
              "\n",
              "        async function convertToInteractive(key) {\n",
              "          const element = document.querySelector('#df-d601c86a-1e7a-446c-8020-2af0807efab3');\n",
              "          const dataTable =\n",
              "            await google.colab.kernel.invokeFunction('convertToInteractive',\n",
              "                                                     [key], {});\n",
              "          if (!dataTable) return;\n",
              "\n",
              "          const docLinkHtml = 'Like what you see? Visit the ' +\n",
              "            '<a target=\"_blank\" href=https://colab.research.google.com/notebooks/data_table.ipynb>data table notebook</a>'\n",
              "            + ' to learn more about interactive tables.';\n",
              "          element.innerHTML = '';\n",
              "          dataTable['output_type'] = 'display_data';\n",
              "          await google.colab.output.renderOutput(dataTable, element);\n",
              "          const docLink = document.createElement('div');\n",
              "          docLink.innerHTML = docLinkHtml;\n",
              "          element.appendChild(docLink);\n",
              "        }\n",
              "      </script>\n",
              "    </div>\n",
              "  </div>\n",
              "  "
            ]
          },
          "metadata": {},
          "execution_count": 28
        }
      ]
    },
    {
      "cell_type": "markdown",
      "source": [
        "Plot the first two columns of this transformed data set with the color set to original ground truth class label"
      ],
      "metadata": {
        "id": "5UzJJhRGHUwA"
      }
    },
    {
      "cell_type": "code",
      "source": [
        "plt.figure(figsize=(10,6))\n",
        "plt.scatter(smokedet_trans[1], smokedet_trans[2], c=smokedet['Fire Alarm'],edgecolors='k',alpha=0.75,s=150)\n",
        "plt.grid(True)\n",
        "plt.title(\"Class separation using first two principal components\\n\",fontsize=20)\n",
        "plt.xlabel(\"Principal component-1\",fontsize=15)\n",
        "plt.ylabel(\"Principal component-2\",fontsize=15)\n",
        "plt.show()"
      ],
      "metadata": {
        "colab": {
          "base_uri": "https://localhost:8080/",
          "height": 611
        },
        "id": "RqpW6823HRPq",
        "outputId": "f22595f1-ecb8-4c3f-db56-730cdb8184e5"
      },
      "execution_count": null,
      "outputs": [
        {
          "output_type": "display_data",
          "data": {
            "text/plain": [
              "<Figure size 1000x600 with 1 Axes>"
            ],
            "image/png": "[encoded data removed]"
          },
          "metadata": {}
        }
      ]
    },
    {
      "cell_type": "markdown",
      "source": [
        "# 4. Data Preparation"
      ],
      "metadata": {
        "id": "6XJr8XcNl53w"
      }
    },
    {
      "cell_type": "code",
      "source": [
        "from sklearn.model_selection import train_test_split"
      ],
      "metadata": {
        "id": "UKsxA1cumMZu"
      },
      "execution_count": null,
      "outputs": []
    },
    {
      "cell_type": "markdown",
      "source": [
        "## 4.1 Splitting Data (Before PCA)"
      ],
      "metadata": {
        "id": "0edCodDRmNPz"
      }
    },
    {
      "cell_type": "code",
      "execution_count": null,
      "metadata": {
        "id": "An965JjV4zY9"
      },
      "outputs": [],
      "source": [
        "x_train, x_test, y_train, y_test = train_test_split(x,y,test_size=0.2,random_state=42)"
      ]
    },
    {
      "cell_type": "code",
      "source": [
        "print(x_train.shape)\n",
        "print(x_test.shape)\n",
        "print(y_train.shape)\n",
        "print(y_test.shape)"
      ],
      "metadata": {
        "colab": {
          "base_uri": "https://localhost:8080/"
        },
        "id": "zY1ba1ZzmlAC",
        "outputId": "f8424ade-bc14-408e-ae04-b95cba28f43b"
      },
      "execution_count": null,
      "outputs": [
        {
          "output_type": "stream",
          "name": "stdout",
          "text": [
            "(50104, 12)\n",
            "(12526, 12)\n",
            "(50104,)\n",
            "(12526,)\n"
          ]
        }
      ]
    },
    {
      "cell_type": "markdown",
      "source": [
        "## 4.2 Splitting Data (After PCA)"
      ],
      "metadata": {
        "id": "kqozM1ndmuwW"
      }
    },
    {
      "cell_type": "code",
      "source": [
        "x_train_pca, x_test_pca, y_train_pca, y_test_pca = train_test_split(smokedet_trans, y, test_size=0.20, random_state=42)"
      ],
      "metadata": {
        "id": "Itq2WA1zUmW3"
      },
      "execution_count": null,
      "outputs": []
    },
    {
      "cell_type": "code",
      "source": [
        "print(x_train_pca.shape)\n",
        "print(x_test_pca.shape)\n",
        "print(y_train_pca.shape)\n",
        "print(y_test_pca.shape)"
      ],
      "metadata": {
        "colab": {
          "base_uri": "https://localhost:8080/"
        },
        "id": "_NikqmTXmx3g",
        "outputId": "3ba85402-8b06-4003-bb28-73c68c76c9b5"
      },
      "execution_count": null,
      "outputs": [
        {
          "output_type": "stream",
          "name": "stdout",
          "text": [
            "(50104, 12)\n",
            "(12526, 12)\n",
            "(50104,)\n",
            "(12526,)\n"
          ]
        }
      ]
    },
    {
      "cell_type": "markdown",
      "source": [
        "# 5. Logistic Regression (Before PCA)"
      ],
      "metadata": {
        "id": "9KMfa2-nl3TY"
      }
    },
    {
      "cell_type": "code",
      "source": [
        "from sklearn.metrics import classification_report,confusion_matrix"
      ],
      "metadata": {
        "id": "zCIN-oETRQSp"
      },
      "execution_count": null,
      "outputs": []
    },
    {
      "cell_type": "code",
      "execution_count": null,
      "metadata": {
        "id": "l0BZBbLdg3vX"
      },
      "outputs": [],
      "source": [
        "import statsmodels.api as sm"
      ]
    },
    {
      "cell_type": "code",
      "execution_count": null,
      "metadata": {
        "colab": {
          "base_uri": "https://localhost:8080/"
        },
        "id": "n3vixKRmhLt0",
        "outputId": "8b84ba0e-b675-44b1-d3b4-2fbba0b8dc0b"
      },
      "outputs": [
        {
          "output_type": "stream",
          "name": "stdout",
          "text": [
            "Optimization terminated successfully.\n",
            "         Current function value: 0.269558\n",
            "         Iterations 11\n"
          ]
        }
      ],
      "source": [
        "# digunakan untuk membntuk model\n",
        "logreg = sm.Logit(y_train, x_train).fit()"
      ]
    },
    {
      "cell_type": "code",
      "source": [
        "print(logreg.summary())"
      ],
      "metadata": {
        "colab": {
          "base_uri": "https://localhost:8080/"
        },
        "id": "evWFT4vPfpE_",
        "outputId": "ff9ddce6-cd9c-4501-84e0-825ec835b80f"
      },
      "execution_count": null,
      "outputs": [
        {
          "output_type": "stream",
          "name": "stdout",
          "text": [
            "                           Logit Regression Results                           \n",
            "==============================================================================\n",
            "Dep. Variable:             Fire Alarm   No. Observations:                50104\n",
            "Model:                          Logit   Df Residuals:                    50092\n",
            "Method:                           MLE   Df Model:                           11\n",
            "Date:                Thu, 22 Jun 2023   Pseudo R-squ.:                  0.5489\n",
            "Time:                        10:19:00   Log-Likelihood:                -13506.\n",
            "converged:                       True   LL-Null:                       -29942.\n",
            "Covariance Type:            nonrobust   LLR p-value:                     0.000\n",
            "==================================================================================\n",
            "                     coef    std err          z      P>|z|      [0.025      0.975]\n",
            "----------------------------------------------------------------------------------\n",
            "Temperature[C]    -0.0475      0.001    -32.120      0.000      -0.050      -0.045\n",
            "Humidity[%]       -0.0218      0.002     -9.000      0.000      -0.027      -0.017\n",
            "TVOC[ppb]         -0.0014   3.66e-05    -38.555      0.000      -0.001      -0.001\n",
            "eCO2[ppm]          0.0020   6.88e-05     29.223      0.000       0.002       0.002\n",
            "Raw H2             0.0067      0.000     36.121      0.000       0.006       0.007\n",
            "Raw Ethanol       -0.0088      0.000    -59.915      0.000      -0.009      -0.008\n",
            "Pressure[hPa]      0.0952      0.002     61.702      0.000       0.092       0.098\n",
            "PM1.0             11.2523      5.393      2.086      0.037       0.682      21.823\n",
            "PM2.5              0.0465      5.447      0.009      0.993     -10.629      10.722\n",
            "NC0.5             -8.3314      1.207     -6.905      0.000     -10.696      -5.966\n",
            "NC1.0             44.6279     10.402      4.290      0.000      24.240      65.016\n",
            "NC2.5            -76.5978     14.043     -5.455      0.000    -104.121     -49.074\n",
            "==================================================================================\n"
          ]
        }
      ]
    },
    {
      "cell_type": "markdown",
      "metadata": {
        "id": "qPuPHwGjheAu"
      },
      "source": [
        "From the result, we can conclude that the independent variables are independent towards the dependent/target variable is by seeing the p-value from P>|z|. If it is under the significance level (assumed that \\alpha = 0.05), then the variable is significant.\n",
        "\n",
        "Based on the analysis :\n",
        "1. Temperature, humidity, TVOC, Co2, Raw H2, Raw Ethanol, Pressure, NC0.5, NC1.0, NC2.5 are very significant towards the target variable (fire alarm) cause the p-value is far under from the significance level.\n",
        "2. PM1.0 shows a slight significant towards 'fire alarm' which only a little bit under the significance level.\n",
        "3. PM2.5 is most likely not significant because the p-value score is far above from the significance level."
      ]
    },
    {
      "cell_type": "markdown",
      "metadata": {
        "id": "lHv-KE5aivh4"
      },
      "source": [
        "## 5.1 Using All Variable (Full Model)"
      ]
    },
    {
      "cell_type": "markdown",
      "metadata": {
        "id": "K2ISFnuVjsm7"
      },
      "source": [
        "**For Training Data**"
      ]
    },
    {
      "cell_type": "code",
      "execution_count": null,
      "metadata": {
        "colab": {
          "base_uri": "https://localhost:8080/"
        },
        "id": "12wlgerpiujI",
        "outputId": "8d5b7332-8962-4198-a2e9-5ab3b595ee75"
      },
      "outputs": [
        {
          "output_type": "execute_result",
          "data": {
            "text/plain": [
              "28479    7.947524e-01\n",
              "42605    9.368124e-01\n",
              "17963    9.564506e-01\n",
              "56394    9.706235e-28\n",
              "29875    5.652358e-01\n",
              "dtype: float64"
            ]
          },
          "metadata": {},
          "execution_count": 42
        }
      ],
      "source": [
        "yp_train_lr1 = logreg.predict(x_train)\n",
        "yp_train_lr1.head()"
      ]
    },
    {
      "cell_type": "code",
      "execution_count": null,
      "metadata": {
        "colab": {
          "base_uri": "https://localhost:8080/"
        },
        "id": "HDUXgYr4jK6a",
        "outputId": "0b48adef-2ac3-4530-b88b-1660a7514419"
      },
      "outputs": [
        {
          "output_type": "execute_result",
          "data": {
            "text/plain": [
              "28479    1\n",
              "42605    1\n",
              "17963    1\n",
              "56394    0\n",
              "29875    1\n",
              "dtype: int64"
            ]
          },
          "metadata": {},
          "execution_count": 43
        }
      ],
      "source": [
        "yhat_train_lr1 = (yp_train_lr1 >= 0.5).astype(int)\n",
        "yhat_train_lr1.head()"
      ]
    },
    {
      "cell_type": "code",
      "execution_count": null,
      "metadata": {
        "colab": {
          "base_uri": "https://localhost:8080/"
        },
        "id": "6m1aBetIjT65",
        "outputId": "7aec7735-8187-4b99-9321-9ca41f55d319"
      },
      "outputs": [
        {
          "output_type": "stream",
          "name": "stdout",
          "text": [
            "[[ 8914  5365]\n",
            " [  670 35155]]\n"
          ]
        }
      ],
      "source": [
        "cm_train_lr1 = confusion_matrix(y_train, yhat_train_lr1)\n",
        "print(cm_train_lr1)"
      ]
    },
    {
      "cell_type": "code",
      "execution_count": null,
      "metadata": {
        "colab": {
          "base_uri": "https://localhost:8080/"
        },
        "id": "O-aj9hGgjlvp",
        "outputId": "43065f73-201a-4d55-ba94-5fe9d3cddffc"
      },
      "outputs": [
        {
          "output_type": "stream",
          "name": "stdout",
          "text": [
            "              precision    recall  f1-score   support\n",
            "\n",
            "           0       0.93      0.62      0.75     14279\n",
            "           1       0.87      0.98      0.92     35825\n",
            "\n",
            "    accuracy                           0.88     50104\n",
            "   macro avg       0.90      0.80      0.83     50104\n",
            "weighted avg       0.89      0.88      0.87     50104\n",
            "\n"
          ]
        }
      ],
      "source": [
        "print(classification_report(y_train, yhat_train_lr1))"
      ]
    },
    {
      "cell_type": "markdown",
      "metadata": {
        "id": "YKJAhBkPkCEV"
      },
      "source": [
        "**For Testing Data**"
      ]
    },
    {
      "cell_type": "code",
      "execution_count": null,
      "metadata": {
        "colab": {
          "base_uri": "https://localhost:8080/"
        },
        "id": "G5GgbZXckEhA",
        "outputId": "a5c0f70f-59ec-443b-b6b0-e81cfa787083"
      },
      "outputs": [
        {
          "output_type": "execute_result",
          "data": {
            "text/plain": [
              "31120    0.576519\n",
              "49054    0.970116\n",
              "55910    0.000462\n",
              "33802    0.745954\n",
              "9683     0.952304\n",
              "dtype: float64"
            ]
          },
          "metadata": {},
          "execution_count": 46
        }
      ],
      "source": [
        "yp_test_lr1 = logreg.predict(x_test)\n",
        "yp_test_lr1.head()"
      ]
    },
    {
      "cell_type": "code",
      "execution_count": null,
      "metadata": {
        "colab": {
          "base_uri": "https://localhost:8080/"
        },
        "id": "9LwSaNiYkIRP",
        "outputId": "81497219-a4c1-4ea0-fe39-6b62854c253e"
      },
      "outputs": [
        {
          "output_type": "execute_result",
          "data": {
            "text/plain": [
              "31120    1\n",
              "49054    1\n",
              "55910    0\n",
              "33802    1\n",
              "9683     1\n",
              "dtype: int64"
            ]
          },
          "metadata": {},
          "execution_count": 47
        }
      ],
      "source": [
        "yhat_test_lr1 = (yp_test_lr1 >= 0.5).astype(int)\n",
        "yhat_test_lr1.head()"
      ]
    },
    {
      "cell_type": "code",
      "execution_count": null,
      "metadata": {
        "colab": {
          "base_uri": "https://localhost:8080/"
        },
        "id": "Hh6lxvQ_kU7R",
        "outputId": "68626387-9a1f-4f05-fe34-462bf10c75fa"
      },
      "outputs": [
        {
          "output_type": "stream",
          "name": "stdout",
          "text": [
            "[[2294 1300]\n",
            " [ 184 8748]]\n"
          ]
        }
      ],
      "source": [
        "cm_test_lr2 = confusion_matrix(y_test, yhat_test_lr1)\n",
        "print(cm_test_lr2)"
      ]
    },
    {
      "cell_type": "code",
      "execution_count": null,
      "metadata": {
        "colab": {
          "base_uri": "https://localhost:8080/"
        },
        "id": "CKCwsYqZkdQ3",
        "outputId": "92ee89bc-dde6-4c3d-ec3e-be0b14056e23"
      },
      "outputs": [
        {
          "output_type": "stream",
          "name": "stdout",
          "text": [
            "              precision    recall  f1-score   support\n",
            "\n",
            "           0       0.93      0.64      0.76      3594\n",
            "           1       0.87      0.98      0.92      8932\n",
            "\n",
            "    accuracy                           0.88     12526\n",
            "   macro avg       0.90      0.81      0.84     12526\n",
            "weighted avg       0.89      0.88      0.87     12526\n",
            "\n"
          ]
        }
      ],
      "source": [
        "print(classification_report(y_test, yhat_test_lr1))"
      ]
    },
    {
      "cell_type": "markdown",
      "metadata": {
        "id": "4RsZbqS-iy0f"
      },
      "source": [
        "## 5.2 Only Significant Variable"
      ]
    },
    {
      "cell_type": "code",
      "execution_count": null,
      "metadata": {
        "colab": {
          "base_uri": "https://localhost:8080/",
          "height": 206
        },
        "id": "R-TmJC3ghdEg",
        "outputId": "362239c9-6ec9-4623-dd05-c21a4cec8d44"
      },
      "outputs": [
        {
          "output_type": "execute_result",
          "data": {
            "text/plain": [
              "       Temperature[C]  Humidity[%]  TVOC[ppb]  eCO2[ppm]  Raw H2  Raw Ethanol  \\\n",
              "28479          21.430        59.72        283        400   13138        19923   \n",
              "42605          25.980        47.24       1247        422   12886        19423   \n",
              "17963          18.116        47.55       1124        400   12909        19446   \n",
              "56394          59.620        11.60      60000       4305   11771        17216   \n",
              "29875          22.250        48.83         24        400   13255        20202   \n",
              "\n",
              "       Pressure[hPa]    PM1.0    NC0.5     NC1.0    NC2.5  \n",
              "28479        939.672     1.38     9.48     1.478    0.033  \n",
              "42605        938.734     1.73    11.88     1.853    0.042  \n",
              "17963        938.710     1.56    10.75     1.677    0.038  \n",
              "56394        936.746  1382.21  9039.26  1709.083  216.618  \n",
              "29875        939.700     2.25    15.47     2.412    0.054  "
            ],
            "text/html": [
              "\n",
              "  <div id=\"df-7c0db9c3-c1b7-4a12-a70e-d90b8d268cd7\">\n",
              "    <div class=\"colab-df-container\">\n",
              "      <div>\n",
              "<style scoped>\n",
              "    .dataframe tbody tr th:only-of-type {\n",
              "        vertical-align: middle;\n",
              "    }\n",
              "\n",
              "    .dataframe tbody tr th {\n",
              "        vertical-align: top;\n",
              "    }\n",
              "\n",
              "    .dataframe thead th {\n",
              "        text-align: right;\n",
              "    }\n",
              "</style>\n",
              "<table border=\"1\" class=\"dataframe\">\n",
              "  <thead>\n",
              "    <tr style=\"text-align: right;\">\n",
              "      <th></th>\n",
              "      <th>Temperature[C]</th>\n",
              "      <th>Humidity[%]</th>\n",
              "      <th>TVOC[ppb]</th>\n",
              "      <th>eCO2[ppm]</th>\n",
              "      <th>Raw H2</th>\n",
              "      <th>Raw Ethanol</th>\n",
              "      <th>Pressure[hPa]</th>\n",
              "      <th>PM1.0</th>\n",
              "      <th>NC0.5</th>\n",
              "      <th>NC1.0</th>\n",
              "      <th>NC2.5</th>\n",
              "    </tr>\n",
              "  </thead>\n",
              "  <tbody>\n",
              "    <tr>\n",
              "      <th>28479</th>\n",
              "      <td>21.430</td>\n",
              "      <td>59.72</td>\n",
              "      <td>283</td>\n",
              "      <td>400</td>\n",
              "      <td>13138</td>\n",
              "      <td>19923</td>\n",
              "      <td>939.672</td>\n",
              "      <td>1.38</td>\n",
              "      <td>9.48</td>\n",
              "      <td>1.478</td>\n",
              "      <td>0.033</td>\n",
              "    </tr>\n",
              "    <tr>\n",
              "      <th>42605</th>\n",
              "      <td>25.980</td>\n",
              "      <td>47.24</td>\n",
              "      <td>1247</td>\n",
              "      <td>422</td>\n",
              "      <td>12886</td>\n",
              "      <td>19423</td>\n",
              "      <td>938.734</td>\n",
              "      <td>1.73</td>\n",
              "      <td>11.88</td>\n",
              "      <td>1.853</td>\n",
              "      <td>0.042</td>\n",
              "    </tr>\n",
              "    <tr>\n",
              "      <th>17963</th>\n",
              "      <td>18.116</td>\n",
              "      <td>47.55</td>\n",
              "      <td>1124</td>\n",
              "      <td>400</td>\n",
              "      <td>12909</td>\n",
              "      <td>19446</td>\n",
              "      <td>938.710</td>\n",
              "      <td>1.56</td>\n",
              "      <td>10.75</td>\n",
              "      <td>1.677</td>\n",
              "      <td>0.038</td>\n",
              "    </tr>\n",
              "    <tr>\n",
              "      <th>56394</th>\n",
              "      <td>59.620</td>\n",
              "      <td>11.60</td>\n",
              "      <td>60000</td>\n",
              "      <td>4305</td>\n",
              "      <td>11771</td>\n",
              "      <td>17216</td>\n",
              "      <td>936.746</td>\n",
              "      <td>1382.21</td>\n",
              "      <td>9039.26</td>\n",
              "      <td>1709.083</td>\n",
              "      <td>216.618</td>\n",
              "    </tr>\n",
              "    <tr>\n",
              "      <th>29875</th>\n",
              "      <td>22.250</td>\n",
              "      <td>48.83</td>\n",
              "      <td>24</td>\n",
              "      <td>400</td>\n",
              "      <td>13255</td>\n",
              "      <td>20202</td>\n",
              "      <td>939.700</td>\n",
              "      <td>2.25</td>\n",
              "      <td>15.47</td>\n",
              "      <td>2.412</td>\n",
              "      <td>0.054</td>\n",
              "    </tr>\n",
              "  </tbody>\n",
              "</table>\n",
              "</div>\n",
              "      <button class=\"colab-df-convert\" onclick=\"convertToInteractive('df-7c0db9c3-c1b7-4a12-a70e-d90b8d268cd7')\"\n",
              "              title=\"Convert this dataframe to an interactive table.\"\n",
              "              style=\"display:none;\">\n",
              "        \n",
              "  <svg xmlns=\"http://www.w3.org/2000/svg\" height=\"24px\"viewBox=\"0 0 24 24\"\n",
              "       width=\"24px\">\n",
              "    <path d=\"M0 0h24v24H0V0z\" fill=\"none\"/>\n",
              "    <path d=\"M18.56 5.44l.94 2.06.94-2.06 2.06-.94-2.06-.94-.94-2.06-.94 2.06-2.06.94zm-11 1L8.5 8.5l.94-2.06 2.06-.94-2.06-.94L8.5 2.5l-.94 2.06-2.06.94zm10 10l.94 2.06.94-2.06 2.06-.94-2.06-.94-.94-2.06-.94 2.06-2.06.94z\"/><path d=\"M17.41 7.96l-1.37-1.37c-.4-.4-.92-.59-1.43-.59-.52 0-1.04.2-1.43.59L10.3 9.45l-7.72 7.72c-.78.78-.78 2.05 0 2.83L4 21.41c.39.39.9.59 1.41.59.51 0 1.02-.2 1.41-.59l7.78-7.78 2.81-2.81c.8-.78.8-2.07 0-2.86zM5.41 20L4 18.59l7.72-7.72 1.47 1.35L5.41 20z\"/>\n",
              "  </svg>\n",
              "      </button>\n",
              "      \n",
              "  <style>\n",
              "    .colab-df-container {\n",
              "      display:flex;\n",
              "      flex-wrap:wrap;\n",
              "      gap: 12px;\n",
              "    }\n",
              "\n",
              "    .colab-df-convert {\n",
              "      background-color: #E8F0FE;\n",
              "      border: none;\n",
              "      border-radius: 50%;\n",
              "      cursor: pointer;\n",
              "      display: none;\n",
              "      fill: #1967D2;\n",
              "      height: 32px;\n",
              "      padding: 0 0 0 0;\n",
              "      width: 32px;\n",
              "    }\n",
              "\n",
              "    .colab-df-convert:hover {\n",
              "      background-color: #E2EBFA;\n",
              "      box-shadow: 0px 1px 2px rgba(60, 64, 67, 0.3), 0px 1px 3px 1px rgba(60, 64, 67, 0.15);\n",
              "      fill: #174EA6;\n",
              "    }\n",
              "\n",
              "    [theme=dark] .colab-df-convert {\n",
              "      background-color: #3B4455;\n",
              "      fill: #D2E3FC;\n",
              "    }\n",
              "\n",
              "    [theme=dark] .colab-df-convert:hover {\n",
              "      background-color: #434B5C;\n",
              "      box-shadow: 0px 1px 3px 1px rgba(0, 0, 0, 0.15);\n",
              "      filter: drop-shadow(0px 1px 2px rgba(0, 0, 0, 0.3));\n",
              "      fill: #FFFFFF;\n",
              "    }\n",
              "  </style>\n",
              "\n",
              "      <script>\n",
              "        const buttonEl =\n",
              "          document.querySelector('#df-7c0db9c3-c1b7-4a12-a70e-d90b8d268cd7 button.colab-df-convert');\n",
              "        buttonEl.style.display =\n",
              "          google.colab.kernel.accessAllowed ? 'block' : 'none';\n",
              "\n",
              "        async function convertToInteractive(key) {\n",
              "          const element = document.querySelector('#df-7c0db9c3-c1b7-4a12-a70e-d90b8d268cd7');\n",
              "          const dataTable =\n",
              "            await google.colab.kernel.invokeFunction('convertToInteractive',\n",
              "                                                     [key], {});\n",
              "          if (!dataTable) return;\n",
              "\n",
              "          const docLinkHtml = 'Like what you see? Visit the ' +\n",
              "            '<a target=\"_blank\" href=https://colab.research.google.com/notebooks/data_table.ipynb>data table notebook</a>'\n",
              "            + ' to learn more about interactive tables.';\n",
              "          element.innerHTML = '';\n",
              "          dataTable['output_type'] = 'display_data';\n",
              "          await google.colab.output.renderOutput(dataTable, element);\n",
              "          const docLink = document.createElement('div');\n",
              "          docLink.innerHTML = docLinkHtml;\n",
              "          element.appendChild(docLink);\n",
              "        }\n",
              "      </script>\n",
              "    </div>\n",
              "  </div>\n",
              "  "
            ]
          },
          "metadata": {},
          "execution_count": 50
        }
      ],
      "source": [
        "xtrain_lr_sig = x_train.loc[:, x_train.columns != 'PM2.5']\n",
        "xtrain_lr_sig.head()"
      ]
    },
    {
      "cell_type": "code",
      "execution_count": null,
      "metadata": {
        "colab": {
          "base_uri": "https://localhost:8080/",
          "height": 206
        },
        "id": "9hN4URAtoI0z",
        "outputId": "075d3aa1-5d6d-4361-a930-976fadaf0e82"
      },
      "outputs": [
        {
          "output_type": "execute_result",
          "data": {
            "text/plain": [
              "       Temperature[C]  Humidity[%]  TVOC[ppb]  eCO2[ppm]  Raw H2  Raw Ethanol  \\\n",
              "31120           21.33        51.93        138        400   13190        20128   \n",
              "49054           24.30        53.78       1297        400   13015        19403   \n",
              "55910           43.33        18.53          0        400   13621        21322   \n",
              "33802           18.44        56.79        358        400   13069        19907   \n",
              "9683            -4.35        57.35        825        977   12634        19523   \n",
              "\n",
              "       Pressure[hPa]  PM1.0  NC0.5  NC1.0  NC2.5  \n",
              "31120        939.690   0.96   6.60  1.030  0.023  \n",
              "49054        938.774   2.03  13.99  2.181  0.049  \n",
              "55910        936.812   1.16   7.98  1.245  0.028  \n",
              "33802        939.295   0.33   2.24  0.349  0.008  \n",
              "9683         939.138   2.58  17.78  2.773  0.063  "
            ],
            "text/html": [
              "\n",
              "  <div id=\"df-7138f168-0860-4bee-9865-fb81ce524a9e\">\n",
              "    <div class=\"colab-df-container\">\n",
              "      <div>\n",
              "<style scoped>\n",
              "    .dataframe tbody tr th:only-of-type {\n",
              "        vertical-align: middle;\n",
              "    }\n",
              "\n",
              "    .dataframe tbody tr th {\n",
              "        vertical-align: top;\n",
              "    }\n",
              "\n",
              "    .dataframe thead th {\n",
              "        text-align: right;\n",
              "    }\n",
              "</style>\n",
              "<table border=\"1\" class=\"dataframe\">\n",
              "  <thead>\n",
              "    <tr style=\"text-align: right;\">\n",
              "      <th></th>\n",
              "      <th>Temperature[C]</th>\n",
              "      <th>Humidity[%]</th>\n",
              "      <th>TVOC[ppb]</th>\n",
              "      <th>eCO2[ppm]</th>\n",
              "      <th>Raw H2</th>\n",
              "      <th>Raw Ethanol</th>\n",
              "      <th>Pressure[hPa]</th>\n",
              "      <th>PM1.0</th>\n",
              "      <th>NC0.5</th>\n",
              "      <th>NC1.0</th>\n",
              "      <th>NC2.5</th>\n",
              "    </tr>\n",
              "  </thead>\n",
              "  <tbody>\n",
              "    <tr>\n",
              "      <th>31120</th>\n",
              "      <td>21.33</td>\n",
              "      <td>51.93</td>\n",
              "      <td>138</td>\n",
              "      <td>400</td>\n",
              "      <td>13190</td>\n",
              "      <td>20128</td>\n",
              "      <td>939.690</td>\n",
              "      <td>0.96</td>\n",
              "      <td>6.60</td>\n",
              "      <td>1.030</td>\n",
              "      <td>0.023</td>\n",
              "    </tr>\n",
              "    <tr>\n",
              "      <th>49054</th>\n",
              "      <td>24.30</td>\n",
              "      <td>53.78</td>\n",
              "      <td>1297</td>\n",
              "      <td>400</td>\n",
              "      <td>13015</td>\n",
              "      <td>19403</td>\n",
              "      <td>938.774</td>\n",
              "      <td>2.03</td>\n",
              "      <td>13.99</td>\n",
              "      <td>2.181</td>\n",
              "      <td>0.049</td>\n",
              "    </tr>\n",
              "    <tr>\n",
              "      <th>55910</th>\n",
              "      <td>43.33</td>\n",
              "      <td>18.53</td>\n",
              "      <td>0</td>\n",
              "      <td>400</td>\n",
              "      <td>13621</td>\n",
              "      <td>21322</td>\n",
              "      <td>936.812</td>\n",
              "      <td>1.16</td>\n",
              "      <td>7.98</td>\n",
              "      <td>1.245</td>\n",
              "      <td>0.028</td>\n",
              "    </tr>\n",
              "    <tr>\n",
              "      <th>33802</th>\n",
              "      <td>18.44</td>\n",
              "      <td>56.79</td>\n",
              "      <td>358</td>\n",
              "      <td>400</td>\n",
              "      <td>13069</td>\n",
              "      <td>19907</td>\n",
              "      <td>939.295</td>\n",
              "      <td>0.33</td>\n",
              "      <td>2.24</td>\n",
              "      <td>0.349</td>\n",
              "      <td>0.008</td>\n",
              "    </tr>\n",
              "    <tr>\n",
              "      <th>9683</th>\n",
              "      <td>-4.35</td>\n",
              "      <td>57.35</td>\n",
              "      <td>825</td>\n",
              "      <td>977</td>\n",
              "      <td>12634</td>\n",
              "      <td>19523</td>\n",
              "      <td>939.138</td>\n",
              "      <td>2.58</td>\n",
              "      <td>17.78</td>\n",
              "      <td>2.773</td>\n",
              "      <td>0.063</td>\n",
              "    </tr>\n",
              "  </tbody>\n",
              "</table>\n",
              "</div>\n",
              "      <button class=\"colab-df-convert\" onclick=\"convertToInteractive('df-7138f168-0860-4bee-9865-fb81ce524a9e')\"\n",
              "              title=\"Convert this dataframe to an interactive table.\"\n",
              "              style=\"display:none;\">\n",
              "        \n",
              "  <svg xmlns=\"http://www.w3.org/2000/svg\" height=\"24px\"viewBox=\"0 0 24 24\"\n",
              "       width=\"24px\">\n",
              "    <path d=\"M0 0h24v24H0V0z\" fill=\"none\"/>\n",
              "    <path d=\"M18.56 5.44l.94 2.06.94-2.06 2.06-.94-2.06-.94-.94-2.06-.94 2.06-2.06.94zm-11 1L8.5 8.5l.94-2.06 2.06-.94-2.06-.94L8.5 2.5l-.94 2.06-2.06.94zm10 10l.94 2.06.94-2.06 2.06-.94-2.06-.94-.94-2.06-.94 2.06-2.06.94z\"/><path d=\"M17.41 7.96l-1.37-1.37c-.4-.4-.92-.59-1.43-.59-.52 0-1.04.2-1.43.59L10.3 9.45l-7.72 7.72c-.78.78-.78 2.05 0 2.83L4 21.41c.39.39.9.59 1.41.59.51 0 1.02-.2 1.41-.59l7.78-7.78 2.81-2.81c.8-.78.8-2.07 0-2.86zM5.41 20L4 18.59l7.72-7.72 1.47 1.35L5.41 20z\"/>\n",
              "  </svg>\n",
              "      </button>\n",
              "      \n",
              "  <style>\n",
              "    .colab-df-container {\n",
              "      display:flex;\n",
              "      flex-wrap:wrap;\n",
              "      gap: 12px;\n",
              "    }\n",
              "\n",
              "    .colab-df-convert {\n",
              "      background-color: #E8F0FE;\n",
              "      border: none;\n",
              "      border-radius: 50%;\n",
              "      cursor: pointer;\n",
              "      display: none;\n",
              "      fill: #1967D2;\n",
              "      height: 32px;\n",
              "      padding: 0 0 0 0;\n",
              "      width: 32px;\n",
              "    }\n",
              "\n",
              "    .colab-df-convert:hover {\n",
              "      background-color: #E2EBFA;\n",
              "      box-shadow: 0px 1px 2px rgba(60, 64, 67, 0.3), 0px 1px 3px 1px rgba(60, 64, 67, 0.15);\n",
              "      fill: #174EA6;\n",
              "    }\n",
              "\n",
              "    [theme=dark] .colab-df-convert {\n",
              "      background-color: #3B4455;\n",
              "      fill: #D2E3FC;\n",
              "    }\n",
              "\n",
              "    [theme=dark] .colab-df-convert:hover {\n",
              "      background-color: #434B5C;\n",
              "      box-shadow: 0px 1px 3px 1px rgba(0, 0, 0, 0.15);\n",
              "      filter: drop-shadow(0px 1px 2px rgba(0, 0, 0, 0.3));\n",
              "      fill: #FFFFFF;\n",
              "    }\n",
              "  </style>\n",
              "\n",
              "      <script>\n",
              "        const buttonEl =\n",
              "          document.querySelector('#df-7138f168-0860-4bee-9865-fb81ce524a9e button.colab-df-convert');\n",
              "        buttonEl.style.display =\n",
              "          google.colab.kernel.accessAllowed ? 'block' : 'none';\n",
              "\n",
              "        async function convertToInteractive(key) {\n",
              "          const element = document.querySelector('#df-7138f168-0860-4bee-9865-fb81ce524a9e');\n",
              "          const dataTable =\n",
              "            await google.colab.kernel.invokeFunction('convertToInteractive',\n",
              "                                                     [key], {});\n",
              "          if (!dataTable) return;\n",
              "\n",
              "          const docLinkHtml = 'Like what you see? Visit the ' +\n",
              "            '<a target=\"_blank\" href=https://colab.research.google.com/notebooks/data_table.ipynb>data table notebook</a>'\n",
              "            + ' to learn more about interactive tables.';\n",
              "          element.innerHTML = '';\n",
              "          dataTable['output_type'] = 'display_data';\n",
              "          await google.colab.output.renderOutput(dataTable, element);\n",
              "          const docLink = document.createElement('div');\n",
              "          docLink.innerHTML = docLinkHtml;\n",
              "          element.appendChild(docLink);\n",
              "        }\n",
              "      </script>\n",
              "    </div>\n",
              "  </div>\n",
              "  "
            ]
          },
          "metadata": {},
          "execution_count": 51
        }
      ],
      "source": [
        "xtest_lr_sig = x_test.loc[:, x_test.columns != 'PM2.5']\n",
        "xtest_lr_sig.head()"
      ]
    },
    {
      "cell_type": "code",
      "execution_count": null,
      "metadata": {
        "colab": {
          "base_uri": "https://localhost:8080/"
        },
        "id": "4USVk04eoW6i",
        "outputId": "223162ec-c2b2-4679-e01f-ab7a3a7a7f55"
      },
      "outputs": [
        {
          "output_type": "stream",
          "name": "stdout",
          "text": [
            "Optimization terminated successfully.\n",
            "         Current function value: 0.269558\n",
            "         Iterations 11\n",
            "                           Logit Regression Results                           \n",
            "==============================================================================\n",
            "Dep. Variable:             Fire Alarm   No. Observations:                50104\n",
            "Model:                          Logit   Df Residuals:                    50093\n",
            "Method:                           MLE   Df Model:                           10\n",
            "Date:                Thu, 22 Jun 2023   Pseudo R-squ.:                  0.5489\n",
            "Time:                        10:20:33   Log-Likelihood:                -13506.\n",
            "converged:                       True   LL-Null:                       -29942.\n",
            "Covariance Type:            nonrobust   LLR p-value:                     0.000\n",
            "==================================================================================\n",
            "                     coef    std err          z      P>|z|      [0.025      0.975]\n",
            "----------------------------------------------------------------------------------\n",
            "Temperature[C]    -0.0475      0.001    -32.120      0.000      -0.050      -0.045\n",
            "Humidity[%]       -0.0218      0.002     -9.001      0.000      -0.027      -0.017\n",
            "TVOC[ppb]         -0.0014   3.66e-05    -38.555      0.000      -0.001      -0.001\n",
            "eCO2[ppm]          0.0020   6.88e-05     29.224      0.000       0.002       0.002\n",
            "Raw H2             0.0067      0.000     36.122      0.000       0.006       0.007\n",
            "Raw Ethanol       -0.0088      0.000    -59.915      0.000      -0.009      -0.008\n",
            "Pressure[hPa]      0.0952      0.002     61.703      0.000       0.092       0.098\n",
            "PM1.0             11.2538      5.390      2.088      0.037       0.689      21.818\n",
            "NC0.5             -8.3310      1.205     -6.911      0.000     -10.694      -5.968\n",
            "NC1.0             44.6692      9.204      4.853      0.000      26.630      62.709\n",
            "NC2.5            -76.5999     14.035     -5.458      0.000    -104.108     -49.092\n",
            "==================================================================================\n"
          ]
        }
      ],
      "source": [
        "logreg_significance = sm.Logit(y_train, xtrain_lr_sig).fit()\n",
        "print(logreg_significance.summary())"
      ]
    },
    {
      "cell_type": "markdown",
      "metadata": {
        "id": "7NYvz6s1omq6"
      },
      "source": [
        "**For Training Data**"
      ]
    },
    {
      "cell_type": "code",
      "execution_count": null,
      "metadata": {
        "id": "dWno7dt-ol_H"
      },
      "outputs": [],
      "source": [
        "yhat_train_lr2 = logreg_significance.predict(xtrain_lr_sig)\n",
        "yhat_train_lr2 = (yhat_train_lr2 >=0.5).astype(int)"
      ]
    },
    {
      "cell_type": "code",
      "execution_count": null,
      "metadata": {
        "colab": {
          "base_uri": "https://localhost:8080/"
        },
        "id": "Lq73IrDuowsg",
        "outputId": "819312b0-eb19-4224-933f-3ac8968fbdbc"
      },
      "outputs": [
        {
          "output_type": "stream",
          "name": "stdout",
          "text": [
            "[[ 8914  5365]\n",
            " [  670 35155]]\n"
          ]
        }
      ],
      "source": [
        "cm_train_lr2 = confusion_matrix(y_train,yhat_train_lr2)\n",
        "print(cm_train_lr2)"
      ]
    },
    {
      "cell_type": "code",
      "execution_count": null,
      "metadata": {
        "colab": {
          "base_uri": "https://localhost:8080/"
        },
        "id": "j2a0hZdCozBR",
        "outputId": "84d74be0-c637-4bfe-90eb-e7b16011e116"
      },
      "outputs": [
        {
          "output_type": "stream",
          "name": "stdout",
          "text": [
            "              precision    recall  f1-score   support\n",
            "\n",
            "           0       0.93      0.62      0.75     14279\n",
            "           1       0.87      0.98      0.92     35825\n",
            "\n",
            "    accuracy                           0.88     50104\n",
            "   macro avg       0.90      0.80      0.83     50104\n",
            "weighted avg       0.89      0.88      0.87     50104\n",
            "\n"
          ]
        }
      ],
      "source": [
        "print(classification_report(y_train, yhat_train_lr2))"
      ]
    },
    {
      "cell_type": "markdown",
      "metadata": {
        "id": "18nHqy9_oHvD"
      },
      "source": [
        "**For Testing Data**"
      ]
    },
    {
      "cell_type": "code",
      "execution_count": null,
      "metadata": {
        "id": "6j8Et0u3pM6s"
      },
      "outputs": [],
      "source": [
        "yhat_test_lr2 = logreg_significance.predict(xtest_lr_sig)\n",
        "yhat_test_lr2 = (yhat_test_lr2 >=0.5).astype(int)"
      ]
    },
    {
      "cell_type": "code",
      "execution_count": null,
      "metadata": {
        "colab": {
          "base_uri": "https://localhost:8080/"
        },
        "id": "lghhfTxJpSth",
        "outputId": "038eb2f3-dffe-4825-e8f1-37471fe49729"
      },
      "outputs": [
        {
          "output_type": "stream",
          "name": "stdout",
          "text": [
            "[[2294 1300]\n",
            " [ 183 8749]]\n"
          ]
        }
      ],
      "source": [
        "cm_test_lr2 = confusion_matrix(y_test,yhat_test_lr2)\n",
        "print(cm_test_lr2)"
      ]
    },
    {
      "cell_type": "code",
      "execution_count": null,
      "metadata": {
        "colab": {
          "base_uri": "https://localhost:8080/"
        },
        "id": "eubx8bEZpZzj",
        "outputId": "74d8b4b5-53d2-4d6b-c9a0-a26b70c65892"
      },
      "outputs": [
        {
          "output_type": "stream",
          "name": "stdout",
          "text": [
            "              precision    recall  f1-score   support\n",
            "\n",
            "           0       0.93      0.64      0.76      3594\n",
            "           1       0.87      0.98      0.92      8932\n",
            "\n",
            "    accuracy                           0.88     12526\n",
            "   macro avg       0.90      0.81      0.84     12526\n",
            "weighted avg       0.89      0.88      0.87     12526\n",
            "\n"
          ]
        }
      ],
      "source": [
        "print(classification_report(y_test, yhat_test_lr2))"
      ]
    },
    {
      "cell_type": "markdown",
      "source": [
        "# 6. Logistic Regression (After PCA)"
      ],
      "metadata": {
        "id": "h0rJ0SJtU70E"
      }
    },
    {
      "cell_type": "code",
      "execution_count": null,
      "metadata": {
        "colab": {
          "base_uri": "https://localhost:8080/"
        },
        "outputId": "fb7b59bd-d4e5-4f2a-973b-804dacc93d7e",
        "id": "KSzTClnpVB7R"
      },
      "outputs": [
        {
          "output_type": "stream",
          "name": "stdout",
          "text": [
            "Warning: Maximum number of iterations has been exceeded.\n",
            "         Current function value: 0.206765\n",
            "         Iterations: 35\n"
          ]
        },
        {
          "output_type": "stream",
          "name": "stderr",
          "text": [
            "/usr/local/lib/python3.10/dist-packages/statsmodels/base/model.py:604: ConvergenceWarning: Maximum Likelihood optimization failed to converge. Check mle_retvals\n",
            "  warnings.warn(\"Maximum Likelihood optimization failed to \"\n"
          ]
        }
      ],
      "source": [
        "# digunakan untuk membentuk model\n",
        "logreg_pca = sm.Logit(y_train, x_train_pca).fit()"
      ]
    },
    {
      "cell_type": "code",
      "execution_count": null,
      "metadata": {
        "colab": {
          "base_uri": "https://localhost:8080/"
        },
        "outputId": "622443ed-42b3-4837-b3ef-bccea0c7033e",
        "id": "_t0yj7MiVB7S"
      },
      "outputs": [
        {
          "output_type": "stream",
          "name": "stdout",
          "text": [
            "                           Logit Regression Results                           \n",
            "==============================================================================\n",
            "Dep. Variable:             Fire Alarm   No. Observations:                50104\n",
            "Model:                          Logit   Df Residuals:                    50092\n",
            "Method:                           MLE   Df Model:                           11\n",
            "Date:                Thu, 22 Jun 2023   Pseudo R-squ.:                  0.6540\n",
            "Time:                        10:21:27   Log-Likelihood:                -10360.\n",
            "converged:                      False   LL-Null:                       -29942.\n",
            "Covariance Type:            nonrobust   LLR p-value:                     0.000\n",
            "==============================================================================\n",
            "                 coef    std err          z      P>|z|      [0.025      0.975]\n",
            "------------------------------------------------------------------------------\n",
            "0             -2.2358      0.076    -29.273      0.000      -2.386      -2.086\n",
            "1              3.5398      0.082     43.420      0.000       3.380       3.700\n",
            "2              1.8992      0.051     37.102      0.000       1.799       2.000\n",
            "3              0.8809      0.028     31.927      0.000       0.827       0.935\n",
            "4              8.4712      0.136     62.314      0.000       8.205       8.738\n",
            "5              0.3457      0.213      1.619      0.105      -0.073       0.764\n",
            "6              5.3999      0.377     14.340      0.000       4.662       6.138\n",
            "7             15.3608      0.385     39.944      0.000      14.607      16.115\n",
            "8             -7.4310      0.299    -24.831      0.000      -8.018      -6.844\n",
            "9           1.262e+04   5612.109      2.248      0.025    1615.516    2.36e+04\n",
            "10          2952.1496   1.28e+04      0.230      0.818   -2.22e+04    2.81e+04\n",
            "11          2171.7786   2.82e+04      0.077      0.939   -5.31e+04    5.75e+04\n",
            "==============================================================================\n"
          ]
        }
      ],
      "source": [
        "print(logreg_pca.summary())"
      ]
    },
    {
      "cell_type": "markdown",
      "metadata": {
        "id": "6Bixyui7jDF3"
      },
      "source": [
        "## 6.1 Using All Variable (Full Model)"
      ]
    },
    {
      "cell_type": "markdown",
      "metadata": {
        "id": "iKckDJjEjDF-"
      },
      "source": [
        "**For Training Data**"
      ]
    },
    {
      "cell_type": "code",
      "execution_count": null,
      "metadata": {
        "colab": {
          "base_uri": "https://localhost:8080/"
        },
        "outputId": "b6534c35-146b-4864-c122-8262024c20ae",
        "id": "J5JJv5EJjDF-"
      },
      "outputs": [
        {
          "output_type": "execute_result",
          "data": {
            "text/plain": [
              "28479    9.200553e-01\n",
              "42605    9.584527e-01\n",
              "17963    9.839650e-01\n",
              "56394    4.792226e-46\n",
              "29875    2.626022e-01\n",
              "dtype: float64"
            ]
          },
          "metadata": {},
          "execution_count": 61
        }
      ],
      "source": [
        "yp_train_lr1_pca = logreg_pca.predict(x_train_pca)\n",
        "yp_train_lr1_pca.head()"
      ]
    },
    {
      "cell_type": "code",
      "execution_count": null,
      "metadata": {
        "colab": {
          "base_uri": "https://localhost:8080/"
        },
        "outputId": "553661a3-fc78-4661-e510-264685d696db",
        "id": "6UIo4c8CjDF-"
      },
      "outputs": [
        {
          "output_type": "execute_result",
          "data": {
            "text/plain": [
              "28479    1\n",
              "42605    1\n",
              "17963    1\n",
              "56394    0\n",
              "29875    0\n",
              "dtype: int64"
            ]
          },
          "metadata": {},
          "execution_count": 65
        }
      ],
      "source": [
        "yhat_train_lr1_pca = (yp_train_lr1_pca >= 0.5).astype(int)\n",
        "yhat_train_lr1_pca.head()"
      ]
    },
    {
      "cell_type": "code",
      "execution_count": null,
      "metadata": {
        "colab": {
          "base_uri": "https://localhost:8080/"
        },
        "outputId": "f7930e38-073f-4b04-f94a-90662b31eed5",
        "id": "L3DL3Au1jDF-"
      },
      "outputs": [
        {
          "output_type": "stream",
          "name": "stdout",
          "text": [
            "[[10784  3495]\n",
            " [ 1695 34130]]\n"
          ]
        }
      ],
      "source": [
        "cm_train_lr1_pca = confusion_matrix(y_train, yhat_train_lr1_pca)\n",
        "print(cm_train_lr1_pca)"
      ]
    },
    {
      "cell_type": "code",
      "execution_count": null,
      "metadata": {
        "colab": {
          "base_uri": "https://localhost:8080/"
        },
        "outputId": "0fe5d815-d2f2-4b51-9b1d-958c8c9dcaaa",
        "id": "nodHSHRcjDF_"
      },
      "outputs": [
        {
          "output_type": "stream",
          "name": "stdout",
          "text": [
            "              precision    recall  f1-score   support\n",
            "\n",
            "           0       0.86      0.76      0.81     14279\n",
            "           1       0.91      0.95      0.93     35825\n",
            "\n",
            "    accuracy                           0.90     50104\n",
            "   macro avg       0.89      0.85      0.87     50104\n",
            "weighted avg       0.89      0.90      0.89     50104\n",
            "\n"
          ]
        }
      ],
      "source": [
        "print(classification_report(y_train, yhat_train_lr1_pca))"
      ]
    },
    {
      "cell_type": "markdown",
      "metadata": {
        "id": "Z8fOxLeBjDF_"
      },
      "source": [
        "**For Testing Data**"
      ]
    },
    {
      "cell_type": "code",
      "execution_count": null,
      "metadata": {
        "colab": {
          "base_uri": "https://localhost:8080/"
        },
        "outputId": "ff04caae-34a4-4c05-89c9-17bf31b14523",
        "id": "OwfssRMvjDF_"
      },
      "outputs": [
        {
          "output_type": "execute_result",
          "data": {
            "text/plain": [
              "31120    0.374286\n",
              "49054    0.997427\n",
              "55910    0.000006\n",
              "33802    0.891712\n",
              "9683     0.989247\n",
              "dtype: float64"
            ]
          },
          "metadata": {},
          "execution_count": 68
        }
      ],
      "source": [
        "yp_test_lr1_pca = logreg_pca.predict(x_test_pca)\n",
        "yp_test_lr1_pca.head()"
      ]
    },
    {
      "cell_type": "code",
      "execution_count": null,
      "metadata": {
        "colab": {
          "base_uri": "https://localhost:8080/"
        },
        "outputId": "e3e29d2d-c445-4d51-be8e-acd7e73dd447",
        "id": "bcOtMcEqjDF_"
      },
      "outputs": [
        {
          "output_type": "execute_result",
          "data": {
            "text/plain": [
              "31120    0\n",
              "49054    1\n",
              "55910    0\n",
              "33802    1\n",
              "9683     1\n",
              "dtype: int64"
            ]
          },
          "metadata": {},
          "execution_count": 69
        }
      ],
      "source": [
        "yhat_test_lr1_pca = (yp_test_lr1_pca >= 0.5).astype(int)\n",
        "yhat_test_lr1_pca.head()"
      ]
    },
    {
      "cell_type": "code",
      "execution_count": null,
      "metadata": {
        "colab": {
          "base_uri": "https://localhost:8080/"
        },
        "outputId": "f0733aa7-2289-4bfd-8578-63941cde8eea",
        "id": "YdbMxz6RjDF_"
      },
      "outputs": [
        {
          "output_type": "stream",
          "name": "stdout",
          "text": [
            "[[2718  876]\n",
            " [ 443 8489]]\n"
          ]
        }
      ],
      "source": [
        "cm_test_lr2_pca = confusion_matrix(y_test, yhat_test_lr1_pca)\n",
        "print(cm_test_lr2_pca)"
      ]
    },
    {
      "cell_type": "code",
      "execution_count": null,
      "metadata": {
        "colab": {
          "base_uri": "https://localhost:8080/"
        },
        "outputId": "3146e3af-d0ed-4020-954b-99d553813079",
        "id": "X4haUnCnjDF_"
      },
      "outputs": [
        {
          "output_type": "stream",
          "name": "stdout",
          "text": [
            "              precision    recall  f1-score   support\n",
            "\n",
            "           0       0.86      0.76      0.80      3594\n",
            "           1       0.91      0.95      0.93      8932\n",
            "\n",
            "    accuracy                           0.89     12526\n",
            "   macro avg       0.88      0.85      0.87     12526\n",
            "weighted avg       0.89      0.89      0.89     12526\n",
            "\n"
          ]
        }
      ],
      "source": [
        "print(classification_report(y_test, yhat_test_lr1_pca))"
      ]
    },
    {
      "cell_type": "markdown",
      "metadata": {
        "id": "RybP_ORhj2TU"
      },
      "source": [
        "## 4.2 Only Significant Variable"
      ]
    },
    {
      "cell_type": "code",
      "source": [
        "xtrain_lr_pca_sig = x_train_pca.loc[:, [0,1,2,3,4,6,7,8,9]]\n",
        "xtrain_lr_pca_sig.head()"
      ],
      "metadata": {
        "colab": {
          "base_uri": "https://localhost:8080/",
          "height": 206
        },
        "id": "mdGKJ0pPknEq",
        "outputId": "a48f8cda-b698-4e13-b9eb-dc427c2cf112"
      },
      "execution_count": null,
      "outputs": [
        {
          "output_type": "execute_result",
          "data": {
            "text/plain": [
              "              0         1         2         3         4         6         7  \\\n",
              "28479 -0.833989  1.083437 -0.107456  0.787587  0.005934 -0.072999  0.037200   \n",
              "42605 -0.008857 -0.371749 -0.281663  0.715242 -0.113726  0.119454  0.186668   \n",
              "17963 -0.075999 -0.150990 -0.309757  0.213211 -0.098336  0.117450  0.224146   \n",
              "56394  7.739715 -6.175542 -4.191006  1.269606 -2.932962 -0.406466 -1.655026   \n",
              "29875 -0.884501  0.483986  0.576347  0.437249 -0.643988  0.218227 -0.121456   \n",
              "\n",
              "              8         9  \n",
              "28479  0.553707 -0.000002  \n",
              "42605 -0.258654 -0.000004  \n",
              "17963 -0.231533  0.000002  \n",
              "56394  0.752556  0.000004  \n",
              "29875  0.046487 -0.000002  "
            ],
            "text/html": [
              "\n",
              "  <div id=\"df-9e6c3238-2295-45fc-8cf2-2c8400110b6a\">\n",
              "    <div class=\"colab-df-container\">\n",
              "      <div>\n",
              "<style scoped>\n",
              "    .dataframe tbody tr th:only-of-type {\n",
              "        vertical-align: middle;\n",
              "    }\n",
              "\n",
              "    .dataframe tbody tr th {\n",
              "        vertical-align: top;\n",
              "    }\n",
              "\n",
              "    .dataframe thead th {\n",
              "        text-align: right;\n",
              "    }\n",
              "</style>\n",
              "<table border=\"1\" class=\"dataframe\">\n",
              "  <thead>\n",
              "    <tr style=\"text-align: right;\">\n",
              "      <th></th>\n",
              "      <th>0</th>\n",
              "      <th>1</th>\n",
              "      <th>2</th>\n",
              "      <th>3</th>\n",
              "      <th>4</th>\n",
              "      <th>6</th>\n",
              "      <th>7</th>\n",
              "      <th>8</th>\n",
              "      <th>9</th>\n",
              "    </tr>\n",
              "  </thead>\n",
              "  <tbody>\n",
              "    <tr>\n",
              "      <th>28479</th>\n",
              "      <td>-0.833989</td>\n",
              "      <td>1.083437</td>\n",
              "      <td>-0.107456</td>\n",
              "      <td>0.787587</td>\n",
              "      <td>0.005934</td>\n",
              "      <td>-0.072999</td>\n",
              "      <td>0.037200</td>\n",
              "      <td>0.553707</td>\n",
              "      <td>-0.000002</td>\n",
              "    </tr>\n",
              "    <tr>\n",
              "      <th>42605</th>\n",
              "      <td>-0.008857</td>\n",
              "      <td>-0.371749</td>\n",
              "      <td>-0.281663</td>\n",
              "      <td>0.715242</td>\n",
              "      <td>-0.113726</td>\n",
              "      <td>0.119454</td>\n",
              "      <td>0.186668</td>\n",
              "      <td>-0.258654</td>\n",
              "      <td>-0.000004</td>\n",
              "    </tr>\n",
              "    <tr>\n",
              "      <th>17963</th>\n",
              "      <td>-0.075999</td>\n",
              "      <td>-0.150990</td>\n",
              "      <td>-0.309757</td>\n",
              "      <td>0.213211</td>\n",
              "      <td>-0.098336</td>\n",
              "      <td>0.117450</td>\n",
              "      <td>0.224146</td>\n",
              "      <td>-0.231533</td>\n",
              "      <td>0.000002</td>\n",
              "    </tr>\n",
              "    <tr>\n",
              "      <th>56394</th>\n",
              "      <td>7.739715</td>\n",
              "      <td>-6.175542</td>\n",
              "      <td>-4.191006</td>\n",
              "      <td>1.269606</td>\n",
              "      <td>-2.932962</td>\n",
              "      <td>-0.406466</td>\n",
              "      <td>-1.655026</td>\n",
              "      <td>0.752556</td>\n",
              "      <td>0.000004</td>\n",
              "    </tr>\n",
              "    <tr>\n",
              "      <th>29875</th>\n",
              "      <td>-0.884501</td>\n",
              "      <td>0.483986</td>\n",
              "      <td>0.576347</td>\n",
              "      <td>0.437249</td>\n",
              "      <td>-0.643988</td>\n",
              "      <td>0.218227</td>\n",
              "      <td>-0.121456</td>\n",
              "      <td>0.046487</td>\n",
              "      <td>-0.000002</td>\n",
              "    </tr>\n",
              "  </tbody>\n",
              "</table>\n",
              "</div>\n",
              "      <button class=\"colab-df-convert\" onclick=\"convertToInteractive('df-9e6c3238-2295-45fc-8cf2-2c8400110b6a')\"\n",
              "              title=\"Convert this dataframe to an interactive table.\"\n",
              "              style=\"display:none;\">\n",
              "        \n",
              "  <svg xmlns=\"http://www.w3.org/2000/svg\" height=\"24px\"viewBox=\"0 0 24 24\"\n",
              "       width=\"24px\">\n",
              "    <path d=\"M0 0h24v24H0V0z\" fill=\"none\"/>\n",
              "    <path d=\"M18.56 5.44l.94 2.06.94-2.06 2.06-.94-2.06-.94-.94-2.06-.94 2.06-2.06.94zm-11 1L8.5 8.5l.94-2.06 2.06-.94-2.06-.94L8.5 2.5l-.94 2.06-2.06.94zm10 10l.94 2.06.94-2.06 2.06-.94-2.06-.94-.94-2.06-.94 2.06-2.06.94z\"/><path d=\"M17.41 7.96l-1.37-1.37c-.4-.4-.92-.59-1.43-.59-.52 0-1.04.2-1.43.59L10.3 9.45l-7.72 7.72c-.78.78-.78 2.05 0 2.83L4 21.41c.39.39.9.59 1.41.59.51 0 1.02-.2 1.41-.59l7.78-7.78 2.81-2.81c.8-.78.8-2.07 0-2.86zM5.41 20L4 18.59l7.72-7.72 1.47 1.35L5.41 20z\"/>\n",
              "  </svg>\n",
              "      </button>\n",
              "      \n",
              "  <style>\n",
              "    .colab-df-container {\n",
              "      display:flex;\n",
              "      flex-wrap:wrap;\n",
              "      gap: 12px;\n",
              "    }\n",
              "\n",
              "    .colab-df-convert {\n",
              "      background-color: #E8F0FE;\n",
              "      border: none;\n",
              "      border-radius: 50%;\n",
              "      cursor: pointer;\n",
              "      display: none;\n",
              "      fill: #1967D2;\n",
              "      height: 32px;\n",
              "      padding: 0 0 0 0;\n",
              "      width: 32px;\n",
              "    }\n",
              "\n",
              "    .colab-df-convert:hover {\n",
              "      background-color: #E2EBFA;\n",
              "      box-shadow: 0px 1px 2px rgba(60, 64, 67, 0.3), 0px 1px 3px 1px rgba(60, 64, 67, 0.15);\n",
              "      fill: #174EA6;\n",
              "    }\n",
              "\n",
              "    [theme=dark] .colab-df-convert {\n",
              "      background-color: #3B4455;\n",
              "      fill: #D2E3FC;\n",
              "    }\n",
              "\n",
              "    [theme=dark] .colab-df-convert:hover {\n",
              "      background-color: #434B5C;\n",
              "      box-shadow: 0px 1px 3px 1px rgba(0, 0, 0, 0.15);\n",
              "      filter: drop-shadow(0px 1px 2px rgba(0, 0, 0, 0.3));\n",
              "      fill: #FFFFFF;\n",
              "    }\n",
              "  </style>\n",
              "\n",
              "      <script>\n",
              "        const buttonEl =\n",
              "          document.querySelector('#df-9e6c3238-2295-45fc-8cf2-2c8400110b6a button.colab-df-convert');\n",
              "        buttonEl.style.display =\n",
              "          google.colab.kernel.accessAllowed ? 'block' : 'none';\n",
              "\n",
              "        async function convertToInteractive(key) {\n",
              "          const element = document.querySelector('#df-9e6c3238-2295-45fc-8cf2-2c8400110b6a');\n",
              "          const dataTable =\n",
              "            await google.colab.kernel.invokeFunction('convertToInteractive',\n",
              "                                                     [key], {});\n",
              "          if (!dataTable) return;\n",
              "\n",
              "          const docLinkHtml = 'Like what you see? Visit the ' +\n",
              "            '<a target=\"_blank\" href=https://colab.research.google.com/notebooks/data_table.ipynb>data table notebook</a>'\n",
              "            + ' to learn more about interactive tables.';\n",
              "          element.innerHTML = '';\n",
              "          dataTable['output_type'] = 'display_data';\n",
              "          await google.colab.output.renderOutput(dataTable, element);\n",
              "          const docLink = document.createElement('div');\n",
              "          docLink.innerHTML = docLinkHtml;\n",
              "          element.appendChild(docLink);\n",
              "        }\n",
              "      </script>\n",
              "    </div>\n",
              "  </div>\n",
              "  "
            ]
          },
          "metadata": {},
          "execution_count": 72
        }
      ]
    },
    {
      "cell_type": "code",
      "execution_count": null,
      "metadata": {
        "colab": {
          "base_uri": "https://localhost:8080/",
          "height": 206
        },
        "outputId": "13ccd9dd-bd5f-45ba-8461-6dc51c88804d",
        "id": "ALhS9DjvkC0g"
      },
      "outputs": [
        {
          "output_type": "execute_result",
          "data": {
            "text/plain": [
              "              0         1         2         3         4         6         7  \\\n",
              "31120 -0.841872  0.644624  0.336723  0.497147 -0.395089  0.109040 -0.136875   \n",
              "49054 -0.255080  0.192938 -0.324833  0.789309 -0.069737  0.046716  0.467543   \n",
              "55910 -0.797268 -2.704224  3.922598  0.111555 -1.856145  0.478252 -0.092695   \n",
              "33802 -0.673327  0.777947 -0.059288  0.468803  0.088451 -0.092481  0.009170   \n",
              "9683  -0.026343  0.912989 -1.248846 -0.853408  1.058035 -0.145286 -0.292740   \n",
              "\n",
              "              8             9  \n",
              "31120  0.153254 -6.319210e-07  \n",
              "49054  0.293726  2.275655e-06  \n",
              "55910 -0.294536  2.650744e-07  \n",
              "33802  0.389388 -3.944474e-06  \n",
              "9683  -0.111096  2.567082e-06  "
            ],
            "text/html": [
              "\n",
              "  <div id=\"df-dc68c315-8044-45e1-8dac-4af80fe52ee4\">\n",
              "    <div class=\"colab-df-container\">\n",
              "      <div>\n",
              "<style scoped>\n",
              "    .dataframe tbody tr th:only-of-type {\n",
              "        vertical-align: middle;\n",
              "    }\n",
              "\n",
              "    .dataframe tbody tr th {\n",
              "        vertical-align: top;\n",
              "    }\n",
              "\n",
              "    .dataframe thead th {\n",
              "        text-align: right;\n",
              "    }\n",
              "</style>\n",
              "<table border=\"1\" class=\"dataframe\">\n",
              "  <thead>\n",
              "    <tr style=\"text-align: right;\">\n",
              "      <th></th>\n",
              "      <th>0</th>\n",
              "      <th>1</th>\n",
              "      <th>2</th>\n",
              "      <th>3</th>\n",
              "      <th>4</th>\n",
              "      <th>6</th>\n",
              "      <th>7</th>\n",
              "      <th>8</th>\n",
              "      <th>9</th>\n",
              "    </tr>\n",
              "  </thead>\n",
              "  <tbody>\n",
              "    <tr>\n",
              "      <th>31120</th>\n",
              "      <td>-0.841872</td>\n",
              "      <td>0.644624</td>\n",
              "      <td>0.336723</td>\n",
              "      <td>0.497147</td>\n",
              "      <td>-0.395089</td>\n",
              "      <td>0.109040</td>\n",
              "      <td>-0.136875</td>\n",
              "      <td>0.153254</td>\n",
              "      <td>-6.319210e-07</td>\n",
              "    </tr>\n",
              "    <tr>\n",
              "      <th>49054</th>\n",
              "      <td>-0.255080</td>\n",
              "      <td>0.192938</td>\n",
              "      <td>-0.324833</td>\n",
              "      <td>0.789309</td>\n",
              "      <td>-0.069737</td>\n",
              "      <td>0.046716</td>\n",
              "      <td>0.467543</td>\n",
              "      <td>0.293726</td>\n",
              "      <td>2.275655e-06</td>\n",
              "    </tr>\n",
              "    <tr>\n",
              "      <th>55910</th>\n",
              "      <td>-0.797268</td>\n",
              "      <td>-2.704224</td>\n",
              "      <td>3.922598</td>\n",
              "      <td>0.111555</td>\n",
              "      <td>-1.856145</td>\n",
              "      <td>0.478252</td>\n",
              "      <td>-0.092695</td>\n",
              "      <td>-0.294536</td>\n",
              "      <td>2.650744e-07</td>\n",
              "    </tr>\n",
              "    <tr>\n",
              "      <th>33802</th>\n",
              "      <td>-0.673327</td>\n",
              "      <td>0.777947</td>\n",
              "      <td>-0.059288</td>\n",
              "      <td>0.468803</td>\n",
              "      <td>0.088451</td>\n",
              "      <td>-0.092481</td>\n",
              "      <td>0.009170</td>\n",
              "      <td>0.389388</td>\n",
              "      <td>-3.944474e-06</td>\n",
              "    </tr>\n",
              "    <tr>\n",
              "      <th>9683</th>\n",
              "      <td>-0.026343</td>\n",
              "      <td>0.912989</td>\n",
              "      <td>-1.248846</td>\n",
              "      <td>-0.853408</td>\n",
              "      <td>1.058035</td>\n",
              "      <td>-0.145286</td>\n",
              "      <td>-0.292740</td>\n",
              "      <td>-0.111096</td>\n",
              "      <td>2.567082e-06</td>\n",
              "    </tr>\n",
              "  </tbody>\n",
              "</table>\n",
              "</div>\n",
              "      <button class=\"colab-df-convert\" onclick=\"convertToInteractive('df-dc68c315-8044-45e1-8dac-4af80fe52ee4')\"\n",
              "              title=\"Convert this dataframe to an interactive table.\"\n",
              "              style=\"display:none;\">\n",
              "        \n",
              "  <svg xmlns=\"http://www.w3.org/2000/svg\" height=\"24px\"viewBox=\"0 0 24 24\"\n",
              "       width=\"24px\">\n",
              "    <path d=\"M0 0h24v24H0V0z\" fill=\"none\"/>\n",
              "    <path d=\"M18.56 5.44l.94 2.06.94-2.06 2.06-.94-2.06-.94-.94-2.06-.94 2.06-2.06.94zm-11 1L8.5 8.5l.94-2.06 2.06-.94-2.06-.94L8.5 2.5l-.94 2.06-2.06.94zm10 10l.94 2.06.94-2.06 2.06-.94-2.06-.94-.94-2.06-.94 2.06-2.06.94z\"/><path d=\"M17.41 7.96l-1.37-1.37c-.4-.4-.92-.59-1.43-.59-.52 0-1.04.2-1.43.59L10.3 9.45l-7.72 7.72c-.78.78-.78 2.05 0 2.83L4 21.41c.39.39.9.59 1.41.59.51 0 1.02-.2 1.41-.59l7.78-7.78 2.81-2.81c.8-.78.8-2.07 0-2.86zM5.41 20L4 18.59l7.72-7.72 1.47 1.35L5.41 20z\"/>\n",
              "  </svg>\n",
              "      </button>\n",
              "      \n",
              "  <style>\n",
              "    .colab-df-container {\n",
              "      display:flex;\n",
              "      flex-wrap:wrap;\n",
              "      gap: 12px;\n",
              "    }\n",
              "\n",
              "    .colab-df-convert {\n",
              "      background-color: #E8F0FE;\n",
              "      border: none;\n",
              "      border-radius: 50%;\n",
              "      cursor: pointer;\n",
              "      display: none;\n",
              "      fill: #1967D2;\n",
              "      height: 32px;\n",
              "      padding: 0 0 0 0;\n",
              "      width: 32px;\n",
              "    }\n",
              "\n",
              "    .colab-df-convert:hover {\n",
              "      background-color: #E2EBFA;\n",
              "      box-shadow: 0px 1px 2px rgba(60, 64, 67, 0.3), 0px 1px 3px 1px rgba(60, 64, 67, 0.15);\n",
              "      fill: #174EA6;\n",
              "    }\n",
              "\n",
              "    [theme=dark] .colab-df-convert {\n",
              "      background-color: #3B4455;\n",
              "      fill: #D2E3FC;\n",
              "    }\n",
              "\n",
              "    [theme=dark] .colab-df-convert:hover {\n",
              "      background-color: #434B5C;\n",
              "      box-shadow: 0px 1px 3px 1px rgba(0, 0, 0, 0.15);\n",
              "      filter: drop-shadow(0px 1px 2px rgba(0, 0, 0, 0.3));\n",
              "      fill: #FFFFFF;\n",
              "    }\n",
              "  </style>\n",
              "\n",
              "      <script>\n",
              "        const buttonEl =\n",
              "          document.querySelector('#df-dc68c315-8044-45e1-8dac-4af80fe52ee4 button.colab-df-convert');\n",
              "        buttonEl.style.display =\n",
              "          google.colab.kernel.accessAllowed ? 'block' : 'none';\n",
              "\n",
              "        async function convertToInteractive(key) {\n",
              "          const element = document.querySelector('#df-dc68c315-8044-45e1-8dac-4af80fe52ee4');\n",
              "          const dataTable =\n",
              "            await google.colab.kernel.invokeFunction('convertToInteractive',\n",
              "                                                     [key], {});\n",
              "          if (!dataTable) return;\n",
              "\n",
              "          const docLinkHtml = 'Like what you see? Visit the ' +\n",
              "            '<a target=\"_blank\" href=https://colab.research.google.com/notebooks/data_table.ipynb>data table notebook</a>'\n",
              "            + ' to learn more about interactive tables.';\n",
              "          element.innerHTML = '';\n",
              "          dataTable['output_type'] = 'display_data';\n",
              "          await google.colab.output.renderOutput(dataTable, element);\n",
              "          const docLink = document.createElement('div');\n",
              "          docLink.innerHTML = docLinkHtml;\n",
              "          element.appendChild(docLink);\n",
              "        }\n",
              "      </script>\n",
              "    </div>\n",
              "  </div>\n",
              "  "
            ]
          },
          "metadata": {},
          "execution_count": 73
        }
      ],
      "source": [
        "xtest_lr_pca_sig = x_test_pca.loc[:, [0,1,2,3,4,6,7,8,9]]\n",
        "xtest_lr_pca_sig.head()"
      ]
    },
    {
      "cell_type": "code",
      "execution_count": null,
      "metadata": {
        "colab": {
          "base_uri": "https://localhost:8080/"
        },
        "outputId": "7b5169b1-fa04-4af9-c26d-c4afd1de9c31",
        "id": "97VeJG_dkC0g"
      },
      "outputs": [
        {
          "output_type": "stream",
          "name": "stdout",
          "text": [
            "Warning: Maximum number of iterations has been exceeded.\n",
            "         Current function value: 0.206742\n",
            "         Iterations: 35\n"
          ]
        },
        {
          "output_type": "stream",
          "name": "stderr",
          "text": [
            "/usr/local/lib/python3.10/dist-packages/statsmodels/base/model.py:604: ConvergenceWarning: Maximum Likelihood optimization failed to converge. Check mle_retvals\n",
            "  warnings.warn(\"Maximum Likelihood optimization failed to \"\n"
          ]
        },
        {
          "output_type": "stream",
          "name": "stdout",
          "text": [
            "                           Logit Regression Results                           \n",
            "==============================================================================\n",
            "Dep. Variable:             Fire Alarm   No. Observations:                50104\n",
            "Model:                          Logit   Df Residuals:                    50095\n",
            "Method:                           MLE   Df Model:                            8\n",
            "Date:                Thu, 22 Jun 2023   Pseudo R-squ.:                  0.6540\n",
            "Time:                        10:23:50   Log-Likelihood:                -10359.\n",
            "converged:                      False   LL-Null:                       -29942.\n",
            "Covariance Type:            nonrobust   LLR p-value:                     0.000\n",
            "==============================================================================\n",
            "                 coef    std err          z      P>|z|      [0.025      0.975]\n",
            "------------------------------------------------------------------------------\n",
            "0             -2.3475      0.037    -62.739      0.000      -2.421      -2.274\n",
            "1              3.4386      0.051     67.137      0.000       3.338       3.539\n",
            "2              1.8644      0.047     39.404      0.000       1.772       1.957\n",
            "3              0.8769      0.028     31.665      0.000       0.823       0.931\n",
            "4              8.3433      0.110     75.561      0.000       8.127       8.560\n",
            "6              5.9267      0.158     37.397      0.000       5.616       6.237\n",
            "7             14.8141      0.171     86.408      0.000      14.478      15.150\n",
            "8             -7.0022      0.121    -57.668      0.000      -7.240      -6.764\n",
            "9           1.256e+04   5520.032      2.275      0.023    1736.785    2.34e+04\n",
            "==============================================================================\n"
          ]
        }
      ],
      "source": [
        "logreg_significance_pca = sm.Logit(y_train, xtrain_lr_pca_sig).fit()\n",
        "print(logreg_significance_pca.summary())"
      ]
    },
    {
      "cell_type": "markdown",
      "metadata": {
        "id": "jW81DURukC0g"
      },
      "source": [
        "**For Training Data**"
      ]
    },
    {
      "cell_type": "code",
      "execution_count": null,
      "metadata": {
        "id": "PerJAFnekC0g"
      },
      "outputs": [],
      "source": [
        "yp_train_lr2_pca = logreg_significance_pca.predict(xtrain_lr_pca_sig)\n",
        "yhat_train_lr2_pca = (yp_train_lr2_pca >=0.5).astype(int)"
      ]
    },
    {
      "cell_type": "code",
      "execution_count": null,
      "metadata": {
        "colab": {
          "base_uri": "https://localhost:8080/"
        },
        "outputId": "cf6db33c-8300-4954-c924-b8f7d4438341",
        "id": "YXqVg1Y9kC0g"
      },
      "outputs": [
        {
          "output_type": "stream",
          "name": "stdout",
          "text": [
            "[[10780  3499]\n",
            " [ 1695 34130]]\n"
          ]
        }
      ],
      "source": [
        "cm_train_lr2_pca = confusion_matrix(y_train,yhat_train_lr2_pca)\n",
        "print(cm_train_lr2_pca)"
      ]
    },
    {
      "cell_type": "code",
      "execution_count": null,
      "metadata": {
        "colab": {
          "base_uri": "https://localhost:8080/"
        },
        "outputId": "6ef40686-a89c-4343-b9fb-9899c171c458",
        "id": "fE2nVGpYkC0g"
      },
      "outputs": [
        {
          "output_type": "stream",
          "name": "stdout",
          "text": [
            "              precision    recall  f1-score   support\n",
            "\n",
            "           0       0.86      0.75      0.81     14279\n",
            "           1       0.91      0.95      0.93     35825\n",
            "\n",
            "    accuracy                           0.90     50104\n",
            "   macro avg       0.89      0.85      0.87     50104\n",
            "weighted avg       0.89      0.90      0.89     50104\n",
            "\n"
          ]
        }
      ],
      "source": [
        "print(classification_report(y_train, yhat_train_lr2_pca))"
      ]
    },
    {
      "cell_type": "markdown",
      "metadata": {
        "id": "FUf3r0IikC0g"
      },
      "source": [
        "**For Testing Data**"
      ]
    },
    {
      "cell_type": "code",
      "execution_count": null,
      "metadata": {
        "id": "lqZ-aEofkC0h"
      },
      "outputs": [],
      "source": [
        "yp_test_lr2_pca = logreg_significance_pca.predict(xtest_lr_pca_sig)\n",
        "yhat_test_lr2_pca = (yp_test_lr2_pca >=0.5).astype(int)"
      ]
    },
    {
      "cell_type": "code",
      "execution_count": null,
      "metadata": {
        "colab": {
          "base_uri": "https://localhost:8080/"
        },
        "outputId": "ad0ed175-96be-46cd-e234-4b8531b0a807",
        "id": "PLzis6bzkC0h"
      },
      "outputs": [
        {
          "output_type": "stream",
          "name": "stdout",
          "text": [
            "[[2719  875]\n",
            " [ 439 8493]]\n"
          ]
        }
      ],
      "source": [
        "cm_test_lr2_pca = confusion_matrix(y_test,yhat_test_lr2_pca)\n",
        "print(cm_test_lr2_pca)"
      ]
    },
    {
      "cell_type": "code",
      "execution_count": null,
      "metadata": {
        "colab": {
          "base_uri": "https://localhost:8080/"
        },
        "outputId": "b8a4c284-6fed-47f2-d53e-c1149d122d49",
        "id": "ZZB5mIMLkC0h"
      },
      "outputs": [
        {
          "output_type": "stream",
          "name": "stdout",
          "text": [
            "              precision    recall  f1-score   support\n",
            "\n",
            "           0       0.86      0.76      0.81      3594\n",
            "           1       0.91      0.95      0.93      8932\n",
            "\n",
            "    accuracy                           0.90     12526\n",
            "   macro avg       0.88      0.85      0.87     12526\n",
            "weighted avg       0.89      0.90      0.89     12526\n",
            "\n"
          ]
        }
      ],
      "source": [
        "print(classification_report(y_test, yhat_test_lr2_pca))"
      ]
    },
    {
      "cell_type": "markdown",
      "source": [
        "# 6. Support Vector Machine (Classifier)"
      ],
      "metadata": {
        "id": "ifldY774xyyX"
      }
    },
    {
      "cell_type": "code",
      "execution_count": null,
      "metadata": {
        "id": "_RdJ41aN35Y5"
      },
      "outputs": [],
      "source": [
        "from sklearn.svm import SVC"
      ]
    },
    {
      "cell_type": "code",
      "execution_count": null,
      "metadata": {
        "colab": {
          "base_uri": "https://localhost:8080/",
          "height": 74
        },
        "id": "O6lbISLH4BzC",
        "outputId": "4d4aae69-eb26-4d2f-a14e-7cbcebe1f6ad"
      },
      "outputs": [
        {
          "output_type": "execute_result",
          "data": {
            "text/plain": [
              "SVC()"
            ],
            "text/html": [
              "<style>#sk-container-id-1 {color: black;background-color: white;}#sk-container-id-1 pre{padding: 0;}#sk-container-id-1 div.sk-toggleable {background-color: white;}#sk-container-id-1 label.sk-toggleable__label {cursor: pointer;display: block;width: 100%;margin-bottom: 0;padding: 0.3em;box-sizing: border-box;text-align: center;}#sk-container-id-1 label.sk-toggleable__label-arrow:before {content: \"▸\";float: left;margin-right: 0.25em;color: #696969;}#sk-container-id-1 label.sk-toggleable__label-arrow:hover:before {color: black;}#sk-container-id-1 div.sk-estimator:hover label.sk-toggleable__label-arrow:before {color: black;}#sk-container-id-1 div.sk-toggleable__content {max-height: 0;max-width: 0;overflow: hidden;text-align: left;background-color: #f0f8ff;}#sk-container-id-1 div.sk-toggleable__content pre {margin: 0.2em;color: black;border-radius: 0.25em;background-color: #f0f8ff;}#sk-container-id-1 input.sk-toggleable__control:checked~div.sk-toggleable__content {max-height: 200px;max-width: 100%;overflow: auto;}#sk-container-id-1 input.sk-toggleable__control:checked~label.sk-toggleable__label-arrow:before {content: \"▾\";}#sk-container-id-1 div.sk-estimator input.sk-toggleable__control:checked~label.sk-toggleable__label {background-color: #d4ebff;}#sk-container-id-1 div.sk-label input.sk-toggleable__control:checked~label.sk-toggleable__label {background-color: #d4ebff;}#sk-container-id-1 input.sk-hidden--visually {border: 0;clip: rect(1px 1px 1px 1px);clip: rect(1px, 1px, 1px, 1px);height: 1px;margin: -1px;overflow: hidden;padding: 0;position: absolute;width: 1px;}#sk-container-id-1 div.sk-estimator {font-family: monospace;background-color: #f0f8ff;border: 1px dotted black;border-radius: 0.25em;box-sizing: border-box;margin-bottom: 0.5em;}#sk-container-id-1 div.sk-estimator:hover {background-color: #d4ebff;}#sk-container-id-1 div.sk-parallel-item::after {content: \"\";width: 100%;border-bottom: 1px solid gray;flex-grow: 1;}#sk-container-id-1 div.sk-label:hover label.sk-toggleable__label {background-color: #d4ebff;}#sk-container-id-1 div.sk-serial::before {content: \"\";position: absolute;border-left: 1px solid gray;box-sizing: border-box;top: 0;bottom: 0;left: 50%;z-index: 0;}#sk-container-id-1 div.sk-serial {display: flex;flex-direction: column;align-items: center;background-color: white;padding-right: 0.2em;padding-left: 0.2em;position: relative;}#sk-container-id-1 div.sk-item {position: relative;z-index: 1;}#sk-container-id-1 div.sk-parallel {display: flex;align-items: stretch;justify-content: center;background-color: white;position: relative;}#sk-container-id-1 div.sk-item::before, #sk-container-id-1 div.sk-parallel-item::before {content: \"\";position: absolute;border-left: 1px solid gray;box-sizing: border-box;top: 0;bottom: 0;left: 50%;z-index: -1;}#sk-container-id-1 div.sk-parallel-item {display: flex;flex-direction: column;z-index: 1;position: relative;background-color: white;}#sk-container-id-1 div.sk-parallel-item:first-child::after {align-self: flex-end;width: 50%;}#sk-container-id-1 div.sk-parallel-item:last-child::after {align-self: flex-start;width: 50%;}#sk-container-id-1 div.sk-parallel-item:only-child::after {width: 0;}#sk-container-id-1 div.sk-dashed-wrapped {border: 1px dashed gray;margin: 0 0.4em 0.5em 0.4em;box-sizing: border-box;padding-bottom: 0.4em;background-color: white;}#sk-container-id-1 div.sk-label label {font-family: monospace;font-weight: bold;display: inline-block;line-height: 1.2em;}#sk-container-id-1 div.sk-label-container {text-align: center;}#sk-container-id-1 div.sk-container {/* jupyter's `normalize.less` sets `[hidden] { display: none; }` but bootstrap.min.css set `[hidden] { display: none !important; }` so we also need the `!important` here to be able to override the default hidden behavior on the sphinx rendered scikit-learn.org. See: https://github.com/scikit-learn/scikit-learn/issues/21755 */display: inline-block !important;position: relative;}#sk-container-id-1 div.sk-text-repr-fallback {display: none;}</style><div id=\"sk-container-id-1\" class=\"sk-top-container\"><div class=\"sk-text-repr-fallback\"><pre>SVC()</pre><b>In a Jupyter environment, please rerun this cell to show the HTML representation or trust the notebook. <br />On GitHub, the HTML representation is unable to render, please try loading this page with nbviewer.org.</b></div><div class=\"sk-container\" hidden><div class=\"sk-item\"><div class=\"sk-estimator sk-toggleable\"><input class=\"sk-toggleable__control sk-hidden--visually\" id=\"sk-estimator-id-1\" type=\"checkbox\" checked><label for=\"sk-estimator-id-1\" class=\"sk-toggleable__label sk-toggleable__label-arrow\">SVC</label><div class=\"sk-toggleable__content\"><pre>SVC()</pre></div></div></div></div></div>"
            ]
          },
          "metadata": {},
          "execution_count": 82
        }
      ],
      "source": [
        "svc = SVC()\n",
        "svc.fit(x_train,y_train)"
      ]
    },
    {
      "cell_type": "markdown",
      "metadata": {
        "id": "422lfR_vAlaW"
      },
      "source": [
        "**Training Data**"
      ]
    },
    {
      "cell_type": "code",
      "execution_count": null,
      "metadata": {
        "colab": {
          "base_uri": "https://localhost:8080/"
        },
        "id": "kXDSR06Z4ZAF",
        "outputId": "ad131a27-cd4e-4ab6-dca7-9209310b68a1"
      },
      "outputs": [
        {
          "output_type": "execute_result",
          "data": {
            "text/plain": [
              "array([1, 1, 1, ..., 1, 1, 0])"
            ]
          },
          "metadata": {},
          "execution_count": 83
        }
      ],
      "source": [
        "yhat_train_svc = svc.predict(x_train)\n",
        "yhat_train_svc"
      ]
    },
    {
      "cell_type": "code",
      "execution_count": null,
      "metadata": {
        "colab": {
          "base_uri": "https://localhost:8080/"
        },
        "id": "qUdRuN_y5Ial",
        "outputId": "ec70f8e5-d468-452a-8ace-bf96be6844cd"
      },
      "outputs": [
        {
          "output_type": "stream",
          "name": "stdout",
          "text": [
            "[[ 8590  5689]\n",
            " [  215 35610]]\n"
          ]
        }
      ],
      "source": [
        "cm_train_svc = confusion_matrix(y_train, yhat_train_svc)\n",
        "print(cm_train_svc)"
      ]
    },
    {
      "cell_type": "code",
      "execution_count": null,
      "metadata": {
        "colab": {
          "base_uri": "https://localhost:8080/"
        },
        "id": "gS4IiPKR5L4v",
        "outputId": "1c5ec970-cac4-4e68-e8b5-cc0465dca3fb"
      },
      "outputs": [
        {
          "output_type": "stream",
          "name": "stdout",
          "text": [
            "              precision    recall  f1-score   support\n",
            "\n",
            "           0       0.98      0.60      0.74     14279\n",
            "           1       0.86      0.99      0.92     35825\n",
            "\n",
            "    accuracy                           0.88     50104\n",
            "   macro avg       0.92      0.80      0.83     50104\n",
            "weighted avg       0.89      0.88      0.87     50104\n",
            "\n"
          ]
        }
      ],
      "source": [
        "print(classification_report(y_train, yhat_train_svc))"
      ]
    },
    {
      "cell_type": "markdown",
      "metadata": {
        "id": "MhwpzopVAoek"
      },
      "source": [
        "**Testing Data**"
      ]
    },
    {
      "cell_type": "code",
      "execution_count": null,
      "metadata": {
        "id": "UK4ZcMxNAqBq"
      },
      "outputs": [],
      "source": [
        "yhat_test_svc = svc.predict(x_test)"
      ]
    },
    {
      "cell_type": "code",
      "execution_count": null,
      "metadata": {
        "colab": {
          "base_uri": "https://localhost:8080/"
        },
        "id": "1WCxFF5DA5yX",
        "outputId": "6b3f9898-bfc3-4dd9-ae4e-2b7c9c9c1d74"
      },
      "outputs": [
        {
          "output_type": "stream",
          "name": "stdout",
          "text": [
            "[[2221 1373]\n",
            " [  58 8874]]\n"
          ]
        }
      ],
      "source": [
        "print(confusion_matrix(y_test, yhat_test_svc))"
      ]
    },
    {
      "cell_type": "code",
      "execution_count": null,
      "metadata": {
        "colab": {
          "base_uri": "https://localhost:8080/"
        },
        "id": "saiJrvKDA8j7",
        "outputId": "78bcf95a-3eb1-4d1e-d593-434f845ae35f"
      },
      "outputs": [
        {
          "output_type": "stream",
          "name": "stdout",
          "text": [
            "              precision    recall  f1-score   support\n",
            "\n",
            "           0       0.97      0.62      0.76      3594\n",
            "           1       0.87      0.99      0.93      8932\n",
            "\n",
            "    accuracy                           0.89     12526\n",
            "   macro avg       0.92      0.81      0.84     12526\n",
            "weighted avg       0.90      0.89      0.88     12526\n",
            "\n"
          ]
        }
      ],
      "source": [
        "print(classification_report(y_test, yhat_test_svc))"
      ]
    },
    {
      "cell_type": "markdown",
      "source": [
        "# 7. Hyperparameter Tuning"
      ],
      "metadata": {
        "id": "2tauODfHTBEw"
      }
    },
    {
      "cell_type": "markdown",
      "source": [
        "## 7.1 Standarization"
      ],
      "metadata": {
        "id": "fhnJ6wVUWHhF"
      }
    },
    {
      "cell_type": "markdown",
      "source": [
        "Standardization is to change the features to the same scale. It is calculated by extracting the mean and divided by the standard deviation of each feature. After standardization, each feature has zero mean and unit standard deviation.\n",
        "\n",
        "Standardization should be fit on the training dataset only to prevent test dataset information from leaking into the training process. Then, the test dataset is standardized using the fitting results from the training dataset.\n",
        "\n",
        "There are different types of scalers. StandardScaler and MinMaxScaler are most commonly used. For a dataset with outliers, we can use RobustScaler.\n",
        "\n",
        "In this study, we will use StandardScaler."
      ],
      "metadata": {
        "id": "7LBcoC1MWKS8"
      }
    },
    {
      "cell_type": "code",
      "source": [
        "# Standardize the data\n",
        "from sklearn.preprocessing import StandardScaler"
      ],
      "metadata": {
        "id": "C17z3i0DWYhd"
      },
      "execution_count": null,
      "outputs": []
    },
    {
      "cell_type": "code",
      "source": [
        "# Initiate scaler\n",
        "sc = StandardScaler()\n",
        "\n",
        "# Standardize the training dataset\n",
        "X_train_transformed = pd.DataFrame(sc.fit_transform(x_train),index=x_train.index, columns=x_train.columns)\n",
        "\n",
        "# Standardized the testing dataset\n",
        "X_test_transformed = pd.DataFrame(sc.transform(x_test),index=x_test.index, columns=x_test.columns)\n",
        "\n",
        "# Summary statistics after standardization\n",
        "X_train_transformed.describe().T"
      ],
      "metadata": {
        "colab": {
          "base_uri": "https://localhost:8080/",
          "height": 425
        },
        "id": "jH0Zfu-YWg0d",
        "outputId": "5b879d1a-871e-4988-9de4-2d6fc0e1e5c2"
      },
      "execution_count": null,
      "outputs": [
        {
          "output_type": "execute_result",
          "data": {
            "text/plain": [
              "                  count          mean      std       min       25%       50%  \\\n",
              "Temperature[C]  50104.0 -1.608875e-16  1.00001 -2.641590 -0.350883  0.290581   \n",
              "Humidity[%]     50104.0 -2.997939e-16  1.00001 -4.277478 -0.115490  0.180825   \n",
              "TVOC[ppb]       50104.0  4.892568e-18  1.00001 -0.248449 -0.231877 -0.122298   \n",
              "eCO2[ppm]       50104.0  3.775786e-17  1.00001 -0.140413 -0.140413 -0.140413   \n",
              "Raw H2          50104.0 -2.299897e-15  1.00001 -8.369990 -0.415138 -0.069275   \n",
              "Raw Ethanol     50104.0  1.977909e-15  1.00001 -7.302478 -0.524917 -0.417938   \n",
              "Pressure[hPa]   50104.0 -4.985109e-14  1.00001 -5.878148  0.051080  0.138719   \n",
              "PM1.0           50104.0  6.665238e-18  1.00001 -0.108024 -0.106602 -0.106029   \n",
              "PM2.5           50104.0  1.914483e-18  1.00001 -0.091987 -0.091303 -0.091027   \n",
              "NC0.5           50104.0  1.162871e-17  1.00001 -0.114595 -0.112467 -0.111608   \n",
              "NC1.0           50104.0 -5.885263e-18  1.00001 -0.090561 -0.089930 -0.089677   \n",
              "NC2.5           50104.0  2.127204e-19  1.00001 -0.072614 -0.072583 -0.072573   \n",
              "\n",
              "                     75%        max  \n",
              "Temperature[C]  0.659470   3.063723  \n",
              "Humidity[%]     0.530296   3.012786  \n",
              "TVOC[ppb]      -0.095706   7.459355  \n",
              "eCO2[ppm]      -0.120525  31.051485  \n",
              "Raw H2          0.611413   3.164914  \n",
              "Raw Ethanol     0.532122   2.725613  \n",
              "Pressure[hPa]   0.595046   0.928225  \n",
              "PM1.0          -0.105720  15.690414  \n",
              "PM2.5          -0.090874  23.097272  \n",
              "NC0.5          -0.111135  14.637666  \n",
              "NC1.0          -0.089538  23.541544  \n",
              "NC2.5          -0.072566  27.712673  "
            ],
            "text/html": [
              "\n",
              "  <div id=\"df-9941f73c-743a-49a9-bdac-e69d6a5c32a2\">\n",
              "    <div class=\"colab-df-container\">\n",
              "      <div>\n",
              "<style scoped>\n",
              "    .dataframe tbody tr th:only-of-type {\n",
              "        vertical-align: middle;\n",
              "    }\n",
              "\n",
              "    .dataframe tbody tr th {\n",
              "        vertical-align: top;\n",
              "    }\n",
              "\n",
              "    .dataframe thead th {\n",
              "        text-align: right;\n",
              "    }\n",
              "</style>\n",
              "<table border=\"1\" class=\"dataframe\">\n",
              "  <thead>\n",
              "    <tr style=\"text-align: right;\">\n",
              "      <th></th>\n",
              "      <th>count</th>\n",
              "      <th>mean</th>\n",
              "      <th>std</th>\n",
              "      <th>min</th>\n",
              "      <th>25%</th>\n",
              "      <th>50%</th>\n",
              "      <th>75%</th>\n",
              "      <th>max</th>\n",
              "    </tr>\n",
              "  </thead>\n",
              "  <tbody>\n",
              "    <tr>\n",
              "      <th>Temperature[C]</th>\n",
              "      <td>50104.0</td>\n",
              "      <td>-1.608875e-16</td>\n",
              "      <td>1.00001</td>\n",
              "      <td>-2.641590</td>\n",
              "      <td>-0.350883</td>\n",
              "      <td>0.290581</td>\n",
              "      <td>0.659470</td>\n",
              "      <td>3.063723</td>\n",
              "    </tr>\n",
              "    <tr>\n",
              "      <th>Humidity[%]</th>\n",
              "      <td>50104.0</td>\n",
              "      <td>-2.997939e-16</td>\n",
              "      <td>1.00001</td>\n",
              "      <td>-4.277478</td>\n",
              "      <td>-0.115490</td>\n",
              "      <td>0.180825</td>\n",
              "      <td>0.530296</td>\n",
              "      <td>3.012786</td>\n",
              "    </tr>\n",
              "    <tr>\n",
              "      <th>TVOC[ppb]</th>\n",
              "      <td>50104.0</td>\n",
              "      <td>4.892568e-18</td>\n",
              "      <td>1.00001</td>\n",
              "      <td>-0.248449</td>\n",
              "      <td>-0.231877</td>\n",
              "      <td>-0.122298</td>\n",
              "      <td>-0.095706</td>\n",
              "      <td>7.459355</td>\n",
              "    </tr>\n",
              "    <tr>\n",
              "      <th>eCO2[ppm]</th>\n",
              "      <td>50104.0</td>\n",
              "      <td>3.775786e-17</td>\n",
              "      <td>1.00001</td>\n",
              "      <td>-0.140413</td>\n",
              "      <td>-0.140413</td>\n",
              "      <td>-0.140413</td>\n",
              "      <td>-0.120525</td>\n",
              "      <td>31.051485</td>\n",
              "    </tr>\n",
              "    <tr>\n",
              "      <th>Raw H2</th>\n",
              "      <td>50104.0</td>\n",
              "      <td>-2.299897e-15</td>\n",
              "      <td>1.00001</td>\n",
              "      <td>-8.369990</td>\n",
              "      <td>-0.415138</td>\n",
              "      <td>-0.069275</td>\n",
              "      <td>0.611413</td>\n",
              "      <td>3.164914</td>\n",
              "    </tr>\n",
              "    <tr>\n",
              "      <th>Raw Ethanol</th>\n",
              "      <td>50104.0</td>\n",
              "      <td>1.977909e-15</td>\n",
              "      <td>1.00001</td>\n",
              "      <td>-7.302478</td>\n",
              "      <td>-0.524917</td>\n",
              "      <td>-0.417938</td>\n",
              "      <td>0.532122</td>\n",
              "      <td>2.725613</td>\n",
              "    </tr>\n",
              "    <tr>\n",
              "      <th>Pressure[hPa]</th>\n",
              "      <td>50104.0</td>\n",
              "      <td>-4.985109e-14</td>\n",
              "      <td>1.00001</td>\n",
              "      <td>-5.878148</td>\n",
              "      <td>0.051080</td>\n",
              "      <td>0.138719</td>\n",
              "      <td>0.595046</td>\n",
              "      <td>0.928225</td>\n",
              "    </tr>\n",
              "    <tr>\n",
              "      <th>PM1.0</th>\n",
              "      <td>50104.0</td>\n",
              "      <td>6.665238e-18</td>\n",
              "      <td>1.00001</td>\n",
              "      <td>-0.108024</td>\n",
              "      <td>-0.106602</td>\n",
              "      <td>-0.106029</td>\n",
              "      <td>-0.105720</td>\n",
              "      <td>15.690414</td>\n",
              "    </tr>\n",
              "    <tr>\n",
              "      <th>PM2.5</th>\n",
              "      <td>50104.0</td>\n",
              "      <td>1.914483e-18</td>\n",
              "      <td>1.00001</td>\n",
              "      <td>-0.091987</td>\n",
              "      <td>-0.091303</td>\n",
              "      <td>-0.091027</td>\n",
              "      <td>-0.090874</td>\n",
              "      <td>23.097272</td>\n",
              "    </tr>\n",
              "    <tr>\n",
              "      <th>NC0.5</th>\n",
              "      <td>50104.0</td>\n",
              "      <td>1.162871e-17</td>\n",
              "      <td>1.00001</td>\n",
              "      <td>-0.114595</td>\n",
              "      <td>-0.112467</td>\n",
              "      <td>-0.111608</td>\n",
              "      <td>-0.111135</td>\n",
              "      <td>14.637666</td>\n",
              "    </tr>\n",
              "    <tr>\n",
              "      <th>NC1.0</th>\n",
              "      <td>50104.0</td>\n",
              "      <td>-5.885263e-18</td>\n",
              "      <td>1.00001</td>\n",
              "      <td>-0.090561</td>\n",
              "      <td>-0.089930</td>\n",
              "      <td>-0.089677</td>\n",
              "      <td>-0.089538</td>\n",
              "      <td>23.541544</td>\n",
              "    </tr>\n",
              "    <tr>\n",
              "      <th>NC2.5</th>\n",
              "      <td>50104.0</td>\n",
              "      <td>2.127204e-19</td>\n",
              "      <td>1.00001</td>\n",
              "      <td>-0.072614</td>\n",
              "      <td>-0.072583</td>\n",
              "      <td>-0.072573</td>\n",
              "      <td>-0.072566</td>\n",
              "      <td>27.712673</td>\n",
              "    </tr>\n",
              "  </tbody>\n",
              "</table>\n",
              "</div>\n",
              "      <button class=\"colab-df-convert\" onclick=\"convertToInteractive('df-9941f73c-743a-49a9-bdac-e69d6a5c32a2')\"\n",
              "              title=\"Convert this dataframe to an interactive table.\"\n",
              "              style=\"display:none;\">\n",
              "        \n",
              "  <svg xmlns=\"http://www.w3.org/2000/svg\" height=\"24px\"viewBox=\"0 0 24 24\"\n",
              "       width=\"24px\">\n",
              "    <path d=\"M0 0h24v24H0V0z\" fill=\"none\"/>\n",
              "    <path d=\"M18.56 5.44l.94 2.06.94-2.06 2.06-.94-2.06-.94-.94-2.06-.94 2.06-2.06.94zm-11 1L8.5 8.5l.94-2.06 2.06-.94-2.06-.94L8.5 2.5l-.94 2.06-2.06.94zm10 10l.94 2.06.94-2.06 2.06-.94-2.06-.94-.94-2.06-.94 2.06-2.06.94z\"/><path d=\"M17.41 7.96l-1.37-1.37c-.4-.4-.92-.59-1.43-.59-.52 0-1.04.2-1.43.59L10.3 9.45l-7.72 7.72c-.78.78-.78 2.05 0 2.83L4 21.41c.39.39.9.59 1.41.59.51 0 1.02-.2 1.41-.59l7.78-7.78 2.81-2.81c.8-.78.8-2.07 0-2.86zM5.41 20L4 18.59l7.72-7.72 1.47 1.35L5.41 20z\"/>\n",
              "  </svg>\n",
              "      </button>\n",
              "      \n",
              "  <style>\n",
              "    .colab-df-container {\n",
              "      display:flex;\n",
              "      flex-wrap:wrap;\n",
              "      gap: 12px;\n",
              "    }\n",
              "\n",
              "    .colab-df-convert {\n",
              "      background-color: #E8F0FE;\n",
              "      border: none;\n",
              "      border-radius: 50%;\n",
              "      cursor: pointer;\n",
              "      display: none;\n",
              "      fill: #1967D2;\n",
              "      height: 32px;\n",
              "      padding: 0 0 0 0;\n",
              "      width: 32px;\n",
              "    }\n",
              "\n",
              "    .colab-df-convert:hover {\n",
              "      background-color: #E2EBFA;\n",
              "      box-shadow: 0px 1px 2px rgba(60, 64, 67, 0.3), 0px 1px 3px 1px rgba(60, 64, 67, 0.15);\n",
              "      fill: #174EA6;\n",
              "    }\n",
              "\n",
              "    [theme=dark] .colab-df-convert {\n",
              "      background-color: #3B4455;\n",
              "      fill: #D2E3FC;\n",
              "    }\n",
              "\n",
              "    [theme=dark] .colab-df-convert:hover {\n",
              "      background-color: #434B5C;\n",
              "      box-shadow: 0px 1px 3px 1px rgba(0, 0, 0, 0.15);\n",
              "      filter: drop-shadow(0px 1px 2px rgba(0, 0, 0, 0.3));\n",
              "      fill: #FFFFFF;\n",
              "    }\n",
              "  </style>\n",
              "\n",
              "      <script>\n",
              "        const buttonEl =\n",
              "          document.querySelector('#df-9941f73c-743a-49a9-bdac-e69d6a5c32a2 button.colab-df-convert');\n",
              "        buttonEl.style.display =\n",
              "          google.colab.kernel.accessAllowed ? 'block' : 'none';\n",
              "\n",
              "        async function convertToInteractive(key) {\n",
              "          const element = document.querySelector('#df-9941f73c-743a-49a9-bdac-e69d6a5c32a2');\n",
              "          const dataTable =\n",
              "            await google.colab.kernel.invokeFunction('convertToInteractive',\n",
              "                                                     [key], {});\n",
              "          if (!dataTable) return;\n",
              "\n",
              "          const docLinkHtml = 'Like what you see? Visit the ' +\n",
              "            '<a target=\"_blank\" href=https://colab.research.google.com/notebooks/data_table.ipynb>data table notebook</a>'\n",
              "            + ' to learn more about interactive tables.';\n",
              "          element.innerHTML = '';\n",
              "          dataTable['output_type'] = 'display_data';\n",
              "          await google.colab.output.renderOutput(dataTable, element);\n",
              "          const docLink = document.createElement('div');\n",
              "          docLink.innerHTML = docLinkHtml;\n",
              "          element.appendChild(docLink);\n",
              "        }\n",
              "      </script>\n",
              "    </div>\n",
              "  </div>\n",
              "  "
            ]
          },
          "metadata": {},
          "execution_count": 90
        }
      ]
    },
    {
      "cell_type": "markdown",
      "source": [
        "We can see that after using StandardScaler, all the features have zero mean because it is really small and same unit of standard deviation about 1.00001"
      ],
      "metadata": {
        "id": "-UjoyPExW_-4"
      }
    },
    {
      "cell_type": "code",
      "source": [
        "params = svc.get_params()\n",
        "params_smokedet = pd.DataFrame(params, index=[0])\n",
        "params_smokedet.T"
      ],
      "metadata": {
        "colab": {
          "base_uri": "https://localhost:8080/",
          "height": 519
        },
        "id": "O6YpzRixWxcF",
        "outputId": "1b4edab0-ebd6-47f1-a811-e8692b674713"
      },
      "execution_count": null,
      "outputs": [
        {
          "output_type": "execute_result",
          "data": {
            "text/plain": [
              "                             0\n",
              "C                          1.0\n",
              "break_ties               False\n",
              "cache_size                 200\n",
              "class_weight              None\n",
              "coef0                      0.0\n",
              "decision_function_shape    ovr\n",
              "degree                       3\n",
              "gamma                    scale\n",
              "kernel                     rbf\n",
              "max_iter                    -1\n",
              "probability              False\n",
              "random_state              None\n",
              "shrinking                 True\n",
              "tol                      0.001\n",
              "verbose                  False"
            ],
            "text/html": [
              "\n",
              "  <div id=\"df-222bff4f-9e48-4573-aa5b-6d30edc76ce8\">\n",
              "    <div class=\"colab-df-container\">\n",
              "      <div>\n",
              "<style scoped>\n",
              "    .dataframe tbody tr th:only-of-type {\n",
              "        vertical-align: middle;\n",
              "    }\n",
              "\n",
              "    .dataframe tbody tr th {\n",
              "        vertical-align: top;\n",
              "    }\n",
              "\n",
              "    .dataframe thead th {\n",
              "        text-align: right;\n",
              "    }\n",
              "</style>\n",
              "<table border=\"1\" class=\"dataframe\">\n",
              "  <thead>\n",
              "    <tr style=\"text-align: right;\">\n",
              "      <th></th>\n",
              "      <th>0</th>\n",
              "    </tr>\n",
              "  </thead>\n",
              "  <tbody>\n",
              "    <tr>\n",
              "      <th>C</th>\n",
              "      <td>1.0</td>\n",
              "    </tr>\n",
              "    <tr>\n",
              "      <th>break_ties</th>\n",
              "      <td>False</td>\n",
              "    </tr>\n",
              "    <tr>\n",
              "      <th>cache_size</th>\n",
              "      <td>200</td>\n",
              "    </tr>\n",
              "    <tr>\n",
              "      <th>class_weight</th>\n",
              "      <td>None</td>\n",
              "    </tr>\n",
              "    <tr>\n",
              "      <th>coef0</th>\n",
              "      <td>0.0</td>\n",
              "    </tr>\n",
              "    <tr>\n",
              "      <th>decision_function_shape</th>\n",
              "      <td>ovr</td>\n",
              "    </tr>\n",
              "    <tr>\n",
              "      <th>degree</th>\n",
              "      <td>3</td>\n",
              "    </tr>\n",
              "    <tr>\n",
              "      <th>gamma</th>\n",
              "      <td>scale</td>\n",
              "    </tr>\n",
              "    <tr>\n",
              "      <th>kernel</th>\n",
              "      <td>rbf</td>\n",
              "    </tr>\n",
              "    <tr>\n",
              "      <th>max_iter</th>\n",
              "      <td>-1</td>\n",
              "    </tr>\n",
              "    <tr>\n",
              "      <th>probability</th>\n",
              "      <td>False</td>\n",
              "    </tr>\n",
              "    <tr>\n",
              "      <th>random_state</th>\n",
              "      <td>None</td>\n",
              "    </tr>\n",
              "    <tr>\n",
              "      <th>shrinking</th>\n",
              "      <td>True</td>\n",
              "    </tr>\n",
              "    <tr>\n",
              "      <th>tol</th>\n",
              "      <td>0.001</td>\n",
              "    </tr>\n",
              "    <tr>\n",
              "      <th>verbose</th>\n",
              "      <td>False</td>\n",
              "    </tr>\n",
              "  </tbody>\n",
              "</table>\n",
              "</div>\n",
              "      <button class=\"colab-df-convert\" onclick=\"convertToInteractive('df-222bff4f-9e48-4573-aa5b-6d30edc76ce8')\"\n",
              "              title=\"Convert this dataframe to an interactive table.\"\n",
              "              style=\"display:none;\">\n",
              "        \n",
              "  <svg xmlns=\"http://www.w3.org/2000/svg\" height=\"24px\"viewBox=\"0 0 24 24\"\n",
              "       width=\"24px\">\n",
              "    <path d=\"M0 0h24v24H0V0z\" fill=\"none\"/>\n",
              "    <path d=\"M18.56 5.44l.94 2.06.94-2.06 2.06-.94-2.06-.94-.94-2.06-.94 2.06-2.06.94zm-11 1L8.5 8.5l.94-2.06 2.06-.94-2.06-.94L8.5 2.5l-.94 2.06-2.06.94zm10 10l.94 2.06.94-2.06 2.06-.94-2.06-.94-.94-2.06-.94 2.06-2.06.94z\"/><path d=\"M17.41 7.96l-1.37-1.37c-.4-.4-.92-.59-1.43-.59-.52 0-1.04.2-1.43.59L10.3 9.45l-7.72 7.72c-.78.78-.78 2.05 0 2.83L4 21.41c.39.39.9.59 1.41.59.51 0 1.02-.2 1.41-.59l7.78-7.78 2.81-2.81c.8-.78.8-2.07 0-2.86zM5.41 20L4 18.59l7.72-7.72 1.47 1.35L5.41 20z\"/>\n",
              "  </svg>\n",
              "      </button>\n",
              "      \n",
              "  <style>\n",
              "    .colab-df-container {\n",
              "      display:flex;\n",
              "      flex-wrap:wrap;\n",
              "      gap: 12px;\n",
              "    }\n",
              "\n",
              "    .colab-df-convert {\n",
              "      background-color: #E8F0FE;\n",
              "      border: none;\n",
              "      border-radius: 50%;\n",
              "      cursor: pointer;\n",
              "      display: none;\n",
              "      fill: #1967D2;\n",
              "      height: 32px;\n",
              "      padding: 0 0 0 0;\n",
              "      width: 32px;\n",
              "    }\n",
              "\n",
              "    .colab-df-convert:hover {\n",
              "      background-color: #E2EBFA;\n",
              "      box-shadow: 0px 1px 2px rgba(60, 64, 67, 0.3), 0px 1px 3px 1px rgba(60, 64, 67, 0.15);\n",
              "      fill: #174EA6;\n",
              "    }\n",
              "\n",
              "    [theme=dark] .colab-df-convert {\n",
              "      background-color: #3B4455;\n",
              "      fill: #D2E3FC;\n",
              "    }\n",
              "\n",
              "    [theme=dark] .colab-df-convert:hover {\n",
              "      background-color: #434B5C;\n",
              "      box-shadow: 0px 1px 3px 1px rgba(0, 0, 0, 0.15);\n",
              "      filter: drop-shadow(0px 1px 2px rgba(0, 0, 0, 0.3));\n",
              "      fill: #FFFFFF;\n",
              "    }\n",
              "  </style>\n",
              "\n",
              "      <script>\n",
              "        const buttonEl =\n",
              "          document.querySelector('#df-222bff4f-9e48-4573-aa5b-6d30edc76ce8 button.colab-df-convert');\n",
              "        buttonEl.style.display =\n",
              "          google.colab.kernel.accessAllowed ? 'block' : 'none';\n",
              "\n",
              "        async function convertToInteractive(key) {\n",
              "          const element = document.querySelector('#df-222bff4f-9e48-4573-aa5b-6d30edc76ce8');\n",
              "          const dataTable =\n",
              "            await google.colab.kernel.invokeFunction('convertToInteractive',\n",
              "                                                     [key], {});\n",
              "          if (!dataTable) return;\n",
              "\n",
              "          const docLinkHtml = 'Like what you see? Visit the ' +\n",
              "            '<a target=\"_blank\" href=https://colab.research.google.com/notebooks/data_table.ipynb>data table notebook</a>'\n",
              "            + ' to learn more about interactive tables.';\n",
              "          element.innerHTML = '';\n",
              "          dataTable['output_type'] = 'display_data';\n",
              "          await google.colab.output.renderOutput(dataTable, element);\n",
              "          const docLink = document.createElement('div');\n",
              "          docLink.innerHTML = docLinkHtml;\n",
              "          element.appendChild(docLink);\n",
              "        }\n",
              "      </script>\n",
              "    </div>\n",
              "  </div>\n",
              "  "
            ]
          },
          "metadata": {},
          "execution_count": 91
        }
      ]
    },
    {
      "cell_type": "markdown",
      "source": [
        "We can see that the default hyperparameter has the C value of 1, the gamma value of scale, and the kernel value of rbf."
      ],
      "metadata": {
        "id": "Ezp5-HiUXeGg"
      }
    },
    {
      "cell_type": "code",
      "source": [
        "# Run model\n",
        "svc.fit(X_train_transformed, y_train)\n",
        "\n",
        "# Accuracy score\n",
        "print(f'The accuracy score of the model is {svc.score(X_test_transformed, y_test):.4f}')"
      ],
      "metadata": {
        "colab": {
          "base_uri": "https://localhost:8080/"
        },
        "id": "-zXUkLa-XqX9",
        "outputId": "dbe9c24b-a325-407b-bb85-7b026ea9c9f2"
      },
      "execution_count": null,
      "outputs": [
        {
          "output_type": "stream",
          "name": "stdout",
          "text": [
            "The accuracy score of the model is 0.9685\n"
          ]
        }
      ]
    },
    {
      "cell_type": "markdown",
      "source": [
        "## 7.2 Random Search"
      ],
      "metadata": {
        "id": "YKwi8DUBX7h6"
      }
    },
    {
      "cell_type": "code",
      "source": [
        "# Hyperparameter tuning\n",
        "from sklearn.model_selection import StratifiedKFold, RandomizedSearchCV, cross_val_score\n",
        "from hyperopt import tpe, STATUS_OK, Trials, hp, fmin, STATUS_OK, space_eval"
      ],
      "metadata": {
        "id": "eXJCjUC8TF-s"
      },
      "execution_count": null,
      "outputs": []
    },
    {
      "cell_type": "markdown",
      "source": [
        "we use a random search for Support Vector Machine (SVM) hyperparameter tuning. Since random search randomly picks a subset of hyperparameter combinations, we can afford to try more values.\n",
        "\n",
        "If at least one of the parameters is a distribution, sampling with replacement is used for a random search. Sampling without replacement is used if all parameters are provided as a list. Each list is treated as a uniform distribution.\n",
        "\n",
        "We increased the number of C and gamma values from 1 to 5 for the random search. For gamma, the sklearn values of 'scale' and 'auto' are also included, so there are a total of 5 values for gamma."
      ],
      "metadata": {
        "id": "DXxIW9beYP8v"
      }
    },
    {
      "cell_type": "code",
      "source": [
        "# List of C values\n",
        "C_range = np.logspace(-3, 1, 5)\n",
        "print(f'The list of values for C are {C_range}')\n",
        "\n",
        "# List of gamma values\n",
        "gamma_range = np.logspace(-3, 1, 5)\n",
        "print(f'The list of values for gamma are {gamma_range}')"
      ],
      "metadata": {
        "colab": {
          "base_uri": "https://localhost:8080/"
        },
        "id": "rpKUgTb8X97w",
        "outputId": "3cc083fd-2664-4b2c-c597-9e81aeda0988"
      },
      "execution_count": null,
      "outputs": [
        {
          "output_type": "stream",
          "name": "stdout",
          "text": [
            "The list of values for C are [1.e-03 1.e-02 1.e-01 1.e+00 1.e+01]\n",
            "The list of values for gamma are [1.e-03 1.e-02 1.e-01 1.e+00 1.e+01]\n"
          ]
        }
      ]
    },
    {
      "cell_type": "code",
      "source": [
        "# Define the search space\n",
        "param_grid = {\n",
        "    # Regularization parameter.\n",
        "    \"C\": C_range,\n",
        "    # Kernel type\n",
        "    \"kernel\": ['rbf', 'poly'],\n",
        "    # Gamma is the Kernel coefficient for ‘rbf’, ‘poly’ and ‘sigmoid’.\n",
        "    \"gamma\": gamma_range.tolist()+['scale', 'auto']\n",
        "    }\n",
        "\n",
        "# Set up score\n",
        "scoring = ['accuracy']\n",
        "\n",
        "# Set up the k-fold cross-validation\n",
        "kfold = StratifiedKFold(n_splits=3, shuffle=True, random_state=0)"
      ],
      "metadata": {
        "id": "amjSeXooYfof"
      },
      "execution_count": null,
      "outputs": []
    },
    {
      "cell_type": "code",
      "source": [
        "# Define random search\n",
        "random_search = RandomizedSearchCV(estimator=svc,\n",
        "                           param_distributions=param_grid,\n",
        "                           n_iter=30,\n",
        "                           scoring=scoring,\n",
        "                           refit='accuracy',\n",
        "                           n_jobs=-1,\n",
        "                           cv=kfold,\n",
        "                           verbose=0)"
      ],
      "metadata": {
        "id": "wu8BI4A2u_Sl"
      },
      "execution_count": null,
      "outputs": []
    },
    {
      "cell_type": "code",
      "source": [
        "# Fit random search\n",
        "random_result = random_search.fit(X_train_transformed, y_train)"
      ],
      "metadata": {
        "id": "ueAhYUIhurOp"
      },
      "execution_count": null,
      "outputs": []
    },
    {
      "cell_type": "code",
      "source": [
        "# Print random search summary\n",
        "random_result"
      ],
      "metadata": {
        "colab": {
          "base_uri": "https://localhost:8080/",
          "height": 244
        },
        "id": "GDVdySvkvB39",
        "outputId": "fcde5596-709a-4f30-8958-d3c215bba3c4"
      },
      "execution_count": null,
      "outputs": [
        {
          "output_type": "execute_result",
          "data": {
            "text/plain": [
              "RandomizedSearchCV(cv=StratifiedKFold(n_splits=3, random_state=0, shuffle=True),\n",
              "                   estimator=SVC(), n_iter=30, n_jobs=-1,\n",
              "                   param_distributions={'C': array([1.e-03, 1.e-02, 1.e-01, 1.e+00, 1.e+01]),\n",
              "                                        'gamma': [0.001, 0.01, 0.1, 1.0, 10.0,\n",
              "                                                  'scale', 'auto'],\n",
              "                                        'kernel': ['rbf', 'poly']},\n",
              "                   refit='accuracy', scoring=['accuracy'])"
            ],
            "text/html": [
              "<style>#sk-container-id-2 {color: black;background-color: white;}#sk-container-id-2 pre{padding: 0;}#sk-container-id-2 div.sk-toggleable {background-color: white;}#sk-container-id-2 label.sk-toggleable__label {cursor: pointer;display: block;width: 100%;margin-bottom: 0;padding: 0.3em;box-sizing: border-box;text-align: center;}#sk-container-id-2 label.sk-toggleable__label-arrow:before {content: \"▸\";float: left;margin-right: 0.25em;color: #696969;}#sk-container-id-2 label.sk-toggleable__label-arrow:hover:before {color: black;}#sk-container-id-2 div.sk-estimator:hover label.sk-toggleable__label-arrow:before {color: black;}#sk-container-id-2 div.sk-toggleable__content {max-height: 0;max-width: 0;overflow: hidden;text-align: left;background-color: #f0f8ff;}#sk-container-id-2 div.sk-toggleable__content pre {margin: 0.2em;color: black;border-radius: 0.25em;background-color: #f0f8ff;}#sk-container-id-2 input.sk-toggleable__control:checked~div.sk-toggleable__content {max-height: 200px;max-width: 100%;overflow: auto;}#sk-container-id-2 input.sk-toggleable__control:checked~label.sk-toggleable__label-arrow:before {content: \"▾\";}#sk-container-id-2 div.sk-estimator input.sk-toggleable__control:checked~label.sk-toggleable__label {background-color: #d4ebff;}#sk-container-id-2 div.sk-label input.sk-toggleable__control:checked~label.sk-toggleable__label {background-color: #d4ebff;}#sk-container-id-2 input.sk-hidden--visually {border: 0;clip: rect(1px 1px 1px 1px);clip: rect(1px, 1px, 1px, 1px);height: 1px;margin: -1px;overflow: hidden;padding: 0;position: absolute;width: 1px;}#sk-container-id-2 div.sk-estimator {font-family: monospace;background-color: #f0f8ff;border: 1px dotted black;border-radius: 0.25em;box-sizing: border-box;margin-bottom: 0.5em;}#sk-container-id-2 div.sk-estimator:hover {background-color: #d4ebff;}#sk-container-id-2 div.sk-parallel-item::after {content: \"\";width: 100%;border-bottom: 1px solid gray;flex-grow: 1;}#sk-container-id-2 div.sk-label:hover label.sk-toggleable__label {background-color: #d4ebff;}#sk-container-id-2 div.sk-serial::before {content: \"\";position: absolute;border-left: 1px solid gray;box-sizing: border-box;top: 0;bottom: 0;left: 50%;z-index: 0;}#sk-container-id-2 div.sk-serial {display: flex;flex-direction: column;align-items: center;background-color: white;padding-right: 0.2em;padding-left: 0.2em;position: relative;}#sk-container-id-2 div.sk-item {position: relative;z-index: 1;}#sk-container-id-2 div.sk-parallel {display: flex;align-items: stretch;justify-content: center;background-color: white;position: relative;}#sk-container-id-2 div.sk-item::before, #sk-container-id-2 div.sk-parallel-item::before {content: \"\";position: absolute;border-left: 1px solid gray;box-sizing: border-box;top: 0;bottom: 0;left: 50%;z-index: -1;}#sk-container-id-2 div.sk-parallel-item {display: flex;flex-direction: column;z-index: 1;position: relative;background-color: white;}#sk-container-id-2 div.sk-parallel-item:first-child::after {align-self: flex-end;width: 50%;}#sk-container-id-2 div.sk-parallel-item:last-child::after {align-self: flex-start;width: 50%;}#sk-container-id-2 div.sk-parallel-item:only-child::after {width: 0;}#sk-container-id-2 div.sk-dashed-wrapped {border: 1px dashed gray;margin: 0 0.4em 0.5em 0.4em;box-sizing: border-box;padding-bottom: 0.4em;background-color: white;}#sk-container-id-2 div.sk-label label {font-family: monospace;font-weight: bold;display: inline-block;line-height: 1.2em;}#sk-container-id-2 div.sk-label-container {text-align: center;}#sk-container-id-2 div.sk-container {/* jupyter's `normalize.less` sets `[hidden] { display: none; }` but bootstrap.min.css set `[hidden] { display: none !important; }` so we also need the `!important` here to be able to override the default hidden behavior on the sphinx rendered scikit-learn.org. See: https://github.com/scikit-learn/scikit-learn/issues/21755 */display: inline-block !important;position: relative;}#sk-container-id-2 div.sk-text-repr-fallback {display: none;}</style><div id=\"sk-container-id-2\" class=\"sk-top-container\"><div class=\"sk-text-repr-fallback\"><pre>RandomizedSearchCV(cv=StratifiedKFold(n_splits=3, random_state=0, shuffle=True),\n",
              "                   estimator=SVC(), n_iter=30, n_jobs=-1,\n",
              "                   param_distributions={&#x27;C&#x27;: array([1.e-03, 1.e-02, 1.e-01, 1.e+00, 1.e+01]),\n",
              "                                        &#x27;gamma&#x27;: [0.001, 0.01, 0.1, 1.0, 10.0,\n",
              "                                                  &#x27;scale&#x27;, &#x27;auto&#x27;],\n",
              "                                        &#x27;kernel&#x27;: [&#x27;rbf&#x27;, &#x27;poly&#x27;]},\n",
              "                   refit=&#x27;accuracy&#x27;, scoring=[&#x27;accuracy&#x27;])</pre><b>In a Jupyter environment, please rerun this cell to show the HTML representation or trust the notebook. <br />On GitHub, the HTML representation is unable to render, please try loading this page with nbviewer.org.</b></div><div class=\"sk-container\" hidden><div class=\"sk-item sk-dashed-wrapped\"><div class=\"sk-label-container\"><div class=\"sk-label sk-toggleable\"><input class=\"sk-toggleable__control sk-hidden--visually\" id=\"sk-estimator-id-2\" type=\"checkbox\" ><label for=\"sk-estimator-id-2\" class=\"sk-toggleable__label sk-toggleable__label-arrow\">RandomizedSearchCV</label><div class=\"sk-toggleable__content\"><pre>RandomizedSearchCV(cv=StratifiedKFold(n_splits=3, random_state=0, shuffle=True),\n",
              "                   estimator=SVC(), n_iter=30, n_jobs=-1,\n",
              "                   param_distributions={&#x27;C&#x27;: array([1.e-03, 1.e-02, 1.e-01, 1.e+00, 1.e+01]),\n",
              "                                        &#x27;gamma&#x27;: [0.001, 0.01, 0.1, 1.0, 10.0,\n",
              "                                                  &#x27;scale&#x27;, &#x27;auto&#x27;],\n",
              "                                        &#x27;kernel&#x27;: [&#x27;rbf&#x27;, &#x27;poly&#x27;]},\n",
              "                   refit=&#x27;accuracy&#x27;, scoring=[&#x27;accuracy&#x27;])</pre></div></div></div><div class=\"sk-parallel\"><div class=\"sk-parallel-item\"><div class=\"sk-item\"><div class=\"sk-label-container\"><div class=\"sk-label sk-toggleable\"><input class=\"sk-toggleable__control sk-hidden--visually\" id=\"sk-estimator-id-3\" type=\"checkbox\" ><label for=\"sk-estimator-id-3\" class=\"sk-toggleable__label sk-toggleable__label-arrow\">estimator: SVC</label><div class=\"sk-toggleable__content\"><pre>SVC()</pre></div></div></div><div class=\"sk-serial\"><div class=\"sk-item\"><div class=\"sk-estimator sk-toggleable\"><input class=\"sk-toggleable__control sk-hidden--visually\" id=\"sk-estimator-id-4\" type=\"checkbox\" ><label for=\"sk-estimator-id-4\" class=\"sk-toggleable__label sk-toggleable__label-arrow\">SVC</label><div class=\"sk-toggleable__content\"><pre>SVC()</pre></div></div></div></div></div></div></div></div></div></div>"
            ]
          },
          "metadata": {},
          "execution_count": 98
        }
      ]
    },
    {
      "cell_type": "code",
      "source": [
        "# Print the best accuracy score for the training dataset\n",
        "print(f'The best accuracy score for the training dataset is {random_result.best_score_:.4f}')\n",
        "\n",
        "# Print the hyperparameters for the best score\n",
        "print(f'The best hyperparameters are {random_result.best_params_}')\n",
        "\n",
        "# Print the best accuracy score for the testing dataset\n",
        "print(f'The accuracy score for the testing dataset is {random_search.score(X_test_transformed, y_test):.4f}')"
      ],
      "metadata": {
        "colab": {
          "base_uri": "https://localhost:8080/"
        },
        "id": "GihNUPyBZBiw",
        "outputId": "2b682399-7d69-40ad-9382-ba8c4277b40c"
      },
      "execution_count": null,
      "outputs": [
        {
          "output_type": "stream",
          "name": "stdout",
          "text": [
            "The best accuracy score for the training dataset is 0.9994\n",
            "The best hyperparameters are {'kernel': 'poly', 'gamma': 10.0, 'C': 10.0}\n",
            "The accuracy score for the testing dataset is 0.9999\n"
          ]
        }
      ]
    },
    {
      "cell_type": "markdown",
      "source": [
        "**Training Data**"
      ],
      "metadata": {
        "id": "_m2xoiEdGxIH"
      }
    },
    {
      "cell_type": "code",
      "source": [
        "random_train_svc = random_search.predict(X_train_transformed)"
      ],
      "metadata": {
        "id": "c5ZTR_KxGzY9"
      },
      "execution_count": null,
      "outputs": []
    },
    {
      "cell_type": "code",
      "source": [
        "print(confusion_matrix(y_train,random_train_svc))"
      ],
      "metadata": {
        "colab": {
          "base_uri": "https://localhost:8080/"
        },
        "id": "JKIxLAD8Lx8_",
        "outputId": "b0465a11-8222-4cbb-f1a5-7856d3e334ea"
      },
      "execution_count": null,
      "outputs": [
        {
          "output_type": "stream",
          "name": "stdout",
          "text": [
            "[[14279     0]\n",
            " [    0 35825]]\n"
          ]
        }
      ]
    },
    {
      "cell_type": "code",
      "source": [
        "print(classification_report(y_train,random_train_svc))"
      ],
      "metadata": {
        "colab": {
          "base_uri": "https://localhost:8080/"
        },
        "id": "aB0E97eCL1cU",
        "outputId": "52c61730-95d7-4da5-f93b-eaaafa093b70"
      },
      "execution_count": null,
      "outputs": [
        {
          "output_type": "stream",
          "name": "stdout",
          "text": [
            "              precision    recall  f1-score   support\n",
            "\n",
            "           0       1.00      1.00      1.00     14279\n",
            "           1       1.00      1.00      1.00     35825\n",
            "\n",
            "    accuracy                           1.00     50104\n",
            "   macro avg       1.00      1.00      1.00     50104\n",
            "weighted avg       1.00      1.00      1.00     50104\n",
            "\n"
          ]
        }
      ]
    },
    {
      "cell_type": "markdown",
      "source": [
        "**Testing Data**"
      ],
      "metadata": {
        "id": "N9mkjZI8MKGk"
      }
    },
    {
      "cell_type": "code",
      "source": [
        "random_test_svc = random_search.predict(X_test_transformed)"
      ],
      "metadata": {
        "id": "B7Dgd3_oMLzy"
      },
      "execution_count": null,
      "outputs": []
    },
    {
      "cell_type": "code",
      "source": [
        "print(confusion_matrix(y_test,random_test_svc))"
      ],
      "metadata": {
        "colab": {
          "base_uri": "https://localhost:8080/"
        },
        "id": "4A1jDn_aMNxd",
        "outputId": "d52209a0-5589-4d75-e1d3-40f739b15d69"
      },
      "execution_count": null,
      "outputs": [
        {
          "output_type": "stream",
          "name": "stdout",
          "text": [
            "[[3593    1]\n",
            " [   0 8932]]\n"
          ]
        }
      ]
    },
    {
      "cell_type": "code",
      "source": [
        "print(classification_report(y_test,random_test_svc))"
      ],
      "metadata": {
        "colab": {
          "base_uri": "https://localhost:8080/"
        },
        "id": "0Xa4UVymMRYk",
        "outputId": "7eeb9a31-ac67-4e8c-d983-2b3ff0442114"
      },
      "execution_count": null,
      "outputs": [
        {
          "output_type": "stream",
          "name": "stdout",
          "text": [
            "              precision    recall  f1-score   support\n",
            "\n",
            "           0       1.00      1.00      1.00      3594\n",
            "           1       1.00      1.00      1.00      8932\n",
            "\n",
            "    accuracy                           1.00     12526\n",
            "   macro avg       1.00      1.00      1.00     12526\n",
            "weighted avg       1.00      1.00      1.00     12526\n",
            "\n"
          ]
        }
      ]
    }
  ]
}